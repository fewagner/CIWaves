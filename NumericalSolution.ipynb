{
 "cells": [
  {
   "cell_type": "markdown",
   "metadata": {},
   "source": [
    "### Imports"
   ]
  },
  {
   "cell_type": "code",
   "execution_count": 1,
   "metadata": {
    "ExecuteTime": {
     "end_time": "2019-11-02T16:37:30.522631Z",
     "start_time": "2019-11-02T16:37:30.517771Z"
    }
   },
   "outputs": [],
   "source": [
    "import numpy as np\n",
    "import matplotlib.pyplot as plt\n",
    "from scipy.integrate import odeint, ode\n",
    "from scipy import interpolate\n",
    "from types import SimpleNamespace\n",
    "from matplotlib.ticker import ScalarFormatter, AutoMinorLocator\n",
    "import matplotlib as mpl\n",
    "from os.path import expanduser\n",
    "\n",
    "from lib.utils_generate_n import n_r, n_i\n",
    "from lib.utils_generate_W import get_grid, gauss_dist\n",
    "from lib.utils_general import diff_same_length"
   ]
  },
  {
   "cell_type": "code",
   "execution_count": 7,
   "metadata": {
    "ExecuteTime": {
     "end_time": "2019-11-02T16:36:31.275510Z",
     "start_time": "2019-11-02T16:36:31.272471Z"
    }
   },
   "outputs": [],
   "source": [
    "# plt.rcParams['figure.figsize'] = [15,10]"
   ]
  },
  {
   "cell_type": "code",
   "execution_count": 2,
   "metadata": {
    "ExecuteTime": {
     "end_time": "2019-11-02T16:36:32.403839Z",
     "start_time": "2019-11-02T16:36:32.399638Z"
    }
   },
   "outputs": [],
   "source": [
    "half_width = 5\n",
    "nmbr_points = 10000\n",
    "grid, stepsize = get_grid(half_width, nmbr_points)"
   ]
  },
  {
   "cell_type": "code",
   "execution_count": 4,
   "metadata": {
    "ExecuteTime": {
     "end_time": "2019-11-02T17:02:06.910791Z",
     "start_time": "2019-11-02T17:02:06.907892Z"
    }
   },
   "outputs": [],
   "source": [
    "home = expanduser(\"~\")\n",
    "path_here = home + '/MEGAsync/Projektarbeit/Code/'\n",
    "#path_here = home + '/MEGA/MEGAsync/Projektarbeit/Code/'\n",
    "path_plots = 'plots/'"
   ]
  },
  {
   "cell_type": "markdown",
   "metadata": {},
   "source": [
    "### Plot Configurations"
   ]
  },
  {
   "cell_type": "code",
   "execution_count": 5,
   "metadata": {
    "ExecuteTime": {
     "end_time": "2019-11-02T17:01:36.978169Z",
     "start_time": "2019-11-02T17:01:36.971367Z"
    }
   },
   "outputs": [],
   "source": [
    "# ----------------------------m-----------------\n",
    "# PLOT CONFIGURATIONS\n",
    "# ---------------------------------------------\n",
    "\n",
    "# Change to the directory which contains the current script\n",
    "# dirFile = os.path.dirname(os.path.join(path_here,\n",
    "#                                        'evaluate_model.py'))\n",
    "# Load style file\n",
    "plt.style.use('file://' + path_here + 'PaperDoubleFig.mplstyle')\n",
    "# Make some style choices for plotting\n",
    "colourWheel = ['#329932',\n",
    "               '#ff6961',\n",
    "               'b',\n",
    "               '#6a3d9a',\n",
    "               '#fb9a99',\n",
    "               '#e31a1c',\n",
    "               '#fdbf6f',\n",
    "               '#ff7f00',\n",
    "               '#cab2d6',\n",
    "               '#6a3d9a',\n",
    "               '#ffff99',\n",
    "               '#b15928',\n",
    "               '#67001f',\n",
    "               '#b2182b',\n",
    "               '#d6604d',\n",
    "               '#f4a582',\n",
    "               '#fddbc7',\n",
    "               '#f7f7f7',\n",
    "               '#d1e5f0',\n",
    "               '#92c5de',\n",
    "               '#4393c3',\n",
    "               '#2166ac',\n",
    "               '#053061']\n",
    "dashesStyles = [[3, 1],\n",
    "                [1000, 1],\n",
    "                [2, 1, 10, 1],\n",
    "                [4, 1, 1, 1, 1, 1]]"
   ]
  },
  {
   "cell_type": "markdown",
   "metadata": {},
   "source": [
    "### Plot Gauss-W and n"
   ]
  },
  {
   "cell_type": "markdown",
   "metadata": {},
   "source": [
    "Tatsächlich beeinflusst der k-Wert die Form von nr soweit, dass das Netz mglw den k-Wert aus der Form von nr auswendig lernen könnte, wenn als W immer nur die selben Gauss-Glocken verwendet werden."
   ]
  },
  {
   "cell_type": "code",
   "execution_count": 8,
   "metadata": {
    "ExecuteTime": {
     "end_time": "2019-11-03T11:21:42.745680Z",
     "start_time": "2019-11-03T11:21:41.858065Z"
    }
   },
   "outputs": [
    {
     "data": {
      "image/png": "[encoded data removed]",
      "text/plain": [
       "<Figure size 518.4x320.4 with 1 Axes>"
      ]
     },
     "metadata": {
      "needs_background": "light"
     },
     "output_type": "display_data"
    }
   ],
   "source": [
    "W = 10*gauss_dist(0,1,grid) + 1\n",
    "dW = diff_same_length(W, stepsize)\n",
    "\n",
    "plt.close('all')\n",
    "fig, ax = plt.subplots()\n",
    "alphaVal = 1#0.6\n",
    "linethick = 1\n",
    "\n",
    "plt.plot(grid,\n",
    "         W, \n",
    "         color=colourWheel[0 % len(colourWheel)],\n",
    "         linestyle='-',\n",
    "         dashes=dashesStyles[0 % len(dashesStyles)],\n",
    "         lw=linethick,\n",
    "         label = r'W(x)',\n",
    "         alpha=alphaVal)\n",
    "plt.plot(grid,\n",
    "         dW, \n",
    "         color=colourWheel[1 % len(colourWheel)],\n",
    "         linestyle='-',\n",
    "         dashes=dashesStyles[1 % len(dashesStyles)],\n",
    "         lw=linethick,\n",
    "         label = r'$\\frac{d}{dx}$ W(x)',\n",
    "         alpha=alphaVal)\n",
    "\n",
    "ax.set_xlabel('')\n",
    "ax.yaxis.set_major_formatter(ScalarFormatter())\n",
    "ax.yaxis.major.formatter._useMathText = True\n",
    "ax.yaxis.set_minor_locator(AutoMinorLocator(5))\n",
    "ax.xaxis.set_minor_locator(AutoMinorLocator(5))\n",
    "ax.yaxis.set_label_coords(0.53, 1.01)\n",
    "ax.yaxis.tick_right()\n",
    "nameOfPlot = 'Gauss Function as Auxiliary Function W(x)'\n",
    "plt.ylabel(nameOfPlot, rotation=0)\n",
    "\n",
    "# Shrink current axis's height by 10% on the bottom\n",
    "box = ax.get_position()\n",
    "ax.set_position([box.x0, box.y0 + box.height * 0.1,\n",
    "                 box.width, box.height * 0.9])\n",
    "\n",
    "# Put a legend below current axis\n",
    "legend = ax.legend(frameon=False,\n",
    "                   loc='upper center',\n",
    "                   bbox_to_anchor=(0.5, -0.05),\n",
    "                   ncol=4)\n",
    "\n",
    "fig.savefig(path_plots + 'GaussW.pdf', bbox_inches=\"tight\", dpi=300)\n",
    "plt.show()"
   ]
  },
  {
   "cell_type": "code",
   "execution_count": 48,
   "metadata": {
    "ExecuteTime": {
     "end_time": "2019-11-03T11:21:34.386826Z",
     "start_time": "2019-11-03T11:21:33.220441Z"
    }
   },
   "outputs": [
    {
     "data": {
      "image/png": "[encoded data removed]",
      "text/plain": [
       "<Figure size 518.4x320.4 with 1 Axes>"
      ]
     },
     "metadata": {
      "needs_background": "light"
     },
     "output_type": "display_data"
    }
   ],
   "source": [
    "plt.close('all')\n",
    "fig, ax = plt.subplots()\n",
    "alphaVal = 1#0.6\n",
    "linethick = 1\n",
    "\n",
    "for i,k in enumerate([1, 4, 10]):\n",
    "    nr = n_r(W, dW, grid, k)\n",
    "    ni = n_i(dW, nr, grid, k)\n",
    "    \n",
    "    plt.plot(grid,\n",
    "         nr, \n",
    "         color=colourWheel[(2*i) % len(colourWheel)],\n",
    "         linestyle='-',\n",
    "         dashes=dashesStyles[(2*i) % len(dashesStyles)],\n",
    "         lw=linethick,\n",
    "         label = r'$n_r$, k = ' + str(k),\n",
    "         alpha=alphaVal)\n",
    "\n",
    "    plt.plot(grid,\n",
    "         ni, \n",
    "         color=colourWheel[(2*i + 1) % len(colourWheel)],\n",
    "         linestyle='-',\n",
    "         dashes=dashesStyles[(2*i + 1) % len(dashesStyles)],\n",
    "         lw=linethick,\n",
    "         label = r'$n_i$, k = ' + str(k),\n",
    "         alpha=alphaVal)    \n",
    "    \n",
    "ax.set_xlabel('')\n",
    "ax.yaxis.set_major_formatter(ScalarFormatter())\n",
    "ax.yaxis.major.formatter._useMathText = True\n",
    "ax.yaxis.set_minor_locator(AutoMinorLocator(5))\n",
    "ax.xaxis.set_minor_locator(AutoMinorLocator(5))\n",
    "ax.yaxis.set_label_coords(0.53, 1.01)\n",
    "ax.yaxis.tick_right()\n",
    "nameOfPlot = '$n_r$, $n_i$ calculated from $W = 10 \\cdot \\mathcal{N}(0,1) + 1$'\n",
    "plt.ylabel(nameOfPlot, rotation=0)\n",
    "\n",
    "# Shrink current axis's height by 10% on the bottom\n",
    "box = ax.get_position()\n",
    "ax.set_position([box.x0, box.y0 + box.height * 0.1,\n",
    "                 box.width, box.height * 0.9])\n",
    "\n",
    "# Put a legend below current axis\n",
    "legend = ax.legend(frameon=False,\n",
    "                   loc='upper center',\n",
    "                   bbox_to_anchor=(0.5, -0.05),\n",
    "                   ncol=4)\n",
    "\n",
    "fig.savefig(path_plots + 'Gauss_nrni.pdf', bbox_inches=\"tight\", dpi=300)\n",
    "plt.show()"
   ]
  },
  {
   "cell_type": "markdown",
   "metadata": {},
   "source": [
    "Deshalb neues Datenset mit unterschiedlichen sigmas bei den Gauss-Gocken und mehreren k's zu selbigem W, dann sollte das erkennen des k-Wertes aus nr nicht mehr möglich sein."
   ]
  },
  {
   "cell_type": "markdown",
   "metadata": {},
   "source": [
    "### Andres Bootstrapping Approach"
   ]
  },
  {
   "cell_type": "code",
   "execution_count": 40,
   "metadata": {
    "ExecuteTime": {
     "end_time": "2019-11-03T11:16:35.167738Z",
     "start_time": "2019-11-03T11:16:35.160042Z"
    }
   },
   "outputs": [],
   "source": [
    "def solve_ni(nr, ni0, ni1, k, stepsize):\n",
    "    \n",
    "    ni = np.zeros(len(nr))\n",
    "    W = np.zeros(len(nr))\n",
    "    dW = np.zeros(len(nr))\n",
    "    \n",
    "    ni[0] = ni0\n",
    "    ni[1] = ni1\n",
    "    W[0] = np.sqrt(nr[0]**2 - ni[0]**2)\n",
    "    W[1] = np.sqrt(nr[1]**2 - ni[1]**2)\n",
    "    dW[1] = (W[1] - W[0])/stepsize\n",
    "    #print('dW[1]', dW[1])\n",
    "    \n",
    "    for i in range(2,len(nr)):\n",
    "        ni[i] = - dW[i-1]/(2*k*nr[i])\n",
    "        #print('ni[i]', ni[i])\n",
    "        W[i] = np.sqrt(nr[i]**2 - ni[i]**2)\n",
    "        dW[i] = (W[i] - W[i-1])/stepsize\n",
    "        \n",
    "    return W, ni"
   ]
  },
  {
   "cell_type": "code",
   "execution_count": 41,
   "metadata": {
    "ExecuteTime": {
     "end_time": "2019-11-03T11:16:42.619031Z",
     "start_time": "2019-11-03T11:16:42.541260Z"
    }
   },
   "outputs": [
    {
     "name": "stderr",
     "output_type": "stream",
     "text": [
      "/usr/local/lib/python3.7/dist-packages/ipykernel_launcher.py:17: RuntimeWarning: invalid value encountered in sqrt\n"
     ]
    }
   ],
   "source": [
    "W_approx, ni_approx = solve_ni(nr, ni[0], ni[1], 1, stepsize)"
   ]
  },
  {
   "cell_type": "code",
   "execution_count": 47,
   "metadata": {
    "ExecuteTime": {
     "end_time": "2019-11-03T11:21:15.778948Z",
     "start_time": "2019-11-03T11:21:14.912650Z"
    }
   },
   "outputs": [
    {
     "data": {
      "image/png": "[encoded data removed]",
      "text/plain": [
       "<Figure size 518.4x320.4 with 1 Axes>"
      ]
     },
     "metadata": {
      "needs_background": "light"
     },
     "output_type": "display_data"
    }
   ],
   "source": [
    "frame = 10000\n",
    "\n",
    "plt.close('all')\n",
    "fig, ax = plt.subplots()\n",
    "alphaVal = 1#0.6\n",
    "linethick = 1\n",
    "\n",
    "plt.plot(grid[:frame],\n",
    "         W[:frame], \n",
    "         color=colourWheel[(0) % len(colourWheel)],\n",
    "         linestyle='-',\n",
    "         dashes=dashesStyles[(0) % len(dashesStyles)],\n",
    "         lw=linethick,\n",
    "         label='W',\n",
    "         alpha=alphaVal)\n",
    "plt.plot(grid[:frame],\n",
    "         W_approx[:frame], \n",
    "         color=colourWheel[(1) % len(colourWheel)],\n",
    "         linestyle='-',\n",
    "         dashes=dashesStyles[(1) % len(dashesStyles)],\n",
    "         lw=linethick,\n",
    "         label='$W_{approx}$',\n",
    "         alpha=alphaVal)\n",
    "\n",
    "ax.set_xlabel('')\n",
    "ax.yaxis.set_major_formatter(ScalarFormatter())\n",
    "ax.yaxis.major.formatter._useMathText = True\n",
    "ax.yaxis.set_minor_locator(AutoMinorLocator(5))\n",
    "ax.xaxis.set_minor_locator(AutoMinorLocator(5))\n",
    "ax.yaxis.set_label_coords(0.53, 1.01)\n",
    "ax.yaxis.tick_right()\n",
    "nameOfPlot = '$W_{approx}$ from bootstrapping method'\n",
    "plt.ylabel(nameOfPlot, rotation=0)\n",
    "\n",
    "# Shrink current axis's height by 10% on the bottom\n",
    "box = ax.get_position()\n",
    "ax.set_position([box.x0, box.y0 + box.height * 0.1,\n",
    "                 box.width, box.height * 0.9])\n",
    "\n",
    "# Put a legend below current axis\n",
    "legend = ax.legend(frameon=False,\n",
    "                   loc='upper center',\n",
    "                   bbox_to_anchor=(0.5, -0.05),\n",
    "                   ncol=4)\n",
    "\n",
    "fig.savefig(path_plots + 'bootstrap_all.pdf', bbox_inches=\"tight\", dpi=300)\n",
    "plt.show()"
   ]
  },
  {
   "cell_type": "code",
   "execution_count": 67,
   "metadata": {
    "ExecuteTime": {
     "end_time": "2019-11-03T11:26:30.373897Z",
     "start_time": "2019-11-03T11:26:29.507627Z"
    }
   },
   "outputs": [
    {
     "data": {
      "image/png": "[encoded data removed]",
      "text/plain": [
       "<Figure size 518.4x320.4 with 1 Axes>"
      ]
     },
     "metadata": {
      "needs_background": "light"
     },
     "output_type": "display_data"
    }
   ],
   "source": [
    "frame = 1200\n",
    "\n",
    "plt.close('all')\n",
    "fig, ax = plt.subplots()\n",
    "alphaVal = 1#0.6\n",
    "linethick = 1\n",
    "\n",
    "plt.plot(grid[:frame],\n",
    "         W[:frame], \n",
    "         color=colourWheel[(0) % len(colourWheel)],\n",
    "         linestyle='-',\n",
    "         dashes=dashesStyles[(0) % len(dashesStyles)],\n",
    "         lw=linethick,\n",
    "         label='W',\n",
    "         alpha=alphaVal)\n",
    "plt.plot(grid[:frame],\n",
    "         W_approx[:frame], \n",
    "         color=colourWheel[(1) % len(colourWheel)],\n",
    "         linestyle='-',\n",
    "         dashes=dashesStyles[(1) % len(dashesStyles)],\n",
    "         lw=linethick,\n",
    "         label='$W_{approx}$',\n",
    "         alpha=alphaVal)\n",
    "\n",
    "plt.ylim(1.0004, 1.001)\n",
    "plt.xlim(-3.95, -3.85)\n",
    "\n",
    "ax.set_xlabel('')\n",
    "ax.yaxis.set_major_formatter(ScalarFormatter())\n",
    "ax.yaxis.major.formatter._useMathText = True\n",
    "ax.yaxis.set_minor_locator(AutoMinorLocator(5))\n",
    "ax.xaxis.set_minor_locator(AutoMinorLocator(5))\n",
    "ax.yaxis.set_label_coords(0.53, 1.01)\n",
    "ax.yaxis.tick_right()\n",
    "nameOfPlot = '$W_{approx}$ from bootstrapping method, zoomed'\n",
    "plt.ylabel(nameOfPlot, rotation=0)\n",
    "\n",
    "# Shrink current axis's height by 10% on the bottom\n",
    "box = ax.get_position()\n",
    "ax.set_position([box.x0, box.y0 + box.height * 0.1,\n",
    "                 box.width, box.height * 0.9])\n",
    "\n",
    "# Put a legend below current axis\n",
    "legend = ax.legend(frameon=False,\n",
    "                   loc='upper center',\n",
    "                   bbox_to_anchor=(0.5, -0.05),\n",
    "                   ncol=4)\n",
    "\n",
    "fig.savefig(path_plots + 'bootstrap_small.pdf', bbox_inches=\"tight\", dpi=300)\n",
    "plt.show()"
   ]
  },
  {
   "cell_type": "markdown",
   "metadata": {},
   "source": [
    "### Check if ODE is correct"
   ]
  },
  {
   "cell_type": "code",
   "execution_count": 81,
   "metadata": {
    "ExecuteTime": {
     "end_time": "2019-11-03T11:37:36.774436Z",
     "start_time": "2019-11-03T11:37:36.766159Z"
    }
   },
   "outputs": [],
   "source": [
    "def dni(ni,nr,dnr,k):\n",
    "    if ni == 0:\n",
    "        if dnr == 0:\n",
    "            dni1, dni2 = 0, 0\n",
    "        else:\n",
    "            print('dnr should be = 0 here')\n",
    "            dni1, dni2 = 2.17, 2.17 # some value that raises error\n",
    "    else:\n",
    "        dni1 = (nr*dnr + 2*k*nr*ni*np.sqrt(nr**2 - ni**2)) / ni\n",
    "        dni2 = (nr*dnr - 2*k*nr*ni*np.sqrt(nr**2 - ni**2)) / ni\n",
    "    return dni1, dni2"
   ]
  },
  {
   "cell_type": "code",
   "execution_count": 82,
   "metadata": {
    "ExecuteTime": {
     "end_time": "2019-11-03T11:37:40.867227Z",
     "start_time": "2019-11-03T11:37:40.860792Z"
    }
   },
   "outputs": [
    {
     "name": "stdout",
     "output_type": "stream",
     "text": [
      "nr[9000]: 1.0005344724213678\n",
      "dnr[9000]: -0.0021358564363797654\n",
      "ni[9000]: 0.0010652415335555916\n",
      "dni[9000]: -0.003986036978048941\n",
      "+ solution:  -0.0039785877529011195\n",
      "- solution:  -4.008253240287228\n"
     ]
    }
   ],
   "source": [
    "idx=9000\n",
    "print('nr[{}]: {}'.format(idx,nr[idx]))\n",
    "print('dnr[{}]: {}'.format(idx,nr_diff[idx]))\n",
    "print('ni[{}]: {}'.format(idx,ni[idx]))\n",
    "print('dni[{}]: {}'.format(idx,ni_diff[idx]))\n",
    "\n",
    "ni_diff_fps, ni_diff_fms = dni(ni[idx], nr[idx], nr_diff[idx], k)\n",
    "print('+ solution: ', ni_diff_fps)\n",
    "print('- solution: ', ni_diff_fms)\n",
    "\n",
    "# obviously the positive solution is what we need\n",
    "# this formula works incredibly well, as long as ni is not 0"
   ]
  },
  {
   "cell_type": "code",
   "execution_count": 99,
   "metadata": {
    "ExecuteTime": {
     "end_time": "2019-11-03T11:57:49.991030Z",
     "start_time": "2019-11-03T11:57:48.766255Z"
    }
   },
   "outputs": [
    {
     "data": {
      "image/png": "[encoded data removed]",
      "text/plain": [
       "<Figure size 518.4x320.4 with 1 Axes>"
      ]
     },
     "metadata": {
      "needs_background": "light"
     },
     "output_type": "display_data"
    }
   ],
   "source": [
    "plt.close('all')\n",
    "fig, ax = plt.subplots()\n",
    "alphaVal = 1#0.6\n",
    "linethick = 1\n",
    "\n",
    "ni_diff_fp = np.zeros(len(grid))\n",
    "ni_diff_fm = np.zeros(len(grid))\n",
    "\n",
    "for i in range(len(grid)):\n",
    "    ni_diff_fp[i] = dni(ni[i], nr[i], nr_diff[i], k)[0]\n",
    "    ni_diff_fm[i] = dni(ni[i], nr[i], nr_diff[i], k)[1]\n",
    "    \n",
    "plt.plot(grid,\n",
    "         nr, \n",
    "         color=colourWheel[(0) % len(colourWheel)],\n",
    "         linestyle='-',\n",
    "         dashes=dashesStyles[(0) % len(dashesStyles)],\n",
    "         lw=linethick,\n",
    "         label='$n_{r,W}$',\n",
    "         alpha=alphaVal)\n",
    "\n",
    "plt.plot(grid,\n",
    "         ni, \n",
    "         color=colourWheel[(1) % len(colourWheel)],\n",
    "         linestyle='-',\n",
    "         dashes=dashesStyles[(1) % len(dashesStyles)],\n",
    "         lw=linethick,\n",
    "         label='$n_{i,W}$',\n",
    "         alpha=alphaVal)\n",
    "\n",
    "plt.plot(grid,\n",
    "         nr_diff, \n",
    "         color=colourWheel[(2) % len(colourWheel)],\n",
    "         linestyle='-',\n",
    "         dashes=dashesStyles[(2) % len(dashesStyles)],\n",
    "         lw=linethick,\n",
    "         label='$n\\prime_{r,W}$',\n",
    "         alpha=alphaVal)\n",
    "\n",
    "plt.plot(grid,\n",
    "         ni_diff, \n",
    "         color=colourWheel[(3) % len(colourWheel)],\n",
    "         linestyle='-',\n",
    "         dashes=dashesStyles[(3) % len(dashesStyles)],\n",
    "         lw=linethick,\n",
    "         label='$n\\prime_{i,W}$',\n",
    "         alpha=alphaVal)\n",
    "\n",
    "plt.plot(grid, \n",
    "         ni_diff_fp, \n",
    "         color=colourWheel[(4) % len(colourWheel)],\n",
    "         linestyle='-',\n",
    "         dashes=dashesStyles[(4) % len(dashesStyles)],\n",
    "         lw=linethick,\n",
    "         label='$n\\prime_{i,ODE,+}$',\n",
    "         alpha=alphaVal)\n",
    "\n",
    "# plt.plot(grid, \n",
    "#          ni_diff_fm, \n",
    "#          color=colourWheel[(5) % len(colourWheel)],\n",
    "#          linestyle='-',\n",
    "#          dashes=dashesStyles[(5) % len(dashesStyles)],\n",
    "#          lw=linethick, \n",
    "#          label='$n\\prime_{i,ODE,-}$',\n",
    "#          alpha=alphaVal)\n",
    "\n",
    "# plt.plot(grid, \n",
    "#          np.zeros(len(grid)),\n",
    "#          color=colourWheel[(6) % len(colourWheel)],\n",
    "#          linestyle='-',\n",
    "#          dashes=dashesStyles[(6) % len(dashesStyles)],\n",
    "#          lw=linethick,\n",
    "#          alpha=alphaVal)\n",
    "\n",
    "ax.set_xlabel('')\n",
    "ax.yaxis.set_major_formatter(ScalarFormatter())\n",
    "ax.yaxis.major.formatter._useMathText = True\n",
    "ax.yaxis.set_minor_locator(AutoMinorLocator(5))\n",
    "ax.xaxis.set_minor_locator(AutoMinorLocator(5))\n",
    "ax.yaxis.set_label_coords(0.53, 1.01)\n",
    "ax.yaxis.tick_right()\n",
    "nameOfPlot = '$n_i$ from W-method and positive ODE root'\n",
    "plt.ylabel(nameOfPlot, rotation=0)\n",
    "\n",
    "# Shrink current axis's height by 10% on the bottom\n",
    "box = ax.get_position()\n",
    "ax.set_position([box.x0, box.y0 + box.height * 0.1,\n",
    "                 box.width, box.height * 0.9])\n",
    "\n",
    "# Put a legend below current axis\n",
    "legend = ax.legend(frameon=False,\n",
    "                   loc='upper center',\n",
    "                   bbox_to_anchor=(0.5, -0.05),\n",
    "                   ncol=4)\n",
    "\n",
    "fig.savefig(path_plots + 'ni_ODEp_W.pdf', bbox_inches=\"tight\", dpi=300)\n",
    "plt.show()"
   ]
  },
  {
   "cell_type": "code",
   "execution_count": 100,
   "metadata": {
    "ExecuteTime": {
     "end_time": "2019-11-03T11:57:55.855943Z",
     "start_time": "2019-11-03T11:57:54.716564Z"
    }
   },
   "outputs": [
    {
     "data": {
      "image/png": "[encoded data removed]",
      "text/plain": [
       "<Figure size 518.4x320.4 with 1 Axes>"
      ]
     },
     "metadata": {
      "needs_background": "light"
     },
     "output_type": "display_data"
    }
   ],
   "source": [
    "plt.close('all')\n",
    "fig, ax = plt.subplots()\n",
    "alphaVal = 1#0.6\n",
    "linethick = 1\n",
    "\n",
    "ni_diff_fp = np.zeros(len(grid))\n",
    "ni_diff_fm = np.zeros(len(grid))\n",
    "\n",
    "for i in range(len(grid)):\n",
    "    ni_diff_fp[i] = dni(ni[i], nr[i], nr_diff[i], k)[0]\n",
    "    ni_diff_fm[i] = dni(ni[i], nr[i], nr_diff[i], k)[1]\n",
    "    \n",
    "plt.plot(grid,\n",
    "         nr, \n",
    "         color=colourWheel[(0) % len(colourWheel)],\n",
    "         linestyle='-',\n",
    "         dashes=dashesStyles[(0) % len(dashesStyles)],\n",
    "         lw=linethick,\n",
    "         label='$n_{r,W}$',\n",
    "         alpha=alphaVal)\n",
    "\n",
    "plt.plot(grid,\n",
    "         ni, \n",
    "         color=colourWheel[(1) % len(colourWheel)],\n",
    "         linestyle='-',\n",
    "         dashes=dashesStyles[(1) % len(dashesStyles)],\n",
    "         lw=linethick,\n",
    "         label='$n_{i,W}$',\n",
    "         alpha=alphaVal)\n",
    "\n",
    "plt.plot(grid,\n",
    "         nr_diff, \n",
    "         color=colourWheel[(2) % len(colourWheel)],\n",
    "         linestyle='-',\n",
    "         dashes=dashesStyles[(2) % len(dashesStyles)],\n",
    "         lw=linethick,\n",
    "         label='$n\\prime_{r,W}$',\n",
    "         alpha=alphaVal)\n",
    "\n",
    "plt.plot(grid,\n",
    "         ni_diff, \n",
    "         color=colourWheel[(3) % len(colourWheel)],\n",
    "         linestyle='-',\n",
    "         dashes=dashesStyles[(3) % len(dashesStyles)],\n",
    "         lw=linethick,\n",
    "         label='$n\\prime_{i,W}$',\n",
    "         alpha=alphaVal)\n",
    "\n",
    "# plt.plot(grid, \n",
    "#          ni_diff_fp, \n",
    "#          color=colourWheel[(4) % len(colourWheel)],\n",
    "#          linestyle='-',\n",
    "#          dashes=dashesStyles[(4) % len(dashesStyles)],\n",
    "#          lw=linethick,\n",
    "#          label='$n\\prime_{i,ODE,+}$',\n",
    "#          alpha=alphaVal)\n",
    "\n",
    "plt.plot(grid, \n",
    "         ni_diff_fm, \n",
    "         color=colourWheel[(5) % len(colourWheel)],\n",
    "         linestyle='-',\n",
    "         dashes=dashesStyles[(5) % len(dashesStyles)],\n",
    "         lw=linethick, \n",
    "         label='$n\\prime_{i,ODE,-}$',\n",
    "         alpha=alphaVal)\n",
    "\n",
    "# plt.plot(grid, \n",
    "#          np.zeros(len(grid)),\n",
    "#          color=colourWheel[(6) % len(colourWheel)],\n",
    "#          linestyle='-',\n",
    "#          dashes=dashesStyles[(6) % len(dashesStyles)],\n",
    "#          lw=linethick,\n",
    "#          alpha=alphaVal)\n",
    "\n",
    "ax.set_xlabel('')\n",
    "ax.yaxis.set_major_formatter(ScalarFormatter())\n",
    "ax.yaxis.major.formatter._useMathText = True\n",
    "ax.yaxis.set_minor_locator(AutoMinorLocator(5))\n",
    "ax.xaxis.set_minor_locator(AutoMinorLocator(5))\n",
    "ax.yaxis.set_label_coords(0.53, 1.01)\n",
    "ax.yaxis.tick_right()\n",
    "nameOfPlot = '$n_i$ from W-method and negative ODE root'\n",
    "plt.ylabel(nameOfPlot, rotation=0)\n",
    "\n",
    "# Shrink current axis's height by 10% on the bottom\n",
    "box = ax.get_position()\n",
    "ax.set_position([box.x0, box.y0 + box.height * 0.1,\n",
    "                 box.width, box.height * 0.9])\n",
    "\n",
    "# Put a legend below current axis\n",
    "legend = ax.legend(frameon=False,\n",
    "                   loc='upper center',\n",
    "                   bbox_to_anchor=(0.5, -0.05),\n",
    "                   ncol=4)\n",
    "\n",
    "fig.savefig(path_plots + 'ni_ODEm_W.pdf', bbox_inches=\"tight\", dpi=300)\n",
    "plt.show()"
   ]
  },
  {
   "cell_type": "markdown",
   "metadata": {},
   "source": [
    "### Integrate with Euler per Hand\n"
   ]
  },
  {
   "cell_type": "code",
   "execution_count": 101,
   "metadata": {
    "ExecuteTime": {
     "end_time": "2019-11-03T12:29:17.846226Z",
     "start_time": "2019-11-03T12:29:17.838819Z"
    }
   },
   "outputs": [],
   "source": [
    "ni_interp = interpolate.interp1d(grid, ni)\n",
    "\n",
    "args = SimpleNamespace(u = interpolate.interp1d(grid, nr),\n",
    "                       du = interpolate.interp1d(grid, nr_diff),\n",
    "                       k = k)\n",
    "\n",
    "def f(x, y, args): #ni, nr, dnr, k\n",
    "    return ( args.u(x)*args.du(x)/y + 2*k*args.u(x)*np.sqrt(np.abs(args.u(x))**2 - np.abs(y)**2))"
   ]
  },
  {
   "cell_type": "code",
   "execution_count": 102,
   "metadata": {
    "ExecuteTime": {
     "end_time": "2019-11-03T12:29:20.105278Z",
     "start_time": "2019-11-03T12:29:18.746548Z"
    }
   },
   "outputs": [
    {
     "name": "stderr",
     "output_type": "stream",
     "text": [
      "/usr/local/lib/python3.7/dist-packages/ipykernel_launcher.py:8: RuntimeWarning: invalid value encountered in sqrt\n",
      "  \n"
     ]
    }
   ],
   "source": [
    "sol = np.zeros(len(grid))\n",
    "sol[0] = ni[0]\n",
    "\n",
    "for i in range(len(grid)-1):\n",
    "    sol[i+1] = sol[i] + stepsize*f(grid[i], sol[i], args)"
   ]
  },
  {
   "cell_type": "code",
   "execution_count": 112,
   "metadata": {
    "ExecuteTime": {
     "end_time": "2019-11-03T12:37:29.181587Z",
     "start_time": "2019-11-03T12:37:28.248017Z"
    }
   },
   "outputs": [
    {
     "data": {
      "image/png": "[encoded data removed]",
      "text/plain": [
       "<Figure size 518.4x320.4 with 1 Axes>"
      ]
     },
     "metadata": {
      "needs_background": "light"
     },
     "output_type": "display_data"
    }
   ],
   "source": [
    "plt.close('all')\n",
    "fig, ax = plt.subplots()\n",
    "alphaVal = 1#0.6\n",
    "linethick = 1\n",
    "\n",
    "plt.plot(grid[:len(sol)],\n",
    "         nr[:len(sol)], \n",
    "         color=colourWheel[(0) % len(colourWheel)],\n",
    "         linestyle='-',\n",
    "         dashes=dashesStyles[(0) % len(dashesStyles)],\n",
    "         lw=linethick,\n",
    "         label='$n_r$',\n",
    "         alpha=alphaVal)\n",
    "\n",
    "plt.plot(grid[:len(sol)],\n",
    "         ni, \n",
    "         color=colourWheel[(1) % len(colourWheel)],\n",
    "         linestyle='-',\n",
    "         dashes=dashesStyles[(1) % len(dashesStyles)],\n",
    "         lw=linethick,\n",
    "         label='$n_{i,W}$',\n",
    "         alpha=alphaVal)\n",
    "\n",
    "plt.plot(grid[:len(sol)],\n",
    "         sol, \n",
    "         color=colourWheel[(2) % len(colourWheel)],\n",
    "         linestyle='-',\n",
    "         dashes=dashesStyles[(2) % len(dashesStyles)],\n",
    "         lw=linethick,\n",
    "         label='$n_{i,Euler}$',\n",
    "         alpha=alphaVal)\n",
    "\n",
    "ax.set_xlabel('')\n",
    "ax.yaxis.set_major_formatter(ScalarFormatter())\n",
    "ax.yaxis.major.formatter._useMathText = True\n",
    "ax.yaxis.set_minor_locator(AutoMinorLocator(5))\n",
    "ax.xaxis.set_minor_locator(AutoMinorLocator(5))\n",
    "ax.yaxis.set_label_coords(0.53, 1.01)\n",
    "ax.yaxis.tick_right()\n",
    "nameOfPlot = '$n_i$ calculated with Eulers Method'\n",
    "plt.ylabel(nameOfPlot, rotation=0)\n",
    "\n",
    "# Shrink current axis's height by 10% on the bottom\n",
    "box = ax.get_position()\n",
    "ax.set_position([box.x0, box.y0 + box.height * 0.1,\n",
    "                 box.width, box.height * 0.9])\n",
    "\n",
    "# Put a legend below current axis\n",
    "legend = ax.legend(frameon=False,\n",
    "                   loc='upper center',\n",
    "                   bbox_to_anchor=(0.5, -0.05),\n",
    "                   ncol=4)\n",
    "\n",
    "fig.savefig(path_plots + 'Euler.pdf', bbox_inches=\"tight\", dpi=300)\n",
    "plt.show()"
   ]
  },
  {
   "cell_type": "code",
   "execution_count": 111,
   "metadata": {
    "ExecuteTime": {
     "end_time": "2019-11-03T12:37:25.516516Z",
     "start_time": "2019-11-03T12:37:24.499481Z"
    }
   },
   "outputs": [
    {
     "data": {
      "image/png": "[encoded data removed]",
      "text/plain": [
       "<Figure size 518.4x320.4 with 1 Axes>"
      ]
     },
     "metadata": {
      "needs_background": "light"
     },
     "output_type": "display_data"
    }
   ],
   "source": [
    "plt.close('all')\n",
    "fig, ax = plt.subplots()\n",
    "alphaVal = 1#0.6\n",
    "linethick = 1\n",
    "\n",
    "plt.plot(grid[:len(sol)],\n",
    "         nr[:len(sol)], \n",
    "         color=colourWheel[(0) % len(colourWheel)],\n",
    "         linestyle='-',\n",
    "         dashes=dashesStyles[(0) % len(dashesStyles)],\n",
    "         lw=linethick,\n",
    "         label='$n_r$',\n",
    "         alpha=alphaVal)\n",
    "\n",
    "plt.plot(grid[:len(sol)],\n",
    "         ni, \n",
    "         color=colourWheel[(1) % len(colourWheel)],\n",
    "         linestyle='-',\n",
    "         dashes=dashesStyles[(1) % len(dashesStyles)],\n",
    "         lw=linethick,\n",
    "         label='$n_{i,W}$',\n",
    "         alpha=alphaVal)\n",
    "\n",
    "plt.plot(grid[:len(sol)],\n",
    "         sol, \n",
    "         color=colourWheel[(2) % len(colourWheel)],\n",
    "         linestyle='-',\n",
    "         dashes=dashesStyles[(2) % len(dashesStyles)],\n",
    "         lw=linethick,\n",
    "         label='$n_{i,Euler}$',\n",
    "         alpha=alphaVal)\n",
    "\n",
    "plt.ylim(-0.2, 1.2)\n",
    "plt.xlim(-5, -4)\n",
    "\n",
    "ax.set_xlabel('')\n",
    "ax.yaxis.set_major_formatter(ScalarFormatter())\n",
    "ax.yaxis.major.formatter._useMathText = True\n",
    "ax.yaxis.set_minor_locator(AutoMinorLocator(5))\n",
    "ax.xaxis.set_minor_locator(AutoMinorLocator(5))\n",
    "ax.yaxis.set_label_coords(0.53, 1.01)\n",
    "ax.yaxis.tick_right()\n",
    "nameOfPlot = '$n_i$ calculated with Eulers Method, zoomed'\n",
    "plt.ylabel(nameOfPlot, rotation=0)\n",
    "\n",
    "# Shrink current axis's height by 10% on the bottom\n",
    "box = ax.get_position()\n",
    "ax.set_position([box.x0, box.y0 + box.height * 0.1,\n",
    "                 box.width, box.height * 0.9])\n",
    "\n",
    "# Put a legend below current axis\n",
    "legend = ax.legend(frameon=False,\n",
    "                   loc='upper center',\n",
    "                   bbox_to_anchor=(0.5, -0.05),\n",
    "                   ncol=4)\n",
    "\n",
    "fig.savefig(path_plots + 'Euler_zoom.pdf', bbox_inches=\"tight\", dpi=300)\n",
    "plt.show()"
   ]
  },
  {
   "cell_type": "markdown",
   "metadata": {},
   "source": [
    "### Integrate ODE with SciPy"
   ]
  },
  {
   "cell_type": "code",
   "execution_count": 181,
   "metadata": {
    "ExecuteTime": {
     "end_time": "2019-11-03T12:53:26.422848Z",
     "start_time": "2019-11-03T12:53:26.411000Z"
    }
   },
   "outputs": [],
   "source": [
    "ni_interp = interpolate.interp1d(grid, ni)\n",
    "\n",
    "args = SimpleNamespace(u = interpolate.interp1d(grid, nr),\n",
    "                       du = interpolate.interp1d(grid, nr_diff),\n",
    "                       k = k)\n",
    "\n",
    "def f(x, y, args): #ni, nr, dnr, k\n",
    "    return args.u(x)*args.du(x)/y + 2*k*args.u(x)*np.sqrt(np.abs(args.u(x))**2 - np.abs(y)**2)\n",
    "\n",
    "func = lambda y,x : f(x,y, args)\n",
    "\n",
    "# funcneg = lambda y,x : fneg(x,y, args)\n",
    "\n",
    "ni0_half1 =  ni[0]- 0.0001 # error in the IV\n",
    "last_idx = 10000#10000"
   ]
  },
  {
   "cell_type": "code",
   "execution_count": 182,
   "metadata": {
    "ExecuteTime": {
     "end_time": "2019-11-03T12:53:28.150527Z",
     "start_time": "2019-11-03T12:53:27.846676Z"
    }
   },
   "outputs": [],
   "source": [
    "ni_sci_half1 = odeint(func , ni0_half1, grid[:last_idx])"
   ]
  },
  {
   "cell_type": "code",
   "execution_count": 184,
   "metadata": {
    "ExecuteTime": {
     "end_time": "2019-11-03T12:57:53.585883Z",
     "start_time": "2019-11-03T12:57:52.625062Z"
    }
   },
   "outputs": [
    {
     "data": {
      "image/png": "[encoded data removed]",
      "text/plain": [
       "<Figure size 518.4x320.4 with 1 Axes>"
      ]
     },
     "metadata": {
      "needs_background": "light"
     },
     "output_type": "display_data"
    }
   ],
   "source": [
    "plt.close('all')\n",
    "fig, ax = plt.subplots()\n",
    "alphaVal = 1#0.6\n",
    "linethick = 1\n",
    "\n",
    "plt.plot(grid[:last_idx],\n",
    "         nr[:last_idx], \n",
    "         color=colourWheel[(0) % len(colourWheel)],\n",
    "         linestyle='-',\n",
    "         dashes=dashesStyles[(0) % len(dashesStyles)],\n",
    "         lw=linethick,\n",
    "         label='$n_r$',\n",
    "         alpha=alphaVal)\n",
    "plt.plot(grid[:last_idx],\n",
    "         ni[:last_idx], \n",
    "         color=colourWheel[(1) % len(colourWheel)],\n",
    "         linestyle='-',\n",
    "         dashes=dashesStyles[(1) % len(dashesStyles)],\n",
    "         lw=linethick,\n",
    "         label='$n_{i,W}$',\n",
    "         alpha=alphaVal)\n",
    "plt.plot(grid[:last_idx],\n",
    "         ni_sci_half1[:last_idx], \n",
    "         color=colourWheel[(2) % len(colourWheel)],\n",
    "         linestyle='-',\n",
    "         dashes=dashesStyles[(2) % len(dashesStyles)],\n",
    "         lw=linethick,\n",
    "         label='$n_{i,odeint}$',\n",
    "         alpha=alphaVal)\n",
    "\n",
    "ax.set_xlabel('')\n",
    "ax.yaxis.set_major_formatter(ScalarFormatter())\n",
    "ax.yaxis.major.formatter._useMathText = True\n",
    "ax.yaxis.set_minor_locator(AutoMinorLocator(5))\n",
    "ax.xaxis.set_minor_locator(AutoMinorLocator(5))\n",
    "ax.yaxis.set_label_coords(0.53, 1.01)\n",
    "ax.yaxis.tick_right()\n",
    "nameOfPlot = '$n_i$ calculated with SciPy\\'s odeint function' \n",
    "plt.ylabel(nameOfPlot, rotation=0)\n",
    "\n",
    "# Shrink current axis's height by 10% on the bottom\n",
    "box = ax.get_position()\n",
    "ax.set_position([box.x0, box.y0 + box.height * 0.1,\n",
    "                 box.width, box.height * 0.9])\n",
    "\n",
    "# Put a legend below current axis\n",
    "legend = ax.legend(frameon=False,\n",
    "                   loc='upper center',\n",
    "                   bbox_to_anchor=(0.5, -0.05),\n",
    "                   ncol=4)\n",
    "\n",
    "fig.savefig(path_plots + 'odeint.pdf', bbox_inches=\"tight\", dpi=300)\n",
    "plt.show()"
   ]
  },
  {
   "cell_type": "code",
   "execution_count": 189,
   "metadata": {
    "ExecuteTime": {
     "end_time": "2019-11-03T12:58:56.695332Z",
     "start_time": "2019-11-03T12:58:56.632647Z"
    }
   },
   "outputs": [
    {
     "name": "stderr",
     "output_type": "stream",
     "text": [
      "/usr/local/lib/python3.7/dist-packages/ipykernel_launcher.py:8: RuntimeWarning: invalid value encountered in sqrt\n",
      "  \n"
     ]
    }
   ],
   "source": [
    "first_idx = 5500\n",
    "interval = 1000\n",
    "\n",
    "ni0_half2 = ni[first_idx] #- 0.00001\n",
    "ni_sci_half2 = odeint(func , ni0_half2, grid[first_idx:first_idx+interval])"
   ]
  },
  {
   "cell_type": "code",
   "execution_count": 192,
   "metadata": {
    "ExecuteTime": {
     "end_time": "2019-11-03T13:02:46.495543Z",
     "start_time": "2019-11-03T13:02:45.390286Z"
    }
   },
   "outputs": [
    {
     "data": {
      "image/png": "[encoded data removed]",
      "text/plain": [
       "<Figure size 518.4x320.4 with 1 Axes>"
      ]
     },
     "metadata": {
      "needs_background": "light"
     },
     "output_type": "display_data"
    }
   ],
   "source": [
    "# there is obviously a problem with positive numbers\n",
    "plt.close('all')\n",
    "fig, ax = plt.subplots()\n",
    "alphaVal = 1#0.6\n",
    "linethick = 1\n",
    "\n",
    "plt.plot(grid[first_idx:first_idx+interval],\n",
    "         nr[first_idx:first_idx+interval], \n",
    "         color=colourWheel[(0) % len(colourWheel)],\n",
    "         linestyle='-',\n",
    "         dashes=dashesStyles[(0) % len(dashesStyles)],\n",
    "         lw=linethick,\n",
    "         label='$n_r$',\n",
    "         alpha=alphaVal)\n",
    "\n",
    "plt.plot(grid[first_idx:first_idx+interval],\n",
    "         ni[first_idx:first_idx+interval], \n",
    "         color=colourWheel[(1) % len(colourWheel)],\n",
    "         linestyle='-',\n",
    "         dashes=dashesStyles[(1) % len(dashesStyles)],\n",
    "         lw=linethick,\n",
    "         label='$n_{i,W}$',\n",
    "         alpha=alphaVal)\n",
    "\n",
    "plt.plot(grid[first_idx:first_idx+interval],\n",
    "         ni_sci_half2, \n",
    "         color=colourWheel[(2) % len(colourWheel)],\n",
    "         linestyle='-',\n",
    "         dashes=dashesStyles[(2) % len(dashesStyles)],\n",
    "         lw=linethick,\n",
    "         label='$n_{i,odeint}$',\n",
    "         alpha=alphaVal)\n",
    "\n",
    "ax.set_xlabel('')\n",
    "ax.yaxis.set_major_formatter(ScalarFormatter())\n",
    "ax.yaxis.major.formatter._useMathText = True\n",
    "ax.yaxis.set_minor_locator(AutoMinorLocator(5))\n",
    "ax.xaxis.set_minor_locator(AutoMinorLocator(5))\n",
    "ax.yaxis.set_label_coords(0.53, 1.01)\n",
    "ax.yaxis.tick_right()\n",
    "nameOfPlot = '$n_i$ calculated with SciPy\\'s odeint function, IV after root'\n",
    "plt.ylabel(nameOfPlot, rotation=0)\n",
    "\n",
    "# Shrink current axis's height by 10% on the bottom\n",
    "box = ax.get_position()\n",
    "ax.set_position([box.x0, box.y0 + box.height * 0.1,\n",
    "                 box.width, box.height * 0.9])\n",
    "\n",
    "# Put a legend below current axis\n",
    "legend = ax.legend(frameon=False,\n",
    "                   loc='upper center',\n",
    "                   bbox_to_anchor=(0.5, -0.05),\n",
    "                   ncol=4)\n",
    "\n",
    "fig.savefig(path_plots + 'odeint_positive.pdf', bbox_inches=\"tight\", dpi=300)\n",
    "plt.show()"
   ]
  },
  {
   "cell_type": "markdown",
   "metadata": {},
   "source": [
    "### Numerov Solution Method"
   ]
  },
  {
   "cell_type": "code",
   "execution_count": 196,
   "metadata": {
    "ExecuteTime": {
     "end_time": "2019-11-03T13:16:34.052181Z",
     "start_time": "2019-11-03T13:16:33.952986Z"
    }
   },
   "outputs": [],
   "source": [
    "half_width = 5\n",
    "nmbr_points = 10000\n",
    "grid, stepsize = get_grid(half_width, nmbr_points)\n",
    "\n",
    "W = 10*gauss_dist(0,1,grid) + 1\n",
    "dW = diff_same_length(W, stepsize)\n",
    "\n",
    "nr = n_r(W, dW, grid, k = 1)\n",
    "ni = n_i(dW, nr, grid, k = 1)"
   ]
  },
  {
   "cell_type": "code",
   "execution_count": 197,
   "metadata": {
    "ExecuteTime": {
     "end_time": "2019-11-03T13:16:35.411113Z",
     "start_time": "2019-11-03T13:16:35.403261Z"
    }
   },
   "outputs": [],
   "source": [
    "def numerov_step(y0,y1,h,U2,U1,U0,V2,V1,V0):\n",
    "    # returns y2, all inputs complex\n",
    "    s = h**2/12\n",
    "    F0 = U0+V0*y0\n",
    "    F1 = U1+V1*y1\n",
    "    F2 = U2+V2*y2\n",
    "    return (2*y1 - y0 + s*(U2 + 10*F1 + F0))/(1 - s*V2)"
   ]
  },
  {
   "cell_type": "code",
   "execution_count": 198,
   "metadata": {
    "ExecuteTime": {
     "end_time": "2019-11-03T13:16:36.773224Z",
     "start_time": "2019-11-03T13:16:36.749275Z"
    }
   },
   "outputs": [],
   "source": [
    "def init_val_in(x, dx, k, A):\n",
    "    \"\"\"\n",
    "    Calculates a complex wave in empty space and returns the first two values. \n",
    "    Needed as start values for the numerov algorithm. \n",
    "    \"\"\"\n",
    "    \n",
    "    psi = np.zeros(2, dtype=complex)\n",
    "    \n",
    "    for i in range(len(psi)):\n",
    "        psi[i] = A * np.cos(x[i]*k) + 1j * A * np.sin(x[i]*k) \n",
    "    \n",
    "    return psi[0].real, psi[1].real, psi[0].imag, psi[1].imag\n",
    "\n",
    "\n",
    "def numerov(x, dx, n, psi_r0, psi_r1, psi_i0, psi_i1, k):\n",
    "    \"\"\"\n",
    "    Implementation of the numerov algorithm for the helmholtz equation. \n",
    "    Needs two initial values and returns the complex wave as a numpy array.\n",
    "    \"\"\"\n",
    "    \n",
    "    psi = np.zeros(len(x), dtype=complex)\n",
    "    psi[0] = complex(psi_r0, psi_i0) #Startwerte\n",
    "    psi[1] = complex(psi_r1, psi_i1)\n",
    "    \n",
    "    s = dx**2/12 * k**2\n",
    "    \n",
    "    for i in range(len(x)-2):\n",
    "                \n",
    "        psi[i+2] = ( 2*( 1-5*s*n[i+1]**2 )*psi[i+1] - ( 1+s*n[i+1]**2 )*psi[i] )/(1 +  s*n[i+2]**2)\n",
    "        \n",
    "    return psi"
   ]
  },
  {
   "cell_type": "code",
   "execution_count": 199,
   "metadata": {
    "ExecuteTime": {
     "end_time": "2019-11-03T13:16:39.181051Z",
     "start_time": "2019-11-03T13:16:39.012200Z"
    },
    "scrolled": true
   },
   "outputs": [
    {
     "name": "stdout",
     "output_type": "stream",
     "text": [
      "true ni value:  -1.4863435031072812e-05\n",
      "psi[idx-2] :  (-0.9060616077501239+0.4235631625179732j)\n",
      "psi[idx-1] :  (-0.9064848630148747+0.4226569198014582j)\n",
      "C value:  1.0003541346194431\n",
      "s:  8.333333333338899e-08\n",
      "disc:  2.7787610220892462e-14\n",
      "a,b,c: 6.944444444453721e-15 -1.6666666666677798e-07 -0.00035396795079245535\n",
      "gsi1, gsi2:  24002123.619782012 -2123.6197980423512\n",
      "ni:  4899.196221808432 nan -4899.196221808432 nan\n"
     ]
    },
    {
     "name": "stderr",
     "output_type": "stream",
     "text": [
      "/usr/local/lib/python3.7/dist-packages/ipykernel_launcher.py:67: RuntimeWarning: invalid value encountered in sqrt\n"
     ]
    }
   ],
   "source": [
    "iv = init_val_in(x = grid,\n",
    "                 dx = stepsize,\n",
    "                 k = 1,\n",
    "                 A = 1)\n",
    "\n",
    "psi= numerov(x = grid,  # this is fine\n",
    "             dx = stepsize,\n",
    "             n = nr + 1j*ni,\n",
    "             psi_r0 = iv[0], \n",
    "             psi_r1 = iv[1], \n",
    "             psi_i0 = iv[2], \n",
    "             psi_i1 = iv[3], \n",
    "             k = 1)\n",
    "\n",
    "idx = 0\n",
    "\n",
    "print('true ni value: ', ni[idx])\n",
    "\n",
    "def C(h,k,psi0,psi1,n1,n0):\n",
    "    # all variables are complex\n",
    "    s = h**2/12*k**2\n",
    "    return np.abs(2*(1-5*s*n1**2)*psi1 - (1 + s*n0**2)*psi0)**2\n",
    "\n",
    "print('psi[idx-2] : ',psi[idx-2])\n",
    "print('psi[idx-1] : ',psi[idx-1])\n",
    "\n",
    "Cidx = C(h = stepsize,\n",
    "         k = 1,\n",
    "         psi0 = psi[idx-2],\n",
    "         psi1 = psi[idx-1],\n",
    "         n1 = nr[idx-1] + 1j*ni[idx-1],\n",
    "         n0 = nr[idx] + 1j*ni[idx])\n",
    "\n",
    "print('C value: ',Cidx) # should be right\n",
    "\n",
    "def gsi(nr,\n",
    "        h, \n",
    "        k,\n",
    "        Cidx): \n",
    "    # this is ni**2\n",
    "    s = h**2 / 12 * k**2\n",
    "    print('s: ',s)\n",
    "    a = s**2\n",
    "    b = 2*s**2*nr**2 - 2*s**2*nr**2 - 2*s\n",
    "    c = 1 + 2*s*nr**2 + s**2*nr**4 - Cidx\n",
    "    \n",
    "    gsi1 = ( - b + np.sqrt(b**2 - 4*a*c))/(2*a) \n",
    "    gsi2 = ( - b - np.sqrt(b**2 - 4*a*c))/(2*a)\n",
    "    print('disc: ', b**2 - 4*a*c)\n",
    "    return gsi1, gsi2, a, b, c \n",
    "\n",
    "gsi1, gsi2, a, b, c = gsi(nr = nr[idx],\n",
    "                          h = stepsize,\n",
    "                          k = 1,\n",
    "                          Cidx = Cidx)\n",
    "\n",
    "print('a,b,c:',a,b,c)\n",
    "print('gsi1, gsi2: ', gsi1, gsi2)\n",
    "print('ni: ',np.sqrt(gsi1),np.sqrt(gsi2),-np.sqrt(gsi1),-np.sqrt(gsi2))"
   ]
  },
  {
   "cell_type": "markdown",
   "metadata": {
    "ExecuteTime": {
     "end_time": "2019-10-04T09:24:46.981253Z",
     "start_time": "2019-10-04T09:24:46.974097Z"
    }
   },
   "source": [
    "### Brute Force Optimization"
   ]
  },
  {
   "cell_type": "code",
   "execution_count": 225,
   "metadata": {
    "ExecuteTime": {
     "end_time": "2019-11-03T13:54:42.327438Z",
     "start_time": "2019-11-03T13:54:42.192010Z"
    }
   },
   "outputs": [],
   "source": [
    "W = 10*gauss_dist(0,1,grid) + 1\n",
    "dW = diff_same_length(W, stepsize)\n",
    "k = 1\n",
    "nr = n_r(W, dW, grid, k)\n",
    "nr_diff = diff_same_length(nr, stepsize)\n",
    "ni = n_i(dW, nr, grid, k)\n",
    "\n",
    "# plt.plot(grid,W,label='W')\n",
    "# plt.plot(grid,dW,label='dW')\n",
    "# plt.plot(grid,nr,label='nr')\n",
    "# plt.plot(grid,ni,label='ni')\n",
    "# plt.plot(grid,nr_diff,label='dnr')\n",
    "# plt.legend()"
   ]
  },
  {
   "cell_type": "code",
   "execution_count": 204,
   "metadata": {
    "ExecuteTime": {
     "end_time": "2019-11-03T13:19:32.557698Z",
     "start_time": "2019-11-03T13:19:32.539597Z"
    }
   },
   "outputs": [],
   "source": [
    "def init_val_in(x, dx, k, A):\n",
    "    \"\"\"\n",
    "    Calculates a complex wave in empty space and returns the first two values. \n",
    "    Needed as start values for the numerov algorithm. \n",
    "    \"\"\"\n",
    "    \n",
    "    psi = np.zeros(2, dtype=complex)\n",
    "    \n",
    "    for i in range(len(psi)):\n",
    "        psi[i] = A * np.cos(x[i]*k) + 1j * A * np.sin(x[i]*k) \n",
    "    \n",
    "    return psi[0].real, psi[1].real, psi[0].imag, psi[1].imag\n",
    "\n",
    "\n",
    "def numerov(x, dx, n, psi_r0, psi_r1, psi_i0, psi_i1, k):\n",
    "    \"\"\"\n",
    "    Implementation of the numerov algorithm for the helmholtz equation. \n",
    "    Needs two initial values and returns the complex wave as a numpy array.\n",
    "    \"\"\"\n",
    "    \n",
    "    psi = np.zeros(len(x), dtype=complex)\n",
    "    psi[0] = complex(psi_r0, psi_i0) #Startwerte\n",
    "    psi[1] = complex(psi_r1, psi_i1)\n",
    "    \n",
    "    s = dx**2/12 * k**2\n",
    "    \n",
    "    for i in range(len(x)-2):\n",
    "                \n",
    "        psi[i+2] = ( 2*( 1-5*s*n[i+1]**2 )*psi[i+1] - ( 1+s*n[i+1]**2 )*psi[i] )/(1 +  s*n[i+2]**2)\n",
    "        \n",
    "    return psi\n",
    "\n",
    "def numerov_step(dx, n0, n1, n2, psi0, psi1, k):\n",
    "\n",
    "    s = dx**2/12 * k**2                \n",
    "    psi2 = ( 2*( 1-5*s*n1**2 )*psi1 - ( 1+s*n1**2 )*psi0 )/(1 +  s*n2**2)\n",
    "        \n",
    "    return psi2\n"
   ]
  },
  {
   "cell_type": "code",
   "execution_count": 211,
   "metadata": {
    "ExecuteTime": {
     "end_time": "2019-11-03T13:28:39.942323Z",
     "start_time": "2019-11-03T13:28:39.791626Z"
    }
   },
   "outputs": [],
   "source": [
    "iv = init_val_in(grid, stepsize, 1, 1)\n",
    "psi = numerov(grid, stepsize, nr + 1j*ni, iv[0], iv[1], iv[2], iv[3], k=1)"
   ]
  },
  {
   "cell_type": "code",
   "execution_count": 217,
   "metadata": {
    "ExecuteTime": {
     "end_time": "2019-11-03T13:31:24.282036Z",
     "start_time": "2019-11-03T13:30:58.107840Z"
    }
   },
   "outputs": [
    {
     "name": "stdout",
     "output_type": "stream",
     "text": [
      "[-1.48634350e-05 -1.49349351e-05 -1.50067634e-05 ...  1.50067630e-05\n",
      "  1.49349345e-05 -0.00000000e+00]\n",
      "[-1.48634350e-05 -1.49349351e-05  0.00000000e+00 ...  0.00000000e+00\n",
      "  3.12500000e-05  0.00000000e+00]\n",
      "[ 0.28366219+0.95892427j  0.28270312+0.95920746j  0.28174377+0.95948968j\n",
      " ... -0.90563745+0.42446898j -0.90606161+0.42356316j\n",
      "  0.        +0.j        ]\n"
     ]
    }
   ],
   "source": [
    "def func(val, *args):\n",
    "    idx, ni0, ni1, psi0, psi1 = args\n",
    "    n0 = complex(nr[idx-2], ni0)\n",
    "    n1 = complex(nr[idx-1], ni1)\n",
    "    n2 = complex(nr[idx], val)\n",
    "    psi2 = numerov_step(dx = stepsize, \n",
    "                 n0 = n0,\n",
    "                 n1 = n1,\n",
    "                 n2 = n2,\n",
    "                 psi0 = psi0, \n",
    "                 psi1 = psi1, \n",
    "                 k = 1)\n",
    "    out = np.abs(np.abs(psi2)**2 - np.abs(psi[idx])**2)**2 # np.abs(psi[idx])**2\n",
    "    return out\n",
    "\n",
    "last_idx = 10000\n",
    "\n",
    "# initial values\n",
    "ni_calc = np.zeros(len(nr))\n",
    "ni_calc[0] = ni[0] \n",
    "ni_calc[1] = ni[1]\n",
    "psi_calc = np.zeros(len(nr), dtype = complex)\n",
    "psi_calc[0] = complex(iv[0], iv[2])\n",
    "psi_calc[1] = complex(iv[1], iv[3])\n",
    "\n",
    "# calc first ni\n",
    "ni_calc[2] = minimize(fun=func, \n",
    "         x0=0,\n",
    "         args=(2, ni[0], ni[1], psi_calc[0], psi_calc[1]),\n",
    "         method='Nelder-Mead',\n",
    "         tol=1e-8).x\n",
    "\n",
    "# loop for all values \n",
    "for idx in range(2,last_idx-1):\n",
    "    # calculate next psi\n",
    "    psi_calc[idx] = numerov_step(dx = stepsize, \n",
    "                 n0 = nr[idx-2] + 1j*ni[idx-2],\n",
    "                 n1 = nr[idx-1] + 1j*ni[idx-1],\n",
    "                 n2 = nr[idx] + 1j*ni[idx],\n",
    "                 psi0 = psi_calc[idx-2], \n",
    "                 psi1 = psi_calc[idx-1], \n",
    "                 k = 1)\n",
    "    \n",
    "    # calculate next ni by optimization\n",
    "    ni_calc[idx+1] = minimize(fun=func, \n",
    "             x0=0,\n",
    "             args=(idx+1, ni[idx-1], ni[idx], psi_calc[idx-1], psi_calc[idx]),\n",
    "             method='Nelder-Mead',\n",
    "             tol=1e-8).x    \n",
    "    \n",
    "print(ni[:last_idx])\n",
    "print(ni_calc[:last_idx])\n",
    "print(psi_calc)"
   ]
  },
  {
   "cell_type": "code",
   "execution_count": 222,
   "metadata": {
    "ExecuteTime": {
     "end_time": "2019-11-03T13:43:02.527826Z",
     "start_time": "2019-11-03T13:43:01.572422Z"
    }
   },
   "outputs": [
    {
     "data": {
      "image/png": "[encoded data removed]",
      "text/plain": [
       "<Figure size 518.4x320.4 with 1 Axes>"
      ]
     },
     "metadata": {
      "needs_background": "light"
     },
     "output_type": "display_data"
    }
   ],
   "source": [
    "plt.close('all')\n",
    "fig, ax = plt.subplots()\n",
    "alphaVal = 1#0.6\n",
    "linethick = 1\n",
    "\n",
    "plt.plot(grid, \n",
    "         nr[:last_idx], \n",
    "         color=colourWheel[(0) % len(colourWheel)],\n",
    "         linestyle='-',\n",
    "         dashes=dashesStyles[(0) % len(dashesStyles)],\n",
    "         lw=linethick, \n",
    "         label = '$n_r$',\n",
    "         alpha=alphaVal)\n",
    "\n",
    "plt.plot(grid, \n",
    "         ni[:last_idx], \n",
    "         color=colourWheel[(1) % len(colourWheel)],\n",
    "         linestyle='-',\n",
    "         dashes=dashesStyles[(1) % len(dashesStyles)],\n",
    "         lw=linethick, \n",
    "         label = '$n_{i,W}$',\n",
    "         alpha=alphaVal)\n",
    "\n",
    "plt.plot(grid, \n",
    "         ni_calc[:last_idx], \n",
    "         color=colourWheel[(2) % len(colourWheel)],\n",
    "         linestyle='-',\n",
    "         dashes=dashesStyles[(2) % len(dashesStyles)],\n",
    "         lw=linethick, \n",
    "         label = '$n_{i,optimization}$',\n",
    "         alpha=alphaVal)\n",
    "\n",
    "ax.set_xlabel('')\n",
    "ax.yaxis.set_major_formatter(ScalarFormatter())\n",
    "ax.yaxis.major.formatter._useMathText = True\n",
    "ax.yaxis.set_minor_locator(AutoMinorLocator(5))\n",
    "ax.xaxis.set_minor_locator(AutoMinorLocator(5))\n",
    "ax.yaxis.set_label_coords(0.53, 1.01)\n",
    "ax.yaxis.tick_right()\n",
    "nameOfPlot = '$n_i$ optimized to match the exact $|\\psi|$ values'\n",
    "plt.ylabel(nameOfPlot, rotation=0)\n",
    "\n",
    "# Shrink current axis's height by 10% on the bottom\n",
    "box = ax.get_position()\n",
    "ax.set_position([box.x0, box.y0 + box.height * 0.1,\n",
    "                 box.width, box.height * 0.9])\n",
    "\n",
    "# Put a legend below current axis\n",
    "legend = ax.legend(frameon=False,\n",
    "                   loc='upper center',\n",
    "                   bbox_to_anchor=(0.5, -0.05),\n",
    "                   ncol=4)\n",
    "\n",
    "fig.savefig(path_plots + 'optimization_exact.pdf', bbox_inches=\"tight\", dpi=300)\n",
    "plt.show()"
   ]
  },
  {
   "cell_type": "code",
   "execution_count": 223,
   "metadata": {
    "ExecuteTime": {
     "end_time": "2019-11-03T13:44:07.923416Z",
     "start_time": "2019-11-03T13:43:43.789136Z"
    }
   },
   "outputs": [
    {
     "name": "stdout",
     "output_type": "stream",
     "text": [
      "[-1.48634350e-05 -1.49349351e-05 -1.50067634e-05 ...  1.50067630e-05\n",
      "  1.49349345e-05 -0.00000000e+00]\n",
      "[-1.48634350e-05 -1.49349351e-05  1.19483643e-02 ...  0.00000000e+00\n",
      "  0.00000000e+00  0.00000000e+00]\n",
      "[ 0.28366219+0.95892427j  0.28270312+0.95920746j  0.28174377+0.95948968j\n",
      " ... -0.90563745+0.42446898j -0.90606161+0.42356316j\n",
      "  0.        +0.j        ]\n"
     ]
    }
   ],
   "source": [
    "def func(val, *args):\n",
    "    idx, ni0, ni1, psi0, psi1 = args\n",
    "    n0 = complex(nr[idx-2], ni0)\n",
    "    n1 = complex(nr[idx-1], ni1)\n",
    "    n2 = complex(nr[idx], val)\n",
    "    psi2 = numerov_step(dx = stepsize, \n",
    "                 n0 = n0,\n",
    "                 n1 = n1,\n",
    "                 n2 = n2,\n",
    "                 psi0 = psi0, \n",
    "                 psi1 = psi1, \n",
    "                 k = 1)\n",
    "    out = np.abs(np.abs(psi2)**2 - 1)**2 # np.abs(psi[idx])**2\n",
    "    return out\n",
    "\n",
    "last_idx = 10000\n",
    "\n",
    "# initial values\n",
    "ni_calc = np.zeros(len(nr))\n",
    "ni_calc[0] = ni[0] \n",
    "ni_calc[1] = ni[1]\n",
    "psi_calc = np.zeros(len(nr), dtype = complex)\n",
    "psi_calc[0] = complex(iv[0], iv[2])\n",
    "psi_calc[1] = complex(iv[1], iv[3])\n",
    "\n",
    "# calc first ni\n",
    "ni_calc[2] = minimize(fun=func, \n",
    "         x0=0,\n",
    "         args=(2, ni[0], ni[1], psi_calc[0], psi_calc[1]),\n",
    "         method='Nelder-Mead',\n",
    "         tol=1e-8).x\n",
    "\n",
    "# loop for all values \n",
    "for idx in range(2,last_idx-1):\n",
    "    # calculate next psi\n",
    "    psi_calc[idx] = numerov_step(dx = stepsize, \n",
    "                 n0 = nr[idx-2] + 1j*ni[idx-2],\n",
    "                 n1 = nr[idx-1] + 1j*ni[idx-1],\n",
    "                 n2 = nr[idx] + 1j*ni[idx],\n",
    "                 psi0 = psi_calc[idx-2], \n",
    "                 psi1 = psi_calc[idx-1], \n",
    "                 k = 1)\n",
    "    \n",
    "    # calculate next ni by optimization\n",
    "    ni_calc[idx+1] = minimize(fun=func, \n",
    "             x0=0,\n",
    "             args=(idx+1, ni[idx-1], ni[idx], psi_calc[idx-1], psi_calc[idx]),\n",
    "             method='Nelder-Mead',\n",
    "             tol=1e-8).x    \n",
    "    \n",
    "print(ni[:last_idx])\n",
    "print(ni_calc[:last_idx])\n",
    "print(psi_calc)"
   ]
  },
  {
   "cell_type": "code",
   "execution_count": 224,
   "metadata": {
    "ExecuteTime": {
     "end_time": "2019-11-03T13:44:10.518431Z",
     "start_time": "2019-11-03T13:44:09.097995Z"
    }
   },
   "outputs": [
    {
     "data": {
      "image/png": "[encoded data removed]",
      "text/plain": [
       "<Figure size 518.4x320.4 with 1 Axes>"
      ]
     },
     "metadata": {
      "needs_background": "light"
     },
     "output_type": "display_data"
    }
   ],
   "source": [
    "plt.close('all')\n",
    "fig, ax = plt.subplots()\n",
    "alphaVal = 1#0.6\n",
    "linethick = 1\n",
    "\n",
    "plt.plot(grid, \n",
    "         nr[:last_idx], \n",
    "         color=colourWheel[(0) % len(colourWheel)],\n",
    "         linestyle='-',\n",
    "         dashes=dashesStyles[(0) % len(dashesStyles)],\n",
    "         lw=linethick, \n",
    "         label = '$n_r$',\n",
    "         alpha=alphaVal)\n",
    "\n",
    "plt.plot(grid, \n",
    "         ni[:last_idx], \n",
    "         color=colourWheel[(1) % len(colourWheel)],\n",
    "         linestyle='-',\n",
    "         dashes=dashesStyles[(1) % len(dashesStyles)],\n",
    "         lw=linethick, \n",
    "         label = '$n_{i,W}$',\n",
    "         alpha=alphaVal)\n",
    "\n",
    "plt.plot(grid, \n",
    "         ni_calc[:last_idx], \n",
    "         color=colourWheel[(2) % len(colourWheel)],\n",
    "         linestyle='-',\n",
    "         dashes=dashesStyles[(2) % len(dashesStyles)],\n",
    "         lw=linethick, \n",
    "         label = '$n_{i,optimization}$',\n",
    "         alpha=alphaVal)\n",
    "\n",
    "ax.set_xlabel('')\n",
    "ax.yaxis.set_major_formatter(ScalarFormatter())\n",
    "ax.yaxis.major.formatter._useMathText = True\n",
    "ax.yaxis.set_minor_locator(AutoMinorLocator(5))\n",
    "ax.xaxis.set_minor_locator(AutoMinorLocator(5))\n",
    "ax.yaxis.set_label_coords(0.53, 1.01)\n",
    "ax.yaxis.tick_right()\n",
    "nameOfPlot = '$n_i$ optimized to match $|\\psi|=1$'\n",
    "plt.ylabel(nameOfPlot, rotation=0)\n",
    "\n",
    "# Shrink current axis's height by 10% on the bottom\n",
    "box = ax.get_position()\n",
    "ax.set_position([box.x0, box.y0 + box.height * 0.1,\n",
    "                 box.width, box.height * 0.9])\n",
    "\n",
    "# Put a legend below current axis\n",
    "legend = ax.legend(frameon=False,\n",
    "                   loc='upper center',\n",
    "                   bbox_to_anchor=(0.5, -0.05),\n",
    "                   ncol=4)\n",
    "\n",
    "fig.savefig(path_plots + 'optimization_1.pdf', bbox_inches=\"tight\", dpi=300)\n",
    "plt.show()"
   ]
  }
 ],
 "metadata": {
  "kernelspec": {
   "display_name": "Python 3",
   "language": "python",
   "name": "python3"
  },
  "language_info": {
   "codemirror_mode": {
    "name": "ipython",
    "version": 3
   },
   "file_extension": ".py",
   "mimetype": "text/x-python",
   "name": "python",
   "nbconvert_exporter": "python",
   "pygments_lexer": "ipython3",
   "version": "3.6.8"
  },
  "toc": {
   "base_numbering": 1,
   "nav_menu": {},
   "number_sections": true,
   "sideBar": true,
   "skip_h1_title": false,
   "title_cell": "Table of Contents",
   "title_sidebar": "Contents",
   "toc_cell": false,
   "toc_position": {
    "height": "calc(100% - 180px)",
    "left": "10px",
    "top": "150px",
    "width": "288.6px"
   },
   "toc_section_display": true,
   "toc_window_display": true
  },
  "varInspector": {
   "cols": {
    "lenName": 16,
    "lenType": 16,
    "lenVar": 40
   },
   "kernels_config": {
    "python": {
     "delete_cmd_postfix": "",
     "delete_cmd_prefix": "del ",
     "library": "var_list.py",
     "varRefreshCmd": "print(var_dic_list())"
    },
    "r": {
     "delete_cmd_postfix": ") ",
     "delete_cmd_prefix": "rm(",
     "library": "var_list.r",
     "varRefreshCmd": "cat(var_dic_list()) "
    }
   },
   "position": {
    "height": "612.85px",
    "left": "1484px",
    "right": "20px",
    "top": "120px",
    "width": "349px"
   },
   "types_to_exclude": [
    "module",
    "function",
    "builtin_function_or_method",
    "instance",
    "_Feature"
   ],
   "window_display": false
  }
 },
 "nbformat": 4,
 "nbformat_minor": 2
}
