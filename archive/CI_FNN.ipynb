{
 "cells": [
  {
   "cell_type": "code",
   "execution_count": 72,
   "metadata": {
    "ExecuteTime": {
     "end_time": "2019-07-12T11:19:02.058658Z",
     "start_time": "2019-07-12T11:19:02.049451Z"
    },
    "cell_style": "center"
   },
   "outputs": [],
   "source": [
    "import numpy as np\n",
    "import matplotlib.pyplot as plt\n",
    "import pylab \n",
    "import cmath\n",
    "import random\n",
    "from scipy import integrate\n",
    "from scipy.fftpack import fft\n",
    "import torch\n",
    "from torch.utils.data import Dataset, DataLoader\n",
    "from torch.utils.data.sampler import SubsetRandomSampler\n",
    "from torchvision import transforms\n",
    "from scipy import signal\n",
    "import pandas as pd\n",
    "import time\n",
    "import torch.nn as nn\n",
    "import torch.nn.functional as F\n",
    "import visdom"
   ]
  },
  {
   "cell_type": "code",
   "execution_count": 73,
   "metadata": {
    "ExecuteTime": {
     "end_time": "2019-07-12T11:19:02.069077Z",
     "start_time": "2019-07-12T11:19:02.061147Z"
    }
   },
   "outputs": [
    {
     "data": {
      "text/plain": [
       "True"
      ]
     },
     "execution_count": 73,
     "metadata": {},
     "output_type": "execute_result"
    }
   ],
   "source": [
    "torch.cuda.is_available()"
   ]
  },
  {
   "cell_type": "markdown",
   "metadata": {
    "heading_collapsed": true
   },
   "source": [
    "### Erzeuge W"
   ]
  },
  {
   "cell_type": "markdown",
   "metadata": {
    "hidden": true
   },
   "source": [
    "Generiere ein paar W aus $L_{2,loc}$ und ihre Ableitungen"
   ]
  },
  {
   "cell_type": "code",
   "execution_count": 74,
   "metadata": {
    "ExecuteTime": {
     "end_time": "2019-07-12T11:19:02.076199Z",
     "start_time": "2019-07-12T11:19:02.071836Z"
    },
    "hidden": true
   },
   "outputs": [],
   "source": [
    "x = np.arange(-5,5,0.001)\n",
    "dx = x[1] - x[0]"
   ]
  },
  {
   "cell_type": "code",
   "execution_count": 75,
   "metadata": {
    "ExecuteTime": {
     "end_time": "2019-07-12T11:19:02.085208Z",
     "start_time": "2019-07-12T11:19:02.079541Z"
    },
    "hidden": true
   },
   "outputs": [],
   "source": [
    "def Gauss(mu, sig, x): #Achtung, hier ist x eine Position, nicht das Grid (ist doch eh das selbe?)\n",
    "    return np.exp(-(x-mu)**2/(2*sig**2))/(2*np.pi*sig**2)"
   ]
  },
  {
   "cell_type": "code",
   "execution_count": 76,
   "metadata": {
    "ExecuteTime": {
     "end_time": "2019-07-12T11:19:02.097036Z",
     "start_time": "2019-07-12T11:19:02.087326Z"
    },
    "cell_style": "center",
    "hidden": true
   },
   "outputs": [],
   "source": [
    "def generate_W(x):\n",
    "    rate = 0.01 #das brauchen wir garnicht oder?\n",
    "    ran = np.zeros(len(x))\n",
    "    asym = int(len(ran)/4)\n",
    "    for i in range(asym, len(ran) - asym):\n",
    "        coin = np.random.uniform()\n",
    "        if coin < 0.3:\n",
    "            ran[i] = np.random.uniform() / (0.4 *asym)\n",
    "    con = np.convolve(ran, Gauss(0,0.1,x)) + 1\n",
    "    a = int(len(x)/2)\n",
    "    return con[a:a+len(x)]"
   ]
  },
  {
   "cell_type": "code",
   "execution_count": 77,
   "metadata": {
    "ExecuteTime": {
     "end_time": "2019-07-12T11:19:02.104315Z",
     "start_time": "2019-07-12T11:19:02.099359Z"
    },
    "cell_style": "center",
    "hidden": true
   },
   "outputs": [],
   "source": [
    "def diff_W(W):\n",
    "    dW = np.zeros(len(W))\n",
    "    dW[:-1] = np.diff(W)/dx\n",
    "    return dW"
   ]
  },
  {
   "cell_type": "markdown",
   "metadata": {
    "heading_collapsed": true
   },
   "source": [
    "### Berechne $n_r$ und $n_i$"
   ]
  },
  {
   "cell_type": "code",
   "execution_count": 78,
   "metadata": {
    "ExecuteTime": {
     "end_time": "2019-07-12T11:19:02.111708Z",
     "start_time": "2019-07-12T11:19:02.105828Z"
    },
    "hidden": true
   },
   "outputs": [],
   "source": [
    "k = 10"
   ]
  },
  {
   "cell_type": "code",
   "execution_count": 79,
   "metadata": {
    "ExecuteTime": {
     "end_time": "2019-07-12T11:19:02.120844Z",
     "start_time": "2019-07-12T11:19:02.115109Z"
    },
    "hidden": true
   },
   "outputs": [],
   "source": [
    "def n_r(W, dW, x, k):\n",
    "    n_r = np.zeros(len(x))\n",
    "    for i in range(len(x)):\n",
    "        n_r[i] = W[i]/np.sqrt(2)*np.sqrt(1+np.sqrt(1+ dW[i]**2/(W[i]**4*k**2) ))\n",
    "    return n_r\n",
    "\n",
    "def n_i(dW, n_r, x, k):\n",
    "    n_i = np.zeros(len(x))\n",
    "    for i in range(len(x)):\n",
    "        n_i[i] = -1/2/k*dW[i]/n_r[i]\n",
    "    return n_i\n",
    "\n",
    "def n_compl(W,dW,x,k):\n",
    "    nr = n_r(W, dW, x, k)\n",
    "    ni = n_i(dW, nr, x, k)\n",
    "    n = nr + ni * 1j\n",
    "    return n"
   ]
  },
  {
   "cell_type": "code",
   "execution_count": 80,
   "metadata": {
    "ExecuteTime": {
     "end_time": "2019-07-12T11:19:02.128372Z",
     "start_time": "2019-07-12T11:19:02.122471Z"
    },
    "hidden": true,
    "scrolled": true
   },
   "outputs": [],
   "source": [
    "def plot_n(x,W,dW,k):\n",
    "    #pylab.plot(x,W,label='W')\n",
    "    #pylab.plot(x,dW,label='dW')\n",
    "    n = n_compl(W,dW,x,k)\n",
    "    pylab.plot(x,n.real,label='n_r')\n",
    "    pylab.plot(x,n.imag,label='n_i')\n",
    "    pylab.legend(loc='upper left')\n",
    "    #pylab.title(\"W = cos(t)\")\n",
    "    pylab.show()"
   ]
  },
  {
   "cell_type": "markdown",
   "metadata": {
    "hidden": true
   },
   "source": [
    "$n_r$ und $n_i$ geplottet sehen dann so aus:"
   ]
  },
  {
   "cell_type": "code",
   "execution_count": 81,
   "metadata": {
    "ExecuteTime": {
     "end_time": "2019-07-12T11:19:02.382649Z",
     "start_time": "2019-07-12T11:19:02.129812Z"
    },
    "hidden": true
   },
   "outputs": [
    {
     "data": {
      "image/png": "[encoded data removed]",
      "text/plain": [
       "<Figure size 432x288 with 1 Axes>"
      ]
     },
     "metadata": {
      "needs_background": "light"
     },
     "output_type": "display_data"
    }
   ],
   "source": [
    "x = np.arange(-5,5,0.001)\n",
    "dx = x[1] - x[0]\n",
    "\n",
    "W = generate_W(x)\n",
    "dW = diff_W(W)\n",
    "\n",
    "plot_n(x, W, dW,k)"
   ]
  },
  {
   "cell_type": "markdown",
   "metadata": {
    "heading_collapsed": true
   },
   "source": [
    "### Berechne aus W und n die Wellenfunktion mit Numerov"
   ]
  },
  {
   "cell_type": "markdown",
   "metadata": {
    "hidden": true
   },
   "source": [
    "$\\psi'' + k^2 n^2 \\psi = 0$"
   ]
  },
  {
   "cell_type": "markdown",
   "metadata": {
    "hidden": true
   },
   "source": [
    "Der iterative Algorithmus sieht dann so aus:\n",
    "\n",
    "$s := \\frac{h^2 k^2}{12} $\n",
    "\n",
    "$\\psi_{i+2} = \\frac{ 2(1 - 5 s n_{i+1}^2)\\psi_{i+1} - (1 + s n_{i+1}^2)\\psi_{i} }{1 + s n_{i+2}^2}  $"
   ]
  },
  {
   "cell_type": "code",
   "execution_count": 82,
   "metadata": {
    "ExecuteTime": {
     "end_time": "2019-07-12T11:19:02.388578Z",
     "start_time": "2019-07-12T11:19:02.383950Z"
    },
    "hidden": true
   },
   "outputs": [],
   "source": [
    "def Numerov(x, dx, n, psi_r0, psi_r1, psi_i0, psi_i1,k):\n",
    "    \n",
    "    psi = np.zeros(len(x), dtype=complex)\n",
    "    psi[0] = complex(psi_r0, psi_i0) #Startwerte\n",
    "    psi[1] = complex(psi_r1, psi_i1)\n",
    "    \n",
    "    s = dx**2/12 * k**2\n",
    "    \n",
    "    for i in range(len(x)-2):\n",
    "                \n",
    "        psi[i+2] = ( 2*( 1-5*s*n[i+1]**2 )*psi[i+1] - ( 1+s*n[i+1]**2 )*psi[i] )/(1 +  s*n[i+2]**2)\n",
    "        \n",
    "    return psi"
   ]
  },
  {
   "cell_type": "markdown",
   "metadata": {
    "hidden": true
   },
   "source": [
    "Für die Startwerte müssen wir außerdem eine ebene Welle generieren:"
   ]
  },
  {
   "cell_type": "code",
   "execution_count": 83,
   "metadata": {
    "ExecuteTime": {
     "end_time": "2019-07-12T11:19:02.397514Z",
     "start_time": "2019-07-12T11:19:02.389931Z"
    },
    "hidden": true
   },
   "outputs": [],
   "source": [
    "def InitV_In(x, dx, k, A):\n",
    "    \n",
    "    psi = np.zeros(len(x), dtype=complex)\n",
    "    \n",
    "    for i in range(len(x)):\n",
    "        psi[i] = A * np.cos(x[i]*k) + 1j * A * np.sin(x[i]*k) \n",
    "        \n",
    "    #pylab.plot(x[:ldt], psi.real, label='psi real') \n",
    "    #pylab.plot(x[:ldt], psi.imag, label='psi imag')\n",
    "    \n",
    "    return psi[0].real, psi[1].real, psi[0].imag, psi[1].imag"
   ]
  },
  {
   "cell_type": "code",
   "execution_count": 84,
   "metadata": {
    "ExecuteTime": {
     "end_time": "2019-07-12T11:19:02.404257Z",
     "start_time": "2019-07-12T11:19:02.398861Z"
    },
    "hidden": true
   },
   "outputs": [],
   "source": [
    "def plot_psi(x, dx, n, Amp, k):\n",
    "\n",
    "    #n = n_compl(W,dW,x,k)\n",
    "    \n",
    "    #psi_r0, psi_r1, psi_i0, psi_i1 = InitV_Left(t,dt,k, Amp, n)\n",
    "    psi_r0, psi_r1, psi_i0, psi_i1 = InitV_In(x,dx,k, Amp)\n",
    "    \n",
    "    psi = Numerov(x, dx, n, psi_r0, psi_r1, psi_i0, psi_i1, k)\n",
    "    \n",
    "    f = len(x)\n",
    "    \n",
    "    pylab.plot(x[-f:],psi.real[-f:],label='psi real')\n",
    "    pylab.plot(x[-f:],psi.imag[-f:],label='psi imag')\n",
    "    \n",
    "    pylab.plot(x[-f:], n.real[-f:], label = 'nr')\n",
    "    pylab.plot(x[-f:], n.imag[-f:], label = 'ni')\n",
    "    \n",
    "    Int = psi.real**2 + psi.imag**2\n",
    "    \n",
    "    pylab.plot(x[-f:], Int[-f:], label = 'Intensity')\n",
    "        \n",
    "    pylab.legend(loc='upper left')"
   ]
  },
  {
   "cell_type": "code",
   "execution_count": 85,
   "metadata": {
    "ExecuteTime": {
     "end_time": "2019-07-12T11:19:02.508667Z",
     "start_time": "2019-07-12T11:19:02.405679Z"
    },
    "hidden": true
   },
   "outputs": [],
   "source": [
    "W = generate_W(x)\n",
    "dW = diff_W(W)\n",
    "n = n_compl(W,dW,x,k)"
   ]
  },
  {
   "cell_type": "code",
   "execution_count": 86,
   "metadata": {
    "ExecuteTime": {
     "end_time": "2019-07-12T11:19:02.872312Z",
     "start_time": "2019-07-12T11:19:02.510550Z"
    },
    "hidden": true
   },
   "outputs": [
    {
     "data": {
      "image/png": "[encoded data removed]",
      "text/plain": [
       "<Figure size 432x288 with 1 Axes>"
      ]
     },
     "metadata": {
      "needs_background": "light"
     },
     "output_type": "display_data"
    }
   ],
   "source": [
    "plot_psi(x, dx, n, 1, k)"
   ]
  },
  {
   "cell_type": "markdown",
   "metadata": {
    "heading_collapsed": true
   },
   "source": [
    "### Berechne Abweichung von konstanter Intensität"
   ]
  },
  {
   "cell_type": "code",
   "execution_count": 87,
   "metadata": {
    "ExecuteTime": {
     "end_time": "2019-07-12T11:19:02.879794Z",
     "start_time": "2019-07-12T11:19:02.875653Z"
    },
    "hidden": true
   },
   "outputs": [],
   "source": [
    "def MSE(Int, Amp):\n",
    "    return sum((Int-Amp)**2)"
   ]
  },
  {
   "cell_type": "code",
   "execution_count": 88,
   "metadata": {
    "ExecuteTime": {
     "end_time": "2019-07-12T11:19:03.100769Z",
     "start_time": "2019-07-12T11:19:02.881807Z"
    },
    "hidden": true
   },
   "outputs": [
    {
     "data": {
      "text/plain": [
       "0.004458614156764522"
      ]
     },
     "execution_count": 88,
     "metadata": {},
     "output_type": "execute_result"
    }
   ],
   "source": [
    "Amp = 1\n",
    "\n",
    "n = n_compl(W,dW,x,k)\n",
    "psi_r0, psi_r1, psi_i0, psi_i1 = InitV_In(x,dx,k, Amp)\n",
    "psi = Numerov(x, dx, n, psi_r0, psi_r1, psi_i0, psi_i1, k)\n",
    "Int = psi.real**2 + psi.imag**2\n",
    "\n",
    "MSE(Int,Amp)"
   ]
  },
  {
   "cell_type": "markdown",
   "metadata": {},
   "source": [
    "### Daten generieren"
   ]
  },
  {
   "cell_type": "markdown",
   "metadata": {},
   "source": [
    "Wir generieren und speichern eine Menge an $n_r$ und $n_i$ Paaren."
   ]
  },
  {
   "cell_type": "code",
   "execution_count": 89,
   "metadata": {
    "ExecuteTime": {
     "end_time": "2019-07-12T11:19:03.104856Z",
     "start_time": "2019-07-12T11:19:03.101924Z"
    }
   },
   "outputs": [],
   "source": [
    "#so wurde das Dataset1, in dem verschiedene k Werte vorkommen, generiert!\n",
    "out = 'data/'\n",
    "\n",
    "x = np.arange(-5,5,0.001)\n",
    "dx = x[1] - x[0]\n",
    "\n",
    "size = 5000"
   ]
  },
  {
   "cell_type": "code",
   "execution_count": 245,
   "metadata": {
    "deletable": false,
    "editable": false,
    "run_control": {
     "frozen": true
    }
   },
   "outputs": [
    {
     "name": "stdout",
     "output_type": "stream",
     "text": [
      "Generating Pot Nmbr  0 , Runtime since last:  0.0001513957977294922 , Runtime so far:  0.00017142295837402344\n",
      "Generating Pot Nmbr  100 , Runtime since last:  19.134867429733276 , Runtime so far:  19.13503909111023\n",
      "Generating Pot Nmbr  200 , Runtime since last:  19.3423273563385 , Runtime so far:  38.47736644744873\n",
      "Generating Pot Nmbr  300 , Runtime since last:  19.526109218597412 , Runtime so far:  58.00347685813904\n",
      "Generating Pot Nmbr  400 , Runtime since last:  19.24662971496582 , Runtime so far:  77.25010657310486\n",
      "Generating Pot Nmbr  500 , Runtime since last:  18.881889820098877 , Runtime so far:  96.1319968700409\n",
      "Generating Pot Nmbr  600 , Runtime since last:  18.70429491996765 , Runtime so far:  114.8362922668457\n",
      "Generating Pot Nmbr  700 , Runtime since last:  18.551145315170288 , Runtime so far:  133.38743829727173\n",
      "Generating Pot Nmbr  800 , Runtime since last:  18.539689540863037 , Runtime so far:  151.92712831497192\n",
      "Generating Pot Nmbr  900 , Runtime since last:  18.511895179748535 , Runtime so far:  170.43902444839478\n",
      "Generating Pot Nmbr  1000 , Runtime since last:  19.37121319770813 , Runtime so far:  189.81023812294006\n",
      "Generating Pot Nmbr  1100 , Runtime since last:  19.132304430007935 , Runtime so far:  208.94254279136658\n",
      "Generating Pot Nmbr  1200 , Runtime since last:  18.793179750442505 , Runtime so far:  227.7357234954834\n",
      "Generating Pot Nmbr  1300 , Runtime since last:  18.903873920440674 , Runtime so far:  246.63959789276123\n",
      "Generating Pot Nmbr  1400 , Runtime since last:  19.32194685935974 , Runtime so far:  265.96154522895813\n",
      "Generating Pot Nmbr  1500 , Runtime since last:  19.251359224319458 , Runtime so far:  285.21290493011475\n",
      "Generating Pot Nmbr  1600 , Runtime since last:  18.884665966033936 , Runtime so far:  304.097571849823\n",
      "Generating Pot Nmbr  1700 , Runtime since last:  19.357484102249146 , Runtime so far:  323.4550566673279\n",
      "Generating Pot Nmbr  1800 , Runtime since last:  19.366639614105225 , Runtime so far:  342.8216972351074\n",
      "Generating Pot Nmbr  1900 , Runtime since last:  19.01570963859558 , Runtime so far:  361.83740758895874\n",
      "Generating Pot Nmbr  2000 , Runtime since last:  19.122998237609863 , Runtime so far:  380.96040654182434\n",
      "Generating Pot Nmbr  2100 , Runtime since last:  19.490066051483154 , Runtime so far:  400.45047330856323\n",
      "Generating Pot Nmbr  2200 , Runtime since last:  19.340988874435425 , Runtime so far:  419.7914628982544\n",
      "Generating Pot Nmbr  2300 , Runtime since last:  18.932154417037964 , Runtime so far:  438.7236180305481\n",
      "Generating Pot Nmbr  2400 , Runtime since last:  18.81907892227173 , Runtime so far:  457.542697429657\n",
      "Generating Pot Nmbr  2500 , Runtime since last:  18.9915554523468 , Runtime so far:  476.5342535972595\n",
      "Generating Pot Nmbr  2600 , Runtime since last:  19.061888456344604 , Runtime so far:  495.5961422920227\n",
      "Generating Pot Nmbr  2700 , Runtime since last:  18.85947036743164 , Runtime so far:  514.4556131362915\n",
      "Generating Pot Nmbr  2800 , Runtime since last:  19.53020977973938 , Runtime so far:  533.9858231544495\n",
      "Generating Pot Nmbr  2900 , Runtime since last:  19.22614073753357 , Runtime so far:  553.2119643688202\n",
      "Generating Pot Nmbr  3000 , Runtime since last:  18.900799036026 , Runtime so far:  572.1127643585205\n",
      "Generating Pot Nmbr  3100 , Runtime since last:  18.920573949813843 , Runtime so far:  591.0333383083344\n",
      "Generating Pot Nmbr  3200 , Runtime since last:  18.786798000335693 , Runtime so far:  609.8201372623444\n",
      "Generating Pot Nmbr  3300 , Runtime since last:  19.15287208557129 , Runtime so far:  628.9730095863342\n",
      "Generating Pot Nmbr  3400 , Runtime since last:  18.564628839492798 , Runtime so far:  647.5376393795013\n",
      "Generating Pot Nmbr  3500 , Runtime since last:  18.71036410331726 , Runtime so far:  666.2480039596558\n",
      "Generating Pot Nmbr  3600 , Runtime since last:  18.556204557418823 , Runtime so far:  684.8042089939117\n",
      "Generating Pot Nmbr  3700 , Runtime since last:  18.510777950286865 , Runtime so far:  703.3149871826172\n",
      "Generating Pot Nmbr  3800 , Runtime since last:  18.528931379318237 , Runtime so far:  721.8439190387726\n",
      "Generating Pot Nmbr  3900 , Runtime since last:  18.605966329574585 , Runtime so far:  740.4498863220215\n",
      "Generating Pot Nmbr  4000 , Runtime since last:  20.02418041229248 , Runtime so far:  760.4740669727325\n",
      "Generating Pot Nmbr  4100 , Runtime since last:  19.18685483932495 , Runtime so far:  779.6609220504761\n",
      "Generating Pot Nmbr  4200 , Runtime since last:  18.697345733642578 , Runtime so far:  798.3582684993744\n",
      "Generating Pot Nmbr  4300 , Runtime since last:  19.524105310440063 , Runtime so far:  817.882381439209\n",
      "Generating Pot Nmbr  4400 , Runtime since last:  18.980406999588013 , Runtime so far:  836.8627889156342\n",
      "Generating Pot Nmbr  4500 , Runtime since last:  19.119179010391235 , Runtime so far:  855.9819686412811\n",
      "Generating Pot Nmbr  4600 , Runtime since last:  19.171353816986084 , Runtime so far:  875.1533229351044\n",
      "Generating Pot Nmbr  4700 , Runtime since last:  19.56343984603882 , Runtime so far:  894.7167637348175\n",
      "Generating Pot Nmbr  4800 , Runtime since last:  19.526805877685547 , Runtime so far:  914.243569612503\n",
      "Generating Pot Nmbr  4900 , Runtime since last:  20.03127956390381 , Runtime so far:  934.2748501300812\n"
     ]
    },
    {
     "data": {
      "text/html": [
       "<div>\n",
       "<style scoped>\n",
       "    .dataframe tbody tr th:only-of-type {\n",
       "        vertical-align: middle;\n",
       "    }\n",
       "\n",
       "    .dataframe tbody tr th {\n",
       "        vertical-align: top;\n",
       "    }\n",
       "\n",
       "    .dataframe thead th {\n",
       "        text-align: right;\n",
       "    }\n",
       "</style>\n",
       "<table border=\"1\" class=\"dataframe\">\n",
       "  <thead>\n",
       "    <tr style=\"text-align: right;\">\n",
       "      <th></th>\n",
       "      <th>idx</th>\n",
       "      <th>k</th>\n",
       "    </tr>\n",
       "  </thead>\n",
       "  <tbody>\n",
       "    <tr>\n",
       "      <th>0</th>\n",
       "      <td>0</td>\n",
       "      <td>2</td>\n",
       "    </tr>\n",
       "    <tr>\n",
       "      <th>1</th>\n",
       "      <td>1</td>\n",
       "      <td>2</td>\n",
       "    </tr>\n",
       "    <tr>\n",
       "      <th>2</th>\n",
       "      <td>2</td>\n",
       "      <td>5</td>\n",
       "    </tr>\n",
       "    <tr>\n",
       "      <th>3</th>\n",
       "      <td>3</td>\n",
       "      <td>6</td>\n",
       "    </tr>\n",
       "    <tr>\n",
       "      <th>4</th>\n",
       "      <td>4</td>\n",
       "      <td>9</td>\n",
       "    </tr>\n",
       "  </tbody>\n",
       "</table>\n",
       "</div>"
      ],
      "text/plain": [
       "   idx  k\n",
       "0    0  2\n",
       "1    1  2\n",
       "2    2  5\n",
       "3    3  6\n",
       "4    4  9"
      ]
     },
     "execution_count": 245,
     "metadata": {},
     "output_type": "execute_result"
    }
   ],
   "source": [
    "#so wurde das Dataset1, in dem verschiedene k Werte vorkommen, generiert!\n",
    "Potentials = {}\n",
    "Potentials['idx'] = []\n",
    "Potentials['k'] = []\n",
    "\n",
    "start = time.time()\n",
    "last = time.time()\n",
    "\n",
    "for i in range(size):\n",
    "\n",
    "    if i%100 == 0: \n",
    "        so_far = time.time() - start\n",
    "        since_last = time.time() - last\n",
    "        last = time.time()\n",
    "        print('Generating Pot Nmbr ',i, ', Runtime since last: ', since_last, ', Runtime so far: ', so_far)\n",
    "        \n",
    "    \n",
    "    k = np.random.randint(1,11, size=1)[0]\n",
    "    \n",
    "    W = generate_W(x)\n",
    "    dW = diff_W(W)\n",
    "    \n",
    "    n = n_compl(W,dW,x,k)\n",
    "    \n",
    "    np.save(out + 'n_real_' + str(i), n.real)\n",
    "    np.save(out + 'n_imag_' + str(i), n.imag)\n",
    "    Potentials['idx'].append(i)\n",
    "    Potentials['k'].append(k)\n",
    "    \n",
    "df = pd.DataFrame(Potentials, columns= ['idx', 'k'])\n",
    "\n",
    "export_csv = df.to_csv (r''+out+'k_values.csv', index = None, header=True)\n",
    "\n",
    "df.head()"
   ]
  },
  {
   "cell_type": "code",
   "execution_count": 20,
   "metadata": {
    "ExecuteTime": {
     "end_time": "2019-07-09T14:51:17.854603Z",
     "start_time": "2019-07-09T14:51:17.847012Z"
    },
    "deletable": false,
    "editable": false,
    "run_control": {
     "frozen": true
    }
   },
   "outputs": [
    {
     "data": {
      "text/plain": [
       "4096"
      ]
     },
     "execution_count": 20,
     "metadata": {},
     "output_type": "execute_result"
    }
   ],
   "source": [
    "#so wurde das Dataset2, in dem nur ein k Werte vorkommt, generiert!\n",
    "out = 'data2/'\n",
    "\n",
    "sample_length = 2**13\n",
    "low = -5\n",
    "up = 5\n",
    "dx = (up-low)/sample_length\n",
    "x = np.arange(low,up,dx)\n",
    "\n",
    "size = int(len(x)/2)"
   ]
  },
  {
   "cell_type": "code",
   "execution_count": null,
   "metadata": {
    "deletable": false,
    "editable": false,
    "run_control": {
     "frozen": true
    }
   },
   "outputs": [],
   "source": [
    "#so wurde das Dataset2, in dem nur ein k Werte vorkommt, generiert!\n",
    "Potentials = {}\n",
    "Potentials['idx'] = []\n",
    "Potentials['k'] = []\n",
    "\n",
    "start = time.time()\n",
    "last = time.time()\n",
    "\n",
    "for i in range(size):\n",
    "\n",
    "    if i%100 == 0: \n",
    "        so_far = time.time() - start\n",
    "        since_last = time.time() - last\n",
    "        last = time.time()\n",
    "        print('Generating Pot Nmbr ',i, ', Runtime since last: ', since_last, ', Runtime so far: ', so_far)\n",
    "        \n",
    "    \n",
    "    k = 1 #np.random.randint(1,11, size=1)[0]\n",
    "    \n",
    "    W = generate_W(x)\n",
    "    dW = diff_W(W)\n",
    "    \n",
    "    n = n_compl(W,dW,x,k)\n",
    "    \n",
    "    np.save(out + 'n_real_' + str(i), n.real)\n",
    "    np.save(out + 'n_imag_' + str(i), n.imag)\n",
    "    Potentials['idx'].append(i)\n",
    "    Potentials['k'].append(k)\n",
    "    \n",
    "df = pd.DataFrame(Potentials, columns= ['idx', 'k'])\n",
    "\n",
    "export_csv = df.to_csv (r''+out+'k_values.csv', index = None, header=True)\n",
    "\n",
    "df.head()"
   ]
  },
  {
   "cell_type": "code",
   "execution_count": 90,
   "metadata": {
    "ExecuteTime": {
     "end_time": "2019-07-12T11:19:03.450069Z",
     "start_time": "2019-07-12T11:19:03.106093Z"
    }
   },
   "outputs": [
    {
     "name": "stdout",
     "output_type": "stream",
     "text": [
      "575\n"
     ]
    },
    {
     "data": {
      "image/png": "[encoded data removed]",
      "text/plain": [
       "<Figure size 432x288 with 1 Axes>"
      ]
     },
     "metadata": {
      "needs_background": "light"
     },
     "output_type": "display_data"
    }
   ],
   "source": [
    "#test ob es funktioniert hat\n",
    "\n",
    "df = pd.read_csv(out + '/k_values.csv')\n",
    "\n",
    "idx = np.random.randint(size, size=1)[0]\n",
    "print(idx)\n",
    "\n",
    "k = df['k'][idx]\n",
    "\n",
    "nr = np.load(out + 'n_real_' + str(idx) + '.npy')\n",
    "ni = np.load(out + 'n_imag_' + str(idx) +'.npy')\n",
    "n = nr + 1j*ni\n",
    "plot_psi(x, dx, n, 1, k)"
   ]
  },
  {
   "cell_type": "markdown",
   "metadata": {},
   "source": [
    "Ein Element aus unserem Dataset wird ein Dictionary sein, mit folgenden Werten:\n",
    "\n",
    "    {\n",
    "    'k_n_r': 1_dim Array (k, n_r),\n",
    "    'n_i': 1_dim Array\n",
    "    }"
   ]
  },
  {
   "cell_type": "markdown",
   "metadata": {},
   "source": [
    "Wir erzeugen eine Klasse, von der ein Dataset ein Objekt sein wird. "
   ]
  },
  {
   "cell_type": "code",
   "execution_count": 91,
   "metadata": {
    "ExecuteTime": {
     "end_time": "2019-07-12T11:19:03.456647Z",
     "start_time": "2019-07-12T11:19:03.451631Z"
    }
   },
   "outputs": [],
   "source": [
    "class PotentialDataset(Dataset):\n",
    "    \n",
    "    def __init__(self, csv_file, root_dir, transform=None):\n",
    "        self.k_frame = pd.read_csv(csv_file)\n",
    "        self.root_dir = root_dir\n",
    "        self.transform = transform\n",
    "        \n",
    "    def __len__(self):\n",
    "        return len(self.k_frame)\n",
    "    \n",
    "    def __getitem__(self, idx):\n",
    "        nr = np.load(out + 'n_real_' + str(idx) +'.npy')\n",
    "        ni = np.load(out + 'n_imag_' + str(idx) +'.npy')\n",
    "        k = self.k_frame['k'][idx]\n",
    "        \n",
    "        k_nr = np.append(k,nr)\n",
    "        \n",
    "        sample = {'k_n_r': k_nr, \n",
    "                  'n_i': ni}\n",
    "        \n",
    "        if self.transform:\n",
    "            sample = self.transform(sample)\n",
    "        \n",
    "        return sample"
   ]
  },
  {
   "cell_type": "code",
   "execution_count": 92,
   "metadata": {
    "ExecuteTime": {
     "end_time": "2019-07-12T11:19:03.463018Z",
     "start_time": "2019-07-12T11:19:03.458114Z"
    }
   },
   "outputs": [],
   "source": [
    "class ToTensor(object):\n",
    "    \"\"\"Convert ndarrays in sample to Tensors.\"\"\"\n",
    "\n",
    "    def __call__(self, sample):\n",
    "        k_nr, ni = sample['k_n_r'], sample['n_i']\n",
    "        \n",
    "        return {'k_n_r': torch.from_numpy(k_nr).float().to(device),\n",
    "                'n_i': torch.from_numpy(ni).float().to(device)}"
   ]
  },
  {
   "cell_type": "code",
   "execution_count": 93,
   "metadata": {
    "ExecuteTime": {
     "end_time": "2019-07-12T11:19:03.467951Z",
     "start_time": "2019-07-12T11:19:03.464301Z"
    }
   },
   "outputs": [],
   "source": [
    "class OneChannel(object):\n",
    "    \"\"\"For Convolution, size (N,C,L) is needed\"\"\"\n",
    "    \n",
    "    def __call__(self, sample):\n",
    "        new_samp = {'k_n_r': torch.ones([1,len(sample['k_n_r'])]),\n",
    "                    'n_i': torch.ones([1,len(sample['n_i'])])}\n",
    "        new_samp['k_n_r'][0] = sample['k_n_r']\n",
    "        new_samp['n_i'][0] = sample['n_i']\n",
    "        new_samp['k_n_r'] = new_samp['k_n_r'].to(device)\n",
    "        new_samp['n_i'] = new_samp['n_i'].to(device)\n",
    "        \n",
    "        return new_samp"
   ]
  },
  {
   "cell_type": "code",
   "execution_count": 94,
   "metadata": {
    "ExecuteTime": {
     "end_time": "2019-07-12T11:19:03.476135Z",
     "start_time": "2019-07-12T11:19:03.471695Z"
    }
   },
   "outputs": [],
   "source": [
    "class Normalize(object):\n",
    "    \"\"\"\"Data ist then normalized to given mean and std.\"\"\"\n",
    "\n",
    "    def __init__(self, means, stds):\n",
    "        self.nr_mean = means[0]\n",
    "        self.nr_std = stds[0]\n",
    "        self.ni_mean = means[1]\n",
    "        self.ni_std = stds[1]\n",
    "    \n",
    "    def __call__(self, sample):\n",
    "        k_nr, ni = sample['k_n_r'], sample['n_i']\n",
    "        \n",
    "        k_nr = (k_nr - self.nr_mean)/self.nr_std\n",
    "        ni = (ni - self.ni_mean)/self.ni_std\n",
    "        \n",
    "        return {'k_n_r': k_nr,\n",
    "                'n_i': ni}"
   ]
  },
  {
   "cell_type": "markdown",
   "metadata": {},
   "source": [
    "Erzeuge das Objekt Dataset."
   ]
  },
  {
   "cell_type": "code",
   "execution_count": 95,
   "metadata": {
    "ExecuteTime": {
     "end_time": "2019-07-12T11:19:06.441798Z",
     "start_time": "2019-07-12T11:19:03.478488Z"
    }
   },
   "outputs": [],
   "source": [
    "# calculate mean and std of data (vernachlässige k)\n",
    "\n",
    "nr_mean = 0\n",
    "nr_std = 0\n",
    "ni_mean = 0\n",
    "ni_std = 0\n",
    "\n",
    "for i in range(size):\n",
    "    nr = np.load(out + 'n_real_' + str(i) + '.npy')\n",
    "    ni = np.load(out + 'n_imag_' + str(i) + '.npy')\n",
    "    \n",
    "    nr_mean += np.mean(nr)\n",
    "    nr_std += np.std(nr)\n",
    "    ni_mean += np.mean(ni)\n",
    "    ni_std += np.std(ni)\n",
    "    \n",
    "nr_mean = nr_mean/size\n",
    "nr_std = nr_std/size\n",
    "ni_mean = ni_mean/size\n",
    "ni_std = ni_std/size"
   ]
  },
  {
   "cell_type": "code",
   "execution_count": 96,
   "metadata": {
    "ExecuteTime": {
     "end_time": "2019-07-12T11:19:06.446087Z",
     "start_time": "2019-07-12T11:19:06.443202Z"
    }
   },
   "outputs": [],
   "source": [
    "transform = transforms.Compose([Normalize((nr_mean, ni_mean), (nr_std, ni_std)),\n",
    "                                ToTensor()\n",
    "                               ])"
   ]
  },
  {
   "cell_type": "markdown",
   "metadata": {},
   "source": [
    "Lege Tensoren auf CUDA."
   ]
  },
  {
   "cell_type": "code",
   "execution_count": 97,
   "metadata": {
    "ExecuteTime": {
     "end_time": "2019-07-12T11:19:06.451215Z",
     "start_time": "2019-07-12T11:19:06.447734Z"
    }
   },
   "outputs": [],
   "source": [
    "device = torch.device(\"cuda\" if torch.cuda.is_available() else \"cpu\")"
   ]
  },
  {
   "cell_type": "code",
   "execution_count": 98,
   "metadata": {
    "ExecuteTime": {
     "end_time": "2019-07-12T11:19:06.457835Z",
     "start_time": "2019-07-12T11:19:06.452282Z"
    }
   },
   "outputs": [],
   "source": [
    "pot_dataset = PotentialDataset(csv_file = out + 'k_values.csv', \n",
    "                               root_dir = out,\n",
    "                               transform = transform)"
   ]
  },
  {
   "cell_type": "code",
   "execution_count": 99,
   "metadata": {
    "ExecuteTime": {
     "end_time": "2019-07-12T11:19:06.467787Z",
     "start_time": "2019-07-12T11:19:06.459038Z"
    }
   },
   "outputs": [
    {
     "data": {
      "text/plain": [
       "tensor(29.4336, device='cuda:0')"
      ]
     },
     "execution_count": 99,
     "metadata": {},
     "output_type": "execute_result"
    }
   ],
   "source": [
    "pot_dataset[19]['k_n_r'][0] #funktioniert prima"
   ]
  },
  {
   "cell_type": "code",
   "execution_count": 100,
   "metadata": {
    "ExecuteTime": {
     "end_time": "2019-07-12T11:19:06.473574Z",
     "start_time": "2019-07-12T11:19:06.469277Z"
    }
   },
   "outputs": [
    {
     "name": "stdout",
     "output_type": "stream",
     "text": [
      "torch.Size([10001])\n"
     ]
    }
   ],
   "source": [
    "print(pot_dataset[19]['k_n_r'].size())"
   ]
  },
  {
   "cell_type": "code",
   "execution_count": 101,
   "metadata": {
    "ExecuteTime": {
     "end_time": "2019-07-12T11:19:06.481256Z",
     "start_time": "2019-07-12T11:19:06.474801Z"
    }
   },
   "outputs": [
    {
     "data": {
      "text/plain": [
       "True"
      ]
     },
     "execution_count": 101,
     "metadata": {},
     "output_type": "execute_result"
    }
   ],
   "source": [
    "pot_dataset[19]['k_n_r'].is_cuda"
   ]
  },
  {
   "cell_type": "code",
   "execution_count": 102,
   "metadata": {
    "ExecuteTime": {
     "end_time": "2019-07-12T11:19:06.642219Z",
     "start_time": "2019-07-12T11:19:06.483041Z"
    }
   },
   "outputs": [
    {
     "data": {
      "text/plain": [
       "[<matplotlib.lines.Line2D at 0x7f19390daa58>]"
      ]
     },
     "execution_count": 102,
     "metadata": {},
     "output_type": "execute_result"
    },
    {
     "data": {
      "image/png": "[encoded data removed]",
      "text/plain": [
       "<Figure size 432x288 with 1 Axes>"
      ]
     },
     "metadata": {
      "needs_background": "light"
     },
     "output_type": "display_data"
    }
   ],
   "source": [
    "pylab.plot(x,pot_dataset[19]['k_n_r'].cpu().numpy()[1:])\n",
    "pylab.plot(x,pot_dataset[19]['n_i'].cpu().numpy())"
   ]
  },
  {
   "cell_type": "markdown",
   "metadata": {},
   "source": [
    "### Trainiere Netz"
   ]
  },
  {
   "cell_type": "markdown",
   "metadata": {},
   "source": [
    "Erstelle einen Train/Validation Split und die zugehörigen PyTorch DataLoader."
   ]
  },
  {
   "cell_type": "code",
   "execution_count": 103,
   "metadata": {
    "ExecuteTime": {
     "end_time": "2019-07-12T11:19:06.648375Z",
     "start_time": "2019-07-12T11:19:06.643668Z"
    }
   },
   "outputs": [],
   "source": [
    "batch_size = 8\n",
    "validation_split = .2\n",
    "shuffle_dataset = True\n",
    "random_seed= 42\n",
    "\n",
    "# Creating data indices for training and validation splits:\n",
    "dataset_size = len(pot_dataset)\n",
    "indices = list(range(dataset_size))\n",
    "split = int(np.floor(validation_split * dataset_size)) #floor tut abrunden\n",
    "if shuffle_dataset :\n",
    "    np.random.seed(random_seed)\n",
    "    np.random.shuffle(indices)\n",
    "train_indices, val_indices = indices[split:], indices[:split]\n",
    "\n",
    "# Creating PT data samplers and loaders:\n",
    "train_sampler = SubsetRandomSampler(train_indices)\n",
    "valid_sampler = SubsetRandomSampler(val_indices)\n",
    "\n",
    "train_loader = DataLoader(pot_dataset, \n",
    "                          batch_size=batch_size, \n",
    "                          sampler=train_sampler)\n",
    "validation_loader = DataLoader(pot_dataset, \n",
    "                               batch_size=batch_size,\n",
    "                               sampler=valid_sampler)"
   ]
  },
  {
   "cell_type": "markdown",
   "metadata": {},
   "source": [
    "Erstelle ein Fully Connected Feed Forward Net."
   ]
  },
  {
   "cell_type": "code",
   "execution_count": 104,
   "metadata": {
    "ExecuteTime": {
     "end_time": "2019-07-12T11:19:06.656309Z",
     "start_time": "2019-07-12T11:19:06.649528Z"
    }
   },
   "outputs": [],
   "source": [
    "class Net(nn.Module):\n",
    "\n",
    "    def __init__(self, n_feature, n_hidden, n_output):\n",
    "        super(Net, self).__init__()\n",
    "        self.hidden1 = nn.Linear(n_feature, n_hidden)   # hidden layer\n",
    "        self.hidden2 = nn.Linear(n_hidden, n_hidden)   # hidden layer\n",
    "        self.hidden3 = nn.Linear(n_hidden, n_hidden)   # hidden layer\n",
    "        self.predict = nn.Linear(n_hidden, n_output) # output layer        \n",
    "\n",
    "    def forward(self, x):\n",
    "        x = F.relu(self.hidden1(x))      # activation function for hidden layer\n",
    "        x = F.relu(self.hidden2(x))\n",
    "        x = F.relu(self.hidden3(x))\n",
    "        x = self.predict(x)             # linear output\n",
    "        return x"
   ]
  },
  {
   "cell_type": "code",
   "execution_count": null,
   "metadata": {
    "deletable": false,
    "editable": false,
    "run_control": {
     "frozen": true
    }
   },
   "outputs": [],
   "source": [
    "#evtl soll nicht ein neues Model erstellt, sondern ein altes geladen werden!\n",
    "\n",
    "PATH = 'models/FNN.pt'\n",
    "\n",
    "model = torch.load(PATH)\n",
    "model.eval()"
   ]
  },
  {
   "cell_type": "code",
   "execution_count": 105,
   "metadata": {
    "ExecuteTime": {
     "end_time": "2019-07-12T11:19:06.830502Z",
     "start_time": "2019-07-12T11:19:06.657638Z"
    }
   },
   "outputs": [
    {
     "name": "stdout",
     "output_type": "stream",
     "text": [
      "Net(\n",
      "  (hidden1): Linear(in_features=10001, out_features=1000, bias=True)\n",
      "  (hidden2): Linear(in_features=1000, out_features=1000, bias=True)\n",
      "  (hidden3): Linear(in_features=1000, out_features=1000, bias=True)\n",
      "  (predict): Linear(in_features=1000, out_features=10000, bias=True)\n",
      ")\n"
     ]
    }
   ],
   "source": [
    "#sonst erstelle jetzt neues Netz\n",
    "\n",
    "model = Net(n_feature=10001, n_hidden=1000, n_output=10000)\n",
    "print(model)"
   ]
  },
  {
   "cell_type": "markdown",
   "metadata": {},
   "source": [
    "Model auf CUDA:"
   ]
  },
  {
   "cell_type": "code",
   "execution_count": 106,
   "metadata": {
    "ExecuteTime": {
     "end_time": "2019-07-12T11:19:06.853576Z",
     "start_time": "2019-07-12T11:19:06.831963Z"
    }
   },
   "outputs": [
    {
     "data": {
      "text/plain": [
       "Net(\n",
       "  (hidden1): Linear(in_features=10001, out_features=1000, bias=True)\n",
       "  (hidden2): Linear(in_features=1000, out_features=1000, bias=True)\n",
       "  (hidden3): Linear(in_features=1000, out_features=1000, bias=True)\n",
       "  (predict): Linear(in_features=1000, out_features=10000, bias=True)\n",
       ")"
      ]
     },
     "execution_count": 106,
     "metadata": {},
     "output_type": "execute_result"
    }
   ],
   "source": [
    "model.to(device)"
   ]
  },
  {
   "cell_type": "code",
   "execution_count": 107,
   "metadata": {
    "ExecuteTime": {
     "end_time": "2019-07-12T11:19:06.860926Z",
     "start_time": "2019-07-12T11:19:06.856440Z"
    }
   },
   "outputs": [
    {
     "data": {
      "text/plain": [
       "True"
      ]
     },
     "execution_count": 107,
     "metadata": {},
     "output_type": "execute_result"
    }
   ],
   "source": [
    "next(model.parameters()).is_cuda"
   ]
  },
  {
   "cell_type": "markdown",
   "metadata": {},
   "source": [
    "Definiere Optimizer und Loss Function."
   ]
  },
  {
   "cell_type": "code",
   "execution_count": 108,
   "metadata": {
    "ExecuteTime": {
     "end_time": "2019-07-12T11:19:22.070090Z",
     "start_time": "2019-07-12T11:19:22.063158Z"
    }
   },
   "outputs": [],
   "source": [
    "learning_rate = 1e-3\n",
    "\n",
    "criterion = torch.nn.MSELoss()\n",
    "optimizer = torch.optim.Adam(model.parameters(), lr=learning_rate)"
   ]
  },
  {
   "cell_type": "markdown",
   "metadata": {},
   "source": [
    "Jetzt beginnt das echte Training."
   ]
  },
  {
   "cell_type": "code",
   "execution_count": 109,
   "metadata": {
    "ExecuteTime": {
     "end_time": "2019-07-12T11:22:54.142479Z",
     "start_time": "2019-07-12T11:19:26.748335Z"
    }
   },
   "outputs": [
    {
     "name": "stderr",
     "output_type": "stream",
     "text": [
      "WARNING:root:Setting up a new session...\n"
     ]
    },
    {
     "name": "stdout",
     "output_type": "stream",
     "text": [
      "[1,     1] loss: 0.596 runtime: 0.014844\n",
      "[1,    11] loss: 12.984 runtime: 0.133401\n",
      "[1,    21] loss: 7.189 runtime: 0.253112\n",
      "[1,    31] loss: 8.703 runtime: 0.373328\n",
      "[1,    41] loss: 7.962 runtime: 0.491968\n",
      "[1,    51] loss: 5.962 runtime: 0.618685\n",
      "[1,    61] loss: 6.398 runtime: 0.741970\n",
      "[1,    71] loss: 5.123 runtime: 0.866718\n",
      "[1,    81] loss: 5.564 runtime: 0.995924\n",
      "[1,    91] loss: 4.802 runtime: 1.114211\n",
      "[1,   101] loss: 3.719 runtime: 1.233078\n",
      "[1,   111] loss: 3.827 runtime: 1.351695\n",
      "[1,   121] loss: 5.490 runtime: 1.481419\n",
      "[1,   131] loss: 4.447 runtime: 1.602486\n",
      "[1,   141] loss: 5.827 runtime: 1.727470\n",
      "[1,   151] loss: 3.986 runtime: 1.853616\n",
      "[1,   161] loss: 3.541 runtime: 1.982857\n",
      "[1,   171] loss: 4.904 runtime: 2.110685\n",
      "[1,   181] loss: 5.524 runtime: 2.232966\n",
      "[1,   191] loss: 4.550 runtime: 2.353976\n",
      "[1,   201] loss: 4.823 runtime: 2.475796\n",
      "[1,   211] loss: 3.671 runtime: 2.606994\n",
      "[1,   221] loss: 5.308 runtime: 2.730360\n",
      "[1,   231] loss: 4.394 runtime: 2.874292\n",
      "[1,   241] loss: 4.370 runtime: 3.015126\n",
      "[1,   251] loss: 4.517 runtime: 3.138594\n",
      "[1,   261] loss: 4.378 runtime: 3.263767\n",
      "[1,   271] loss: 4.686 runtime: 3.389008\n",
      "[1,   281] loss: 2.555 runtime: 3.513258\n",
      "[1,   291] loss: 2.380 runtime: 3.646645\n",
      "[1,   301] loss: 3.812 runtime: 3.769750\n",
      "[1,   311] loss: 4.738 runtime: 3.892806\n",
      "[1,   321] loss: 4.403 runtime: 4.019504\n",
      "[1,   331] loss: 3.179 runtime: 4.136814\n",
      "[1,   341] loss: 3.769 runtime: 4.252851\n",
      "[1,   351] loss: 3.365 runtime: 4.369154\n",
      "[1,   361] loss: 3.713 runtime: 4.485434\n",
      "[1,   371] loss: 4.728 runtime: 4.602250\n",
      "[1,   381] loss: 3.811 runtime: 4.718714\n",
      "[1,   391] loss: 3.278 runtime: 4.837031\n",
      "[1,   401] loss: 4.636 runtime: 4.961744\n",
      "[1,   411] loss: 4.451 runtime: 5.084613\n",
      "[1,   421] loss: 3.696 runtime: 5.210283\n",
      "[1,   431] loss: 3.485 runtime: 5.330746\n",
      "[1,   441] loss: 3.824 runtime: 5.448681\n",
      "[1,   451] loss: 3.286 runtime: 5.575551\n",
      "[1,   461] loss: 3.201 runtime: 5.696298\n",
      "[1,   471] loss: 4.278 runtime: 5.821016\n",
      "[1,   481] loss: 3.588 runtime: 5.962267\n",
      "[1,   491] loss: 4.228 runtime: 6.094937\n",
      "[2,     1] loss: 3.872 runtime: 10.029982\n",
      "[2,    11] loss: 4.461 runtime: 10.150048\n",
      "[2,    21] loss: 2.759 runtime: 10.266756\n",
      "[2,    31] loss: 4.491 runtime: 10.383947\n",
      "[2,    41] loss: 2.765 runtime: 10.499680\n",
      "[2,    51] loss: 2.243 runtime: 10.638034\n",
      "[2,    61] loss: 5.989 runtime: 10.758475\n",
      "[2,    71] loss: 5.550 runtime: 10.889984\n",
      "[2,    81] loss: 4.214 runtime: 11.015415\n",
      "[2,    91] loss: 4.101 runtime: 11.143665\n",
      "[2,   101] loss: 3.532 runtime: 11.286606\n",
      "[2,   111] loss: 3.832 runtime: 11.411636\n",
      "[2,   121] loss: 3.190 runtime: 11.537345\n",
      "[2,   131] loss: 3.942 runtime: 11.664129\n",
      "[2,   141] loss: 3.552 runtime: 11.790569\n",
      "[2,   151] loss: 3.826 runtime: 11.912899\n",
      "[2,   161] loss: 3.685 runtime: 12.033270\n",
      "[2,   171] loss: 3.602 runtime: 12.152472\n",
      "[2,   181] loss: 3.695 runtime: 12.283444\n",
      "[2,   191] loss: 4.512 runtime: 12.409567\n",
      "[2,   201] loss: 3.919 runtime: 12.538473\n",
      "[2,   211] loss: 5.433 runtime: 12.665108\n",
      "[2,   221] loss: 3.441 runtime: 12.791283\n",
      "[2,   231] loss: 4.953 runtime: 12.909640\n",
      "[2,   241] loss: 3.300 runtime: 13.028538\n",
      "[2,   251] loss: 4.476 runtime: 13.144763\n",
      "[2,   261] loss: 3.846 runtime: 13.260958\n",
      "[2,   271] loss: 2.823 runtime: 13.377695\n",
      "[2,   281] loss: 3.871 runtime: 13.493254\n",
      "[2,   291] loss: 3.619 runtime: 13.611053\n",
      "[2,   301] loss: 2.900 runtime: 13.730012\n",
      "[2,   311] loss: 2.747 runtime: 13.857724\n",
      "[2,   321] loss: 4.066 runtime: 13.982405\n",
      "[2,   331] loss: 2.759 runtime: 14.126419\n",
      "[2,   341] loss: 2.619 runtime: 14.253204\n",
      "[2,   351] loss: 3.582 runtime: 14.386886\n",
      "[2,   361] loss: 4.169 runtime: 14.513791\n",
      "[2,   371] loss: 3.535 runtime: 14.643463\n",
      "[2,   381] loss: 3.931 runtime: 14.769939\n",
      "[2,   391] loss: 3.803 runtime: 14.895356\n",
      "[2,   401] loss: 4.516 runtime: 15.025202\n",
      "[2,   411] loss: 3.695 runtime: 15.145794\n",
      "[2,   421] loss: 2.840 runtime: 15.275035\n",
      "[2,   431] loss: 3.981 runtime: 15.397485\n",
      "[2,   441] loss: 5.041 runtime: 15.521630\n",
      "[2,   451] loss: 3.332 runtime: 15.641442\n",
      "[2,   461] loss: 3.625 runtime: 15.771206\n",
      "[2,   471] loss: 3.128 runtime: 15.890457\n",
      "[2,   481] loss: 5.166 runtime: 16.023814\n",
      "[2,   491] loss: 2.510 runtime: 16.148820\n",
      "[3,     1] loss: 3.557 runtime: 20.061548\n",
      "[3,    11] loss: 2.577 runtime: 20.179978\n",
      "[3,    21] loss: 4.337 runtime: 20.299264\n",
      "[3,    31] loss: 3.423 runtime: 20.418884\n",
      "[3,    41] loss: 3.522 runtime: 20.538041\n",
      "[3,    51] loss: 3.625 runtime: 20.658530\n",
      "[3,    61] loss: 2.936 runtime: 20.781205\n",
      "[3,    71] loss: 2.993 runtime: 20.919196\n",
      "[3,    81] loss: 4.316 runtime: 21.054190\n",
      "[3,    91] loss: 4.616 runtime: 21.174495\n",
      "[3,   101] loss: 4.084 runtime: 21.294260\n",
      "[3,   111] loss: 3.228 runtime: 21.413924\n",
      "[3,   121] loss: 3.627 runtime: 21.531442\n",
      "[3,   131] loss: 2.192 runtime: 21.648003\n",
      "[3,   141] loss: 4.693 runtime: 21.765012\n",
      "[3,   151] loss: 4.223 runtime: 21.881710\n",
      "[3,   161] loss: 3.925 runtime: 21.998721\n",
      "[3,   171] loss: 3.186 runtime: 22.115835\n",
      "[3,   181] loss: 2.540 runtime: 22.232609\n",
      "[3,   191] loss: 3.565 runtime: 22.351767\n",
      "[3,   201] loss: 3.683 runtime: 22.472119\n",
      "[3,   211] loss: 3.461 runtime: 22.593318\n",
      "[3,   221] loss: 4.894 runtime: 22.716452\n",
      "[3,   231] loss: 4.075 runtime: 22.847808\n",
      "[3,   241] loss: 3.463 runtime: 22.975403\n",
      "[3,   251] loss: 3.673 runtime: 23.099535\n",
      "[3,   261] loss: 2.988 runtime: 23.224899\n",
      "[3,   271] loss: 2.736 runtime: 23.356739\n",
      "[3,   281] loss: 3.658 runtime: 23.483501\n",
      "[3,   291] loss: 5.143 runtime: 23.601568\n",
      "[3,   301] loss: 3.457 runtime: 23.721081\n",
      "[3,   311] loss: 3.397 runtime: 23.841682\n",
      "[3,   321] loss: 2.272 runtime: 23.960742\n",
      "[3,   331] loss: 4.795 runtime: 24.080876\n",
      "[3,   341] loss: 2.937 runtime: 24.202519\n",
      "[3,   351] loss: 4.241 runtime: 24.320241\n",
      "[3,   361] loss: 3.708 runtime: 24.445728\n",
      "[3,   371] loss: 5.338 runtime: 24.572191\n",
      "[3,   381] loss: 4.131 runtime: 24.698180\n",
      "[3,   391] loss: 4.077 runtime: 24.823150\n",
      "[3,   401] loss: 4.003 runtime: 24.950193\n",
      "[3,   411] loss: 3.568 runtime: 25.073505\n",
      "[3,   421] loss: 3.812 runtime: 25.194681\n",
      "[3,   431] loss: 2.691 runtime: 25.321395\n",
      "[3,   441] loss: 3.702 runtime: 25.448704\n",
      "[3,   451] loss: 3.988 runtime: 25.580979\n",
      "[3,   461] loss: 4.409 runtime: 25.714846\n",
      "[3,   471] loss: 3.152 runtime: 25.851110\n",
      "[3,   481] loss: 3.904 runtime: 25.988288\n",
      "[3,   491] loss: 4.065 runtime: 26.123737\n",
      "[4,     1] loss: 3.283 runtime: 30.022428\n",
      "[4,    11] loss: 4.398 runtime: 30.144922\n",
      "[4,    21] loss: 4.857 runtime: 30.274964\n",
      "[4,    31] loss: 3.543 runtime: 30.398806\n",
      "[4,    41] loss: 3.027 runtime: 30.524144\n",
      "[4,    51] loss: 3.146 runtime: 30.653372\n",
      "[4,    61] loss: 3.784 runtime: 30.783758\n",
      "[4,    71] loss: 1.806 runtime: 30.906134\n",
      "[4,    81] loss: 4.341 runtime: 31.038355\n",
      "[4,    91] loss: 2.433 runtime: 31.162140\n",
      "[4,   101] loss: 2.490 runtime: 31.287970\n",
      "[4,   111] loss: 2.836 runtime: 31.410151\n",
      "[4,   121] loss: 2.822 runtime: 31.529367\n",
      "[4,   131] loss: 3.027 runtime: 31.648836\n",
      "[4,   141] loss: 4.920 runtime: 31.768077\n",
      "[4,   151] loss: 5.279 runtime: 31.886949\n",
      "[4,   161] loss: 3.998 runtime: 32.006158\n",
      "[4,   171] loss: 3.815 runtime: 32.125199\n",
      "[4,   181] loss: 3.039 runtime: 32.243483\n",
      "[4,   191] loss: 4.189 runtime: 32.374546\n",
      "[4,   201] loss: 3.272 runtime: 32.501696\n",
      "[4,   211] loss: 4.990 runtime: 32.620411\n",
      "[4,   221] loss: 2.293 runtime: 32.739574\n",
      "[4,   231] loss: 3.615 runtime: 32.858587\n",
      "[4,   241] loss: 3.256 runtime: 32.978258\n",
      "[4,   251] loss: 4.026 runtime: 33.097261\n",
      "[4,   261] loss: 3.178 runtime: 33.215963\n",
      "[4,   271] loss: 5.672 runtime: 33.334553\n",
      "[4,   281] loss: 2.894 runtime: 33.454463\n",
      "[4,   291] loss: 3.277 runtime: 33.573887\n",
      "[4,   301] loss: 3.604 runtime: 33.693146\n",
      "[4,   311] loss: 3.693 runtime: 33.812687\n",
      "[4,   321] loss: 3.778 runtime: 33.937455\n",
      "[4,   331] loss: 4.436 runtime: 34.058711\n",
      "[4,   341] loss: 3.049 runtime: 34.192751\n",
      "[4,   351] loss: 3.591 runtime: 34.317007\n",
      "[4,   361] loss: 3.630 runtime: 34.453550\n",
      "[4,   371] loss: 1.780 runtime: 34.573152\n",
      "[4,   381] loss: 2.971 runtime: 34.690454\n",
      "[4,   391] loss: 3.071 runtime: 34.819592\n",
      "[4,   401] loss: 3.413 runtime: 34.965365\n",
      "[4,   411] loss: 4.798 runtime: 35.099621\n",
      "[4,   421] loss: 4.156 runtime: 35.233368\n",
      "[4,   431] loss: 3.766 runtime: 35.373393\n",
      "[4,   441] loss: 3.275 runtime: 35.500046\n",
      "[4,   451] loss: 3.941 runtime: 35.626871\n",
      "[4,   461] loss: 4.949 runtime: 35.764173\n",
      "[4,   471] loss: 3.128 runtime: 35.899054\n"
     ]
    },
    {
     "name": "stdout",
     "output_type": "stream",
     "text": [
      "[4,   481] loss: 4.660 runtime: 36.037520\n",
      "[4,   491] loss: 3.427 runtime: 36.167462\n",
      "[5,     1] loss: 3.170 runtime: 40.085931\n",
      "[5,    11] loss: 3.290 runtime: 40.204638\n",
      "[5,    21] loss: 3.897 runtime: 40.324839\n",
      "[5,    31] loss: 2.660 runtime: 40.455624\n",
      "[5,    41] loss: 3.706 runtime: 40.601912\n",
      "[5,    51] loss: 5.582 runtime: 40.741586\n",
      "[5,    61] loss: 4.919 runtime: 40.876374\n",
      "[5,    71] loss: 3.023 runtime: 41.013035\n",
      "[5,    81] loss: 4.494 runtime: 41.137705\n",
      "[5,    91] loss: 4.455 runtime: 41.263551\n",
      "[5,   101] loss: 4.416 runtime: 41.385697\n",
      "[5,   111] loss: 3.714 runtime: 41.505911\n",
      "[5,   121] loss: 4.558 runtime: 41.626539\n",
      "[5,   131] loss: 4.596 runtime: 41.762028\n",
      "[5,   141] loss: 2.791 runtime: 41.898524\n",
      "[5,   151] loss: 3.721 runtime: 42.029742\n",
      "[5,   161] loss: 2.566 runtime: 42.153842\n",
      "[5,   171] loss: 2.960 runtime: 42.283489\n",
      "[5,   181] loss: 3.629 runtime: 42.431582\n",
      "[5,   191] loss: 2.318 runtime: 42.576980\n",
      "[5,   201] loss: 3.046 runtime: 42.702705\n",
      "[5,   211] loss: 3.739 runtime: 42.828375\n",
      "[5,   221] loss: 3.127 runtime: 42.953659\n",
      "[5,   231] loss: 2.607 runtime: 43.077906\n",
      "[5,   241] loss: 3.098 runtime: 43.201788\n",
      "[5,   251] loss: 3.538 runtime: 43.326669\n",
      "[5,   261] loss: 3.524 runtime: 43.451282\n",
      "[5,   271] loss: 1.799 runtime: 43.567586\n",
      "[5,   281] loss: 4.344 runtime: 43.684970\n",
      "[5,   291] loss: 4.185 runtime: 43.806761\n",
      "[5,   301] loss: 4.379 runtime: 43.925602\n",
      "[5,   311] loss: 3.669 runtime: 44.042665\n",
      "[5,   321] loss: 2.887 runtime: 44.166507\n",
      "[5,   331] loss: 3.275 runtime: 44.302581\n",
      "[5,   341] loss: 2.719 runtime: 44.450971\n",
      "[5,   351] loss: 5.281 runtime: 44.582509\n",
      "[5,   361] loss: 2.638 runtime: 44.714778\n",
      "[5,   371] loss: 3.388 runtime: 44.844253\n",
      "[5,   381] loss: 5.364 runtime: 44.976970\n",
      "[5,   391] loss: 4.072 runtime: 45.109380\n",
      "[5,   401] loss: 2.096 runtime: 45.253578\n",
      "[5,   411] loss: 3.534 runtime: 45.377030\n",
      "[5,   421] loss: 3.136 runtime: 45.504703\n",
      "[5,   431] loss: 3.816 runtime: 45.622634\n",
      "[5,   441] loss: 3.842 runtime: 45.750365\n",
      "[5,   451] loss: 4.006 runtime: 45.871026\n",
      "[5,   461] loss: 2.212 runtime: 45.995848\n",
      "[5,   471] loss: 3.023 runtime: 46.115229\n",
      "[5,   481] loss: 3.058 runtime: 46.234451\n",
      "[5,   491] loss: 3.691 runtime: 46.359302\n",
      "[6,     1] loss: 3.281 runtime: 50.366742\n",
      "[6,    11] loss: 3.427 runtime: 50.485054\n",
      "[6,    21] loss: 4.360 runtime: 50.605599\n",
      "[6,    31] loss: 2.802 runtime: 50.736684\n",
      "[6,    41] loss: 2.929 runtime: 50.867500\n",
      "[6,    51] loss: 3.948 runtime: 50.996048\n",
      "[6,    61] loss: 3.128 runtime: 51.117579\n",
      "[6,    71] loss: 3.897 runtime: 51.236051\n",
      "[6,    81] loss: 2.795 runtime: 51.356930\n",
      "[6,    91] loss: 4.243 runtime: 51.480546\n",
      "[6,   101] loss: 4.638 runtime: 51.608868\n",
      "[6,   111] loss: 2.636 runtime: 51.741368\n",
      "[6,   121] loss: 2.345 runtime: 51.866426\n",
      "[6,   131] loss: 3.583 runtime: 51.984047\n",
      "[6,   141] loss: 4.297 runtime: 52.112727\n",
      "[6,   151] loss: 3.548 runtime: 52.234911\n",
      "[6,   161] loss: 4.137 runtime: 52.360874\n",
      "[6,   171] loss: 3.892 runtime: 52.478674\n",
      "[6,   181] loss: 3.152 runtime: 52.597055\n",
      "[6,   191] loss: 3.634 runtime: 52.714636\n",
      "[6,   201] loss: 2.654 runtime: 52.834605\n",
      "[6,   211] loss: 4.417 runtime: 52.961728\n",
      "[6,   221] loss: 4.054 runtime: 53.098235\n",
      "[6,   231] loss: 2.354 runtime: 53.215130\n",
      "[6,   241] loss: 4.146 runtime: 53.332019\n",
      "[6,   251] loss: 3.712 runtime: 53.456867\n",
      "[6,   261] loss: 3.157 runtime: 53.580237\n",
      "[6,   271] loss: 3.064 runtime: 53.704581\n",
      "[6,   281] loss: 2.637 runtime: 53.829852\n",
      "[6,   291] loss: 2.704 runtime: 53.963291\n",
      "[6,   301] loss: 3.439 runtime: 54.086483\n",
      "[6,   311] loss: 3.627 runtime: 54.211473\n",
      "[6,   321] loss: 2.905 runtime: 54.334730\n",
      "[6,   331] loss: 4.228 runtime: 54.456349\n",
      "[6,   341] loss: 4.139 runtime: 54.576519\n",
      "[6,   351] loss: 4.901 runtime: 54.695460\n",
      "[6,   361] loss: 4.006 runtime: 54.814500\n",
      "[6,   371] loss: 3.687 runtime: 54.935277\n",
      "[6,   381] loss: 4.200 runtime: 55.055636\n",
      "[6,   391] loss: 3.342 runtime: 55.175897\n",
      "[6,   401] loss: 5.098 runtime: 55.295771\n",
      "[6,   411] loss: 3.146 runtime: 55.426710\n",
      "[6,   421] loss: 3.073 runtime: 55.554212\n",
      "[6,   431] loss: 3.197 runtime: 55.677939\n",
      "[6,   441] loss: 3.380 runtime: 55.806044\n",
      "[6,   451] loss: 3.286 runtime: 55.929865\n",
      "[6,   461] loss: 3.883 runtime: 56.054517\n",
      "[6,   471] loss: 2.750 runtime: 56.180184\n",
      "[6,   481] loss: 3.361 runtime: 56.323558\n",
      "[6,   491] loss: 3.242 runtime: 56.449488\n",
      "[7,     1] loss: 2.935 runtime: 60.426697\n",
      "[7,    11] loss: 3.265 runtime: 60.572160\n",
      "[7,    21] loss: 2.712 runtime: 60.703755\n",
      "[7,    31] loss: 3.107 runtime: 60.843077\n",
      "[7,    41] loss: 4.242 runtime: 60.977217\n",
      "[7,    51] loss: 4.202 runtime: 61.096540\n",
      "[7,    61] loss: 3.819 runtime: 61.218004\n",
      "[7,    71] loss: 2.982 runtime: 61.338533\n",
      "[7,    81] loss: 4.415 runtime: 61.459725\n",
      "[7,    91] loss: 3.424 runtime: 61.577810\n",
      "[7,   101] loss: 3.793 runtime: 61.701449\n",
      "[7,   111] loss: 3.642 runtime: 61.820023\n",
      "[7,   121] loss: 4.344 runtime: 61.938769\n",
      "[7,   131] loss: 3.019 runtime: 62.057327\n",
      "[7,   141] loss: 3.210 runtime: 62.176105\n",
      "[7,   151] loss: 2.901 runtime: 62.293924\n",
      "[7,   161] loss: 2.163 runtime: 62.415054\n",
      "[7,   171] loss: 2.883 runtime: 62.535129\n",
      "[7,   181] loss: 5.335 runtime: 62.653887\n",
      "[7,   191] loss: 2.727 runtime: 62.770357\n",
      "[7,   201] loss: 3.094 runtime: 62.898264\n",
      "[7,   211] loss: 3.941 runtime: 63.030286\n",
      "[7,   221] loss: 3.071 runtime: 63.148692\n",
      "[7,   231] loss: 3.863 runtime: 63.267033\n",
      "[7,   241] loss: 4.094 runtime: 63.385710\n",
      "[7,   251] loss: 3.327 runtime: 63.504429\n",
      "[7,   261] loss: 4.310 runtime: 63.622979\n",
      "[7,   271] loss: 4.450 runtime: 63.740957\n",
      "[7,   281] loss: 3.500 runtime: 63.859670\n",
      "[7,   291] loss: 2.861 runtime: 63.977789\n",
      "[7,   301] loss: 4.234 runtime: 64.096420\n",
      "[7,   311] loss: 3.106 runtime: 64.214582\n",
      "[7,   321] loss: 3.255 runtime: 64.332681\n",
      "[7,   331] loss: 3.568 runtime: 64.450434\n",
      "[7,   341] loss: 3.118 runtime: 64.569428\n",
      "[7,   351] loss: 2.204 runtime: 64.687305\n",
      "[7,   361] loss: 3.139 runtime: 64.806176\n",
      "[7,   371] loss: 3.468 runtime: 64.934472\n",
      "[7,   381] loss: 3.083 runtime: 65.057765\n",
      "[7,   391] loss: 3.299 runtime: 65.179071\n",
      "[7,   401] loss: 3.625 runtime: 65.298140\n",
      "[7,   411] loss: 4.064 runtime: 65.417679\n",
      "[7,   421] loss: 4.539 runtime: 65.536926\n",
      "[7,   431] loss: 3.452 runtime: 65.656285\n",
      "[7,   441] loss: 4.517 runtime: 65.774413\n",
      "[7,   451] loss: 2.427 runtime: 65.890580\n",
      "[7,   461] loss: 4.105 runtime: 66.007440\n",
      "[7,   471] loss: 4.215 runtime: 66.123868\n",
      "[7,   481] loss: 4.519 runtime: 66.248962\n",
      "[7,   491] loss: 3.153 runtime: 66.369129\n",
      "[8,     1] loss: 4.215 runtime: 70.250226\n",
      "[8,    11] loss: 3.586 runtime: 70.368491\n",
      "[8,    21] loss: 2.662 runtime: 70.487431\n",
      "[8,    31] loss: 3.402 runtime: 70.605395\n",
      "[8,    41] loss: 2.998 runtime: 70.724552\n",
      "[8,    51] loss: 3.068 runtime: 70.842520\n",
      "[8,    61] loss: 2.179 runtime: 70.961377\n",
      "[8,    71] loss: 3.994 runtime: 71.079674\n",
      "[8,    81] loss: 2.364 runtime: 71.198766\n",
      "[8,    91] loss: 5.356 runtime: 71.317534\n",
      "[8,   101] loss: 3.115 runtime: 71.436592\n",
      "[8,   111] loss: 3.216 runtime: 71.554823\n",
      "[8,   121] loss: 3.609 runtime: 71.673840\n",
      "[8,   131] loss: 3.767 runtime: 71.791543\n",
      "[8,   141] loss: 3.675 runtime: 71.911475\n",
      "[8,   151] loss: 4.171 runtime: 72.030100\n",
      "[8,   161] loss: 3.723 runtime: 72.149201\n",
      "[8,   171] loss: 3.072 runtime: 72.267453\n",
      "[8,   181] loss: 2.661 runtime: 72.386865\n",
      "[8,   191] loss: 4.188 runtime: 72.506880\n",
      "[8,   201] loss: 4.424 runtime: 72.625577\n",
      "[8,   211] loss: 3.015 runtime: 72.743921\n",
      "[8,   221] loss: 3.646 runtime: 72.863612\n",
      "[8,   231] loss: 3.538 runtime: 72.982137\n",
      "[8,   241] loss: 3.618 runtime: 73.102801\n",
      "[8,   251] loss: 3.958 runtime: 73.241867\n",
      "[8,   261] loss: 3.627 runtime: 73.374327\n",
      "[8,   271] loss: 3.698 runtime: 73.499483\n",
      "[8,   281] loss: 2.909 runtime: 73.626386\n",
      "[8,   291] loss: 3.177 runtime: 73.750834\n",
      "[8,   301] loss: 3.976 runtime: 73.886809\n",
      "[8,   311] loss: 2.793 runtime: 74.015284\n",
      "[8,   321] loss: 3.223 runtime: 74.149877\n",
      "[8,   331] loss: 4.018 runtime: 74.274812\n",
      "[8,   341] loss: 3.071 runtime: 74.402199\n",
      "[8,   351] loss: 3.344 runtime: 74.527378\n",
      "[8,   361] loss: 3.763 runtime: 74.652875\n",
      "[8,   371] loss: 2.866 runtime: 74.782185\n",
      "[8,   381] loss: 3.307 runtime: 74.908871\n",
      "[8,   391] loss: 5.617 runtime: 75.052674\n",
      "[8,   401] loss: 3.485 runtime: 75.196844\n",
      "[8,   411] loss: 3.063 runtime: 75.343894\n",
      "[8,   421] loss: 3.606 runtime: 75.487729\n",
      "[8,   431] loss: 2.917 runtime: 75.616856\n"
     ]
    },
    {
     "name": "stdout",
     "output_type": "stream",
     "text": [
      "[8,   441] loss: 2.888 runtime: 75.744102\n",
      "[8,   451] loss: 3.380 runtime: 75.874815\n",
      "[8,   461] loss: 3.930 runtime: 75.997783\n",
      "[8,   471] loss: 4.100 runtime: 76.136887\n",
      "[8,   481] loss: 3.958 runtime: 76.279229\n",
      "[8,   491] loss: 3.867 runtime: 76.412145\n",
      "[9,     1] loss: 3.145 runtime: 80.484770\n",
      "[9,    11] loss: 3.384 runtime: 80.624775\n",
      "[9,    21] loss: 3.891 runtime: 80.755948\n",
      "[9,    31] loss: 4.559 runtime: 80.888060\n",
      "[9,    41] loss: 3.640 runtime: 81.007944\n",
      "[9,    51] loss: 2.917 runtime: 81.128080\n",
      "[9,    61] loss: 2.959 runtime: 81.246813\n",
      "[9,    71] loss: 2.152 runtime: 81.375847\n",
      "[9,    81] loss: 4.439 runtime: 81.504621\n",
      "[9,    91] loss: 4.176 runtime: 81.621320\n",
      "[9,   101] loss: 4.296 runtime: 81.740871\n",
      "[9,   111] loss: 2.793 runtime: 81.860159\n",
      "[9,   121] loss: 4.383 runtime: 81.979882\n",
      "[9,   131] loss: 2.424 runtime: 82.099009\n",
      "[9,   141] loss: 2.689 runtime: 82.223991\n",
      "[9,   151] loss: 3.779 runtime: 82.349734\n",
      "[9,   161] loss: 2.976 runtime: 82.492287\n",
      "[9,   171] loss: 4.277 runtime: 82.620152\n",
      "[9,   181] loss: 4.237 runtime: 82.747905\n",
      "[9,   191] loss: 3.067 runtime: 82.879096\n",
      "[9,   201] loss: 3.742 runtime: 83.003571\n",
      "[9,   211] loss: 2.609 runtime: 83.130442\n",
      "[9,   221] loss: 3.712 runtime: 83.259994\n",
      "[9,   231] loss: 3.360 runtime: 83.383050\n",
      "[9,   241] loss: 2.820 runtime: 83.508762\n",
      "[9,   251] loss: 3.979 runtime: 83.628549\n",
      "[9,   261] loss: 4.637 runtime: 83.748927\n",
      "[9,   271] loss: 4.515 runtime: 83.872513\n",
      "[9,   281] loss: 3.676 runtime: 83.996149\n",
      "[9,   291] loss: 4.451 runtime: 84.115650\n",
      "[9,   301] loss: 3.646 runtime: 84.235563\n",
      "[9,   311] loss: 2.631 runtime: 84.356529\n",
      "[9,   321] loss: 2.638 runtime: 84.477424\n",
      "[9,   331] loss: 3.882 runtime: 84.600540\n",
      "[9,   341] loss: 3.574 runtime: 84.739172\n",
      "[9,   351] loss: 3.503 runtime: 84.872636\n",
      "[9,   361] loss: 3.542 runtime: 85.000572\n",
      "[9,   371] loss: 2.729 runtime: 85.137052\n",
      "[9,   381] loss: 3.618 runtime: 85.290263\n",
      "[9,   391] loss: 3.247 runtime: 85.424281\n",
      "[9,   401] loss: 3.566 runtime: 85.549402\n",
      "[9,   411] loss: 3.764 runtime: 85.674516\n",
      "[9,   421] loss: 3.364 runtime: 85.800045\n",
      "[9,   431] loss: 2.941 runtime: 85.922127\n",
      "[9,   441] loss: 4.523 runtime: 86.050221\n",
      "[9,   451] loss: 3.371 runtime: 86.175235\n",
      "[9,   461] loss: 3.508 runtime: 86.306329\n",
      "[9,   471] loss: 2.934 runtime: 86.428700\n",
      "[9,   481] loss: 2.851 runtime: 86.553889\n",
      "[9,   491] loss: 2.427 runtime: 86.681365\n",
      "[10,     1] loss: 3.398 runtime: 90.697782\n",
      "[10,    11] loss: 3.198 runtime: 90.825673\n",
      "[10,    21] loss: 4.776 runtime: 90.953940\n",
      "[10,    31] loss: 4.080 runtime: 91.084169\n",
      "[10,    41] loss: 2.850 runtime: 91.207603\n",
      "[10,    51] loss: 3.624 runtime: 91.330987\n",
      "[10,    61] loss: 3.716 runtime: 91.455738\n",
      "[10,    71] loss: 3.936 runtime: 91.586558\n",
      "[10,    81] loss: 2.940 runtime: 91.705096\n",
      "[10,    91] loss: 4.680 runtime: 91.824690\n",
      "[10,   101] loss: 4.001 runtime: 91.943813\n",
      "[10,   111] loss: 2.829 runtime: 92.074320\n",
      "[10,   121] loss: 3.302 runtime: 92.216933\n",
      "[10,   131] loss: 2.765 runtime: 92.368345\n",
      "[10,   141] loss: 4.029 runtime: 92.506859\n",
      "[10,   151] loss: 2.147 runtime: 92.627849\n",
      "[10,   161] loss: 3.746 runtime: 92.756814\n",
      "[10,   171] loss: 3.951 runtime: 92.878584\n",
      "[10,   181] loss: 4.097 runtime: 93.017489\n",
      "[10,   191] loss: 2.939 runtime: 93.143151\n",
      "[10,   201] loss: 3.116 runtime: 93.271059\n",
      "[10,   211] loss: 4.034 runtime: 93.399209\n",
      "[10,   221] loss: 2.804 runtime: 93.524344\n",
      "[10,   231] loss: 3.560 runtime: 93.650390\n",
      "[10,   241] loss: 3.714 runtime: 93.778569\n",
      "[10,   251] loss: 4.277 runtime: 93.916246\n",
      "[10,   261] loss: 3.781 runtime: 94.041146\n",
      "[10,   271] loss: 4.436 runtime: 94.167861\n",
      "[10,   281] loss: 2.874 runtime: 94.292903\n",
      "[10,   291] loss: 4.532 runtime: 94.417229\n",
      "[10,   301] loss: 3.465 runtime: 94.538725\n",
      "[10,   311] loss: 2.322 runtime: 94.667460\n",
      "[10,   321] loss: 2.461 runtime: 94.795952\n",
      "[10,   331] loss: 3.623 runtime: 94.922557\n",
      "[10,   341] loss: 4.619 runtime: 95.047495\n",
      "[10,   351] loss: 3.209 runtime: 95.178432\n",
      "[10,   361] loss: 3.290 runtime: 95.303962\n",
      "[10,   371] loss: 2.366 runtime: 95.434402\n",
      "[10,   381] loss: 4.238 runtime: 95.567984\n",
      "[10,   391] loss: 2.685 runtime: 95.711697\n",
      "[10,   401] loss: 3.340 runtime: 95.841033\n",
      "[10,   411] loss: 2.390 runtime: 95.958625\n",
      "[10,   421] loss: 3.757 runtime: 96.079917\n",
      "[10,   431] loss: 4.453 runtime: 96.211610\n",
      "[10,   441] loss: 2.934 runtime: 96.359955\n",
      "[10,   451] loss: 2.297 runtime: 96.496385\n",
      "[10,   461] loss: 3.284 runtime: 96.638435\n",
      "[10,   471] loss: 4.733 runtime: 96.762079\n",
      "[10,   481] loss: 3.641 runtime: 96.881097\n",
      "[10,   491] loss: 4.156 runtime: 97.002247\n",
      "[11,     1] loss: 3.361 runtime: 100.887058\n",
      "[11,    11] loss: 3.812 runtime: 101.005503\n",
      "[11,    21] loss: 3.650 runtime: 101.126174\n",
      "[11,    31] loss: 4.233 runtime: 101.245406\n",
      "[11,    41] loss: 4.071 runtime: 101.372623\n",
      "[11,    51] loss: 3.640 runtime: 101.496475\n",
      "[11,    61] loss: 3.576 runtime: 101.620910\n",
      "[11,    71] loss: 3.076 runtime: 101.745156\n",
      "[11,    81] loss: 2.797 runtime: 101.867675\n",
      "[11,    91] loss: 3.857 runtime: 101.988518\n",
      "[11,   101] loss: 4.364 runtime: 102.108986\n",
      "[11,   111] loss: 3.536 runtime: 102.231920\n",
      "[11,   121] loss: 2.955 runtime: 102.362427\n",
      "[11,   131] loss: 4.032 runtime: 102.507130\n",
      "[11,   141] loss: 2.874 runtime: 102.640964\n",
      "[11,   151] loss: 3.464 runtime: 102.783663\n",
      "[11,   161] loss: 2.724 runtime: 102.908533\n",
      "[11,   171] loss: 4.055 runtime: 103.038998\n",
      "[11,   181] loss: 3.085 runtime: 103.172425\n",
      "[11,   191] loss: 3.184 runtime: 103.296154\n",
      "[11,   201] loss: 3.618 runtime: 103.423681\n",
      "[11,   211] loss: 4.823 runtime: 103.552635\n",
      "[11,   221] loss: 4.232 runtime: 103.675813\n",
      "[11,   231] loss: 3.335 runtime: 103.801277\n",
      "[11,   241] loss: 4.450 runtime: 103.925932\n",
      "[11,   251] loss: 2.282 runtime: 104.044296\n",
      "[11,   261] loss: 2.990 runtime: 104.177412\n",
      "[11,   271] loss: 2.985 runtime: 104.300867\n",
      "[11,   281] loss: 2.403 runtime: 104.432680\n",
      "[11,   291] loss: 3.592 runtime: 104.556578\n",
      "[11,   301] loss: 2.594 runtime: 104.685766\n",
      "[11,   311] loss: 3.101 runtime: 104.804062\n",
      "[11,   321] loss: 2.452 runtime: 104.933860\n",
      "[11,   331] loss: 3.969 runtime: 105.059794\n",
      "[11,   341] loss: 3.530 runtime: 105.180146\n",
      "[11,   351] loss: 3.918 runtime: 105.295753\n",
      "[11,   361] loss: 3.583 runtime: 105.413478\n",
      "[11,   371] loss: 3.222 runtime: 105.532525\n",
      "[11,   381] loss: 4.212 runtime: 105.651284\n",
      "[11,   391] loss: 3.156 runtime: 105.770204\n",
      "[11,   401] loss: 4.197 runtime: 105.890014\n",
      "[11,   411] loss: 3.711 runtime: 106.008433\n",
      "[11,   421] loss: 3.700 runtime: 106.136823\n",
      "[11,   431] loss: 4.150 runtime: 106.260823\n",
      "[11,   441] loss: 3.698 runtime: 106.396178\n",
      "[11,   451] loss: 2.400 runtime: 106.532383\n",
      "[11,   461] loss: 3.723 runtime: 106.659141\n",
      "[11,   471] loss: 3.060 runtime: 106.782259\n",
      "[11,   481] loss: 4.503 runtime: 106.911592\n",
      "[11,   491] loss: 2.557 runtime: 107.042483\n",
      "[12,     1] loss: 3.119 runtime: 110.909701\n",
      "[12,    11] loss: 3.241 runtime: 111.027991\n",
      "[12,    21] loss: 2.462 runtime: 111.156418\n",
      "[12,    31] loss: 3.332 runtime: 111.285345\n",
      "[12,    41] loss: 3.834 runtime: 111.409517\n",
      "[12,    51] loss: 4.153 runtime: 111.530024\n",
      "[12,    61] loss: 3.221 runtime: 111.652915\n",
      "[12,    71] loss: 2.850 runtime: 111.788954\n",
      "[12,    81] loss: 3.578 runtime: 111.922576\n",
      "[12,    91] loss: 3.659 runtime: 112.044109\n",
      "[12,   101] loss: 5.365 runtime: 112.170217\n",
      "[12,   111] loss: 2.613 runtime: 112.293455\n",
      "[12,   121] loss: 3.810 runtime: 112.417994\n",
      "[12,   131] loss: 5.877 runtime: 112.550145\n",
      "[12,   141] loss: 3.316 runtime: 112.679404\n",
      "[12,   151] loss: 2.770 runtime: 112.802412\n",
      "[12,   161] loss: 3.899 runtime: 112.929533\n",
      "[12,   171] loss: 3.044 runtime: 113.060071\n",
      "[12,   181] loss: 3.339 runtime: 113.185000\n",
      "[12,   191] loss: 3.592 runtime: 113.312529\n",
      "[12,   201] loss: 2.283 runtime: 113.444331\n",
      "[12,   211] loss: 3.094 runtime: 113.574912\n",
      "[12,   221] loss: 3.938 runtime: 113.697548\n",
      "[12,   231] loss: 3.621 runtime: 113.818983\n",
      "[12,   241] loss: 4.238 runtime: 113.947062\n",
      "[12,   251] loss: 4.830 runtime: 114.072140\n",
      "[12,   261] loss: 3.538 runtime: 114.194345\n",
      "[12,   271] loss: 5.242 runtime: 114.315687\n",
      "[12,   281] loss: 2.821 runtime: 114.444130\n",
      "[12,   291] loss: 5.214 runtime: 114.567696\n",
      "[12,   301] loss: 5.073 runtime: 114.690498\n",
      "[12,   311] loss: 1.892 runtime: 114.808709\n",
      "[12,   321] loss: 3.908 runtime: 114.928424\n",
      "[12,   331] loss: 2.313 runtime: 115.047596\n"
     ]
    },
    {
     "name": "stdout",
     "output_type": "stream",
     "text": [
      "[12,   341] loss: 2.379 runtime: 115.167108\n",
      "[12,   351] loss: 3.632 runtime: 115.286965\n",
      "[12,   361] loss: 2.768 runtime: 115.418667\n",
      "[12,   371] loss: 3.987 runtime: 115.547901\n",
      "[12,   381] loss: 4.345 runtime: 115.667351\n",
      "[12,   391] loss: 2.411 runtime: 115.791456\n",
      "[12,   401] loss: 2.912 runtime: 115.936427\n",
      "[12,   411] loss: 3.855 runtime: 116.063650\n",
      "[12,   421] loss: 2.210 runtime: 116.184617\n",
      "[12,   431] loss: 3.210 runtime: 116.301462\n",
      "[12,   441] loss: 3.715 runtime: 116.422017\n",
      "[12,   451] loss: 3.035 runtime: 116.559096\n",
      "[12,   461] loss: 2.505 runtime: 116.683567\n",
      "[12,   471] loss: 2.739 runtime: 116.804935\n",
      "[12,   481] loss: 1.680 runtime: 116.931158\n",
      "[12,   491] loss: 3.250 runtime: 117.057199\n",
      "[13,     1] loss: 3.984 runtime: 120.973468\n",
      "[13,    11] loss: 3.520 runtime: 121.091670\n",
      "[13,    21] loss: 3.853 runtime: 121.210926\n",
      "[13,    31] loss: 2.334 runtime: 121.329760\n",
      "[13,    41] loss: 1.847 runtime: 121.449835\n",
      "[13,    51] loss: 3.774 runtime: 121.565608\n",
      "[13,    61] loss: 3.348 runtime: 121.683335\n",
      "[13,    71] loss: 2.310 runtime: 121.806550\n",
      "[13,    81] loss: 3.148 runtime: 121.930073\n",
      "[13,    91] loss: 2.906 runtime: 122.052426\n",
      "[13,   101] loss: 4.182 runtime: 122.173423\n",
      "[13,   111] loss: 3.655 runtime: 122.293433\n",
      "[13,   121] loss: 4.075 runtime: 122.417229\n",
      "[13,   131] loss: 3.971 runtime: 122.543052\n",
      "[13,   141] loss: 3.422 runtime: 122.669122\n",
      "[13,   151] loss: 2.332 runtime: 122.788468\n",
      "[13,   161] loss: 4.337 runtime: 122.908856\n",
      "[13,   171] loss: 3.056 runtime: 123.031238\n",
      "[13,   181] loss: 3.207 runtime: 123.147942\n",
      "[13,   191] loss: 4.104 runtime: 123.265405\n",
      "[13,   201] loss: 4.386 runtime: 123.382716\n",
      "[13,   211] loss: 3.214 runtime: 123.499661\n",
      "[13,   221] loss: 4.012 runtime: 123.621928\n",
      "[13,   231] loss: 3.854 runtime: 123.746991\n",
      "[13,   241] loss: 2.992 runtime: 123.870454\n",
      "[13,   251] loss: 3.123 runtime: 124.001911\n",
      "[13,   261] loss: 3.685 runtime: 124.134520\n",
      "[13,   271] loss: 3.980 runtime: 124.255147\n",
      "[13,   281] loss: 3.191 runtime: 124.380867\n",
      "[13,   291] loss: 3.537 runtime: 124.502203\n",
      "[13,   301] loss: 3.219 runtime: 124.639642\n",
      "[13,   311] loss: 2.747 runtime: 124.758502\n",
      "[13,   321] loss: 3.212 runtime: 124.878395\n",
      "[13,   331] loss: 2.254 runtime: 125.003685\n",
      "[13,   341] loss: 2.349 runtime: 125.127251\n",
      "[13,   351] loss: 3.329 runtime: 125.260803\n",
      "[13,   361] loss: 3.084 runtime: 125.380464\n",
      "[13,   371] loss: 3.427 runtime: 125.511507\n",
      "[13,   381] loss: 3.974 runtime: 125.649320\n",
      "[13,   391] loss: 4.180 runtime: 125.774734\n",
      "[13,   401] loss: 3.628 runtime: 125.905256\n",
      "[13,   411] loss: 3.928 runtime: 126.028099\n",
      "[13,   421] loss: 3.577 runtime: 126.152395\n",
      "[13,   431] loss: 3.784 runtime: 126.276678\n",
      "[13,   441] loss: 4.596 runtime: 126.406404\n",
      "[13,   451] loss: 3.789 runtime: 126.531158\n",
      "[13,   461] loss: 3.565 runtime: 126.657791\n",
      "[13,   471] loss: 3.700 runtime: 126.781440\n",
      "[13,   481] loss: 3.499 runtime: 126.907678\n",
      "[13,   491] loss: 4.459 runtime: 127.028430\n",
      "[14,     1] loss: 3.807 runtime: 130.934433\n",
      "[14,    11] loss: 3.097 runtime: 131.058984\n",
      "[14,    21] loss: 4.051 runtime: 131.181622\n",
      "[14,    31] loss: 2.380 runtime: 131.312759\n",
      "[14,    41] loss: 4.878 runtime: 131.432718\n",
      "[14,    51] loss: 3.651 runtime: 131.558850\n",
      "[14,    61] loss: 2.905 runtime: 131.687807\n",
      "[14,    71] loss: 4.138 runtime: 131.815848\n",
      "[14,    81] loss: 4.481 runtime: 131.955096\n",
      "[14,    91] loss: 3.823 runtime: 132.074942\n",
      "[14,   101] loss: 3.035 runtime: 132.194255\n",
      "[14,   111] loss: 4.112 runtime: 132.313667\n",
      "[14,   121] loss: 4.107 runtime: 132.435175\n",
      "[14,   131] loss: 3.522 runtime: 132.561978\n",
      "[14,   141] loss: 2.891 runtime: 132.685097\n",
      "[14,   151] loss: 2.538 runtime: 132.809476\n",
      "[14,   161] loss: 3.526 runtime: 132.935479\n",
      "[14,   171] loss: 3.304 runtime: 133.071141\n",
      "[14,   181] loss: 4.112 runtime: 133.194813\n",
      "[14,   191] loss: 2.936 runtime: 133.323393\n",
      "[14,   201] loss: 3.370 runtime: 133.447740\n",
      "[14,   211] loss: 3.868 runtime: 133.587300\n",
      "[14,   221] loss: 2.788 runtime: 133.723711\n",
      "[14,   231] loss: 3.855 runtime: 133.849499\n",
      "[14,   241] loss: 3.816 runtime: 133.977161\n",
      "[14,   251] loss: 2.857 runtime: 134.101341\n",
      "[14,   261] loss: 3.193 runtime: 134.226607\n",
      "[14,   271] loss: 3.838 runtime: 134.356885\n",
      "[14,   281] loss: 3.347 runtime: 134.481705\n",
      "[14,   291] loss: 3.949 runtime: 134.615059\n",
      "[14,   301] loss: 3.271 runtime: 134.736626\n",
      "[14,   311] loss: 3.409 runtime: 134.856997\n",
      "[14,   321] loss: 3.246 runtime: 134.975782\n",
      "[14,   331] loss: 2.648 runtime: 135.096907\n",
      "[14,   341] loss: 3.630 runtime: 135.224882\n",
      "[14,   351] loss: 2.876 runtime: 135.343482\n",
      "[14,   361] loss: 2.272 runtime: 135.467246\n",
      "[14,   371] loss: 2.901 runtime: 135.586747\n",
      "[14,   381] loss: 3.115 runtime: 135.713530\n",
      "[14,   391] loss: 3.566 runtime: 135.840260\n",
      "[14,   401] loss: 3.088 runtime: 135.964628\n",
      "[14,   411] loss: 3.537 runtime: 136.083331\n",
      "[14,   421] loss: 3.987 runtime: 136.204649\n",
      "[14,   431] loss: 2.798 runtime: 136.332319\n",
      "[14,   441] loss: 2.964 runtime: 136.451484\n",
      "[14,   451] loss: 2.751 runtime: 136.582736\n",
      "[14,   461] loss: 4.211 runtime: 136.703638\n",
      "[14,   471] loss: 3.524 runtime: 136.826993\n",
      "[14,   481] loss: 3.105 runtime: 136.954341\n",
      "[14,   491] loss: 4.568 runtime: 137.073899\n",
      "[15,     1] loss: 2.958 runtime: 141.060941\n",
      "[15,    11] loss: 4.280 runtime: 141.188410\n",
      "[15,    21] loss: 2.506 runtime: 141.312703\n",
      "[15,    31] loss: 4.070 runtime: 141.434425\n",
      "[15,    41] loss: 2.815 runtime: 141.552361\n",
      "[15,    51] loss: 1.908 runtime: 141.668826\n",
      "[15,    61] loss: 4.761 runtime: 141.792216\n",
      "[15,    71] loss: 2.895 runtime: 141.920674\n",
      "[15,    81] loss: 3.013 runtime: 142.049868\n",
      "[15,    91] loss: 3.574 runtime: 142.172063\n",
      "[15,   101] loss: 2.428 runtime: 142.296903\n",
      "[15,   111] loss: 4.558 runtime: 142.419719\n",
      "[15,   121] loss: 2.810 runtime: 142.542177\n",
      "[15,   131] loss: 3.960 runtime: 142.678081\n",
      "[15,   141] loss: 2.267 runtime: 142.802826\n",
      "[15,   151] loss: 3.560 runtime: 142.936045\n",
      "[15,   161] loss: 3.448 runtime: 143.061993\n",
      "[15,   171] loss: 2.866 runtime: 143.191297\n",
      "[15,   181] loss: 3.480 runtime: 143.331438\n",
      "[15,   191] loss: 2.047 runtime: 143.463318\n",
      "[15,   201] loss: 4.058 runtime: 143.599375\n",
      "[15,   211] loss: 3.867 runtime: 143.761026\n",
      "[15,   221] loss: 4.343 runtime: 143.896062\n",
      "[15,   231] loss: 3.557 runtime: 144.022481\n",
      "[15,   241] loss: 3.209 runtime: 144.159391\n",
      "[15,   251] loss: 2.851 runtime: 144.285635\n",
      "[15,   261] loss: 3.321 runtime: 144.412671\n",
      "[15,   271] loss: 4.741 runtime: 144.541643\n",
      "[15,   281] loss: 4.228 runtime: 144.665923\n",
      "[15,   291] loss: 2.751 runtime: 144.799927\n",
      "[15,   301] loss: 4.746 runtime: 144.926621\n",
      "[15,   311] loss: 3.323 runtime: 145.053942\n",
      "[15,   321] loss: 3.540 runtime: 145.176972\n",
      "[15,   331] loss: 2.606 runtime: 145.303558\n",
      "[15,   341] loss: 3.448 runtime: 145.426729\n",
      "[15,   351] loss: 3.403 runtime: 145.550611\n",
      "[15,   361] loss: 3.044 runtime: 145.674831\n",
      "[15,   371] loss: 3.383 runtime: 145.797115\n",
      "[15,   381] loss: 2.929 runtime: 145.925732\n",
      "[15,   391] loss: 4.102 runtime: 146.045589\n",
      "[15,   401] loss: 2.796 runtime: 146.162966\n",
      "[15,   411] loss: 3.396 runtime: 146.279289\n",
      "[15,   421] loss: 4.185 runtime: 146.397585\n",
      "[15,   431] loss: 3.762 runtime: 146.517697\n",
      "[15,   441] loss: 3.794 runtime: 146.634523\n",
      "[15,   451] loss: 2.920 runtime: 146.751409\n",
      "[15,   461] loss: 2.681 runtime: 146.874770\n",
      "[15,   471] loss: 4.269 runtime: 146.999659\n",
      "[15,   481] loss: 3.369 runtime: 147.121201\n",
      "[15,   491] loss: 2.135 runtime: 147.239573\n",
      "[16,     1] loss: 4.406 runtime: 151.165671\n",
      "[16,    11] loss: 3.926 runtime: 151.286698\n",
      "[16,    21] loss: 2.120 runtime: 151.407522\n",
      "[16,    31] loss: 3.472 runtime: 151.530659\n",
      "[16,    41] loss: 2.018 runtime: 151.663314\n",
      "[16,    51] loss: 5.030 runtime: 151.794502\n",
      "[16,    61] loss: 3.031 runtime: 151.912128\n",
      "[16,    71] loss: 2.786 runtime: 152.045016\n",
      "[16,    81] loss: 3.457 runtime: 152.178411\n",
      "[16,    91] loss: 5.488 runtime: 152.299146\n",
      "[16,   101] loss: 2.840 runtime: 152.426785\n",
      "[16,   111] loss: 4.595 runtime: 152.553179\n",
      "[16,   121] loss: 3.575 runtime: 152.674378\n",
      "[16,   131] loss: 3.092 runtime: 152.795157\n",
      "[16,   141] loss: 4.369 runtime: 152.914983\n",
      "[16,   151] loss: 2.538 runtime: 153.034962\n",
      "[16,   161] loss: 3.873 runtime: 153.165950\n",
      "[16,   171] loss: 3.211 runtime: 153.289181\n",
      "[16,   181] loss: 3.418 runtime: 153.423816\n",
      "[16,   191] loss: 3.407 runtime: 153.549345\n",
      "[16,   201] loss: 3.177 runtime: 153.674580\n",
      "[16,   211] loss: 2.833 runtime: 153.795104\n"
     ]
    },
    {
     "name": "stdout",
     "output_type": "stream",
     "text": [
      "[16,   221] loss: 3.652 runtime: 153.913886\n",
      "[16,   231] loss: 3.462 runtime: 154.031694\n",
      "[16,   241] loss: 5.241 runtime: 154.151636\n",
      "[16,   251] loss: 4.880 runtime: 154.274467\n",
      "[16,   261] loss: 2.941 runtime: 154.399983\n",
      "[16,   271] loss: 1.957 runtime: 154.527581\n",
      "[16,   281] loss: 2.868 runtime: 154.650623\n",
      "[16,   291] loss: 3.539 runtime: 154.770887\n",
      "[16,   301] loss: 4.929 runtime: 154.894367\n",
      "[16,   311] loss: 2.784 runtime: 155.018299\n",
      "[16,   321] loss: 3.838 runtime: 155.136113\n",
      "[16,   331] loss: 3.898 runtime: 155.262626\n",
      "[16,   341] loss: 2.636 runtime: 155.384540\n",
      "[16,   351] loss: 2.440 runtime: 155.506105\n",
      "[16,   361] loss: 3.667 runtime: 155.635638\n",
      "[16,   371] loss: 3.495 runtime: 155.755861\n",
      "[16,   381] loss: 3.085 runtime: 155.877233\n",
      "[16,   391] loss: 3.517 runtime: 155.999904\n",
      "[16,   401] loss: 3.079 runtime: 156.133581\n",
      "[16,   411] loss: 1.950 runtime: 156.257857\n",
      "[16,   421] loss: 2.851 runtime: 156.384216\n",
      "[16,   431] loss: 2.389 runtime: 156.508084\n",
      "[16,   441] loss: 4.225 runtime: 156.634749\n",
      "[16,   451] loss: 3.836 runtime: 156.755666\n",
      "[16,   461] loss: 3.443 runtime: 156.885435\n",
      "[16,   471] loss: 2.702 runtime: 157.021501\n",
      "[16,   481] loss: 3.693 runtime: 157.146566\n",
      "[16,   491] loss: 3.248 runtime: 157.264275\n",
      "[17,     1] loss: 4.044 runtime: 161.175307\n",
      "[17,    11] loss: 3.298 runtime: 161.290578\n",
      "[17,    21] loss: 3.763 runtime: 161.407748\n",
      "[17,    31] loss: 3.622 runtime: 161.523995\n",
      "[17,    41] loss: 3.761 runtime: 161.641126\n",
      "[17,    51] loss: 2.905 runtime: 161.758263\n",
      "[17,    61] loss: 3.451 runtime: 161.874867\n",
      "[17,    71] loss: 3.236 runtime: 161.992349\n",
      "[17,    81] loss: 3.038 runtime: 162.111139\n",
      "[17,    91] loss: 4.313 runtime: 162.234265\n",
      "[17,   101] loss: 4.055 runtime: 162.362334\n",
      "[17,   111] loss: 3.087 runtime: 162.485400\n",
      "[17,   121] loss: 3.662 runtime: 162.614243\n",
      "[17,   131] loss: 3.368 runtime: 162.744530\n",
      "[17,   141] loss: 2.934 runtime: 162.869237\n",
      "[17,   151] loss: 1.556 runtime: 162.994726\n",
      "[17,   161] loss: 2.375 runtime: 163.115602\n",
      "[17,   171] loss: 3.575 runtime: 163.236357\n",
      "[17,   181] loss: 3.536 runtime: 163.356777\n",
      "[17,   191] loss: 2.766 runtime: 163.476752\n",
      "[17,   201] loss: 3.621 runtime: 163.597085\n",
      "[17,   211] loss: 3.323 runtime: 163.724934\n",
      "[17,   221] loss: 2.357 runtime: 163.849995\n",
      "[17,   231] loss: 3.006 runtime: 163.973901\n",
      "[17,   241] loss: 3.138 runtime: 164.104013\n",
      "[17,   251] loss: 3.547 runtime: 164.244769\n",
      "[17,   261] loss: 4.067 runtime: 164.383720\n",
      "[17,   271] loss: 2.554 runtime: 164.518752\n",
      "[17,   281] loss: 3.573 runtime: 164.638918\n",
      "[17,   291] loss: 3.593 runtime: 164.767855\n",
      "[17,   301] loss: 3.228 runtime: 164.899256\n",
      "[17,   311] loss: 3.853 runtime: 165.025228\n",
      "[17,   321] loss: 3.712 runtime: 165.149996\n",
      "[17,   331] loss: 4.111 runtime: 165.273853\n",
      "[17,   341] loss: 3.675 runtime: 165.396707\n",
      "[17,   351] loss: 2.391 runtime: 165.519654\n",
      "[17,   361] loss: 2.163 runtime: 165.641170\n",
      "[17,   371] loss: 3.552 runtime: 165.760208\n",
      "[17,   381] loss: 2.871 runtime: 165.878336\n",
      "[17,   391] loss: 2.617 runtime: 165.996990\n",
      "[17,   401] loss: 3.480 runtime: 166.115502\n",
      "[17,   411] loss: 3.398 runtime: 166.236777\n",
      "[17,   421] loss: 3.787 runtime: 166.354936\n",
      "[17,   431] loss: 3.745 runtime: 166.473443\n",
      "[17,   441] loss: 5.518 runtime: 166.592581\n",
      "[17,   451] loss: 3.639 runtime: 166.710950\n",
      "[17,   461] loss: 4.135 runtime: 166.833165\n",
      "[17,   471] loss: 5.089 runtime: 166.963359\n",
      "[17,   481] loss: 3.589 runtime: 167.085395\n",
      "[17,   491] loss: 4.052 runtime: 167.202797\n",
      "[18,     1] loss: 3.474 runtime: 171.179976\n",
      "[18,    11] loss: 3.050 runtime: 171.320269\n",
      "[18,    21] loss: 4.586 runtime: 171.454332\n",
      "[18,    31] loss: 4.217 runtime: 171.574173\n",
      "[18,    41] loss: 3.114 runtime: 171.693461\n",
      "[18,    51] loss: 2.829 runtime: 171.819171\n",
      "[18,    61] loss: 3.347 runtime: 171.939260\n",
      "[18,    71] loss: 3.592 runtime: 172.055845\n",
      "[18,    81] loss: 3.342 runtime: 172.171859\n",
      "[18,    91] loss: 5.030 runtime: 172.289254\n",
      "[18,   101] loss: 3.349 runtime: 172.411180\n",
      "[18,   111] loss: 4.923 runtime: 172.536745\n",
      "[18,   121] loss: 3.974 runtime: 172.667837\n",
      "[18,   131] loss: 3.722 runtime: 172.788489\n",
      "[18,   141] loss: 2.670 runtime: 172.907804\n",
      "[18,   151] loss: 4.034 runtime: 173.036382\n",
      "[18,   161] loss: 2.665 runtime: 173.160370\n",
      "[18,   171] loss: 2.316 runtime: 173.283807\n",
      "[18,   181] loss: 3.040 runtime: 173.408503\n",
      "[18,   191] loss: 2.249 runtime: 173.528307\n",
      "[18,   201] loss: 4.350 runtime: 173.657755\n",
      "[18,   211] loss: 3.302 runtime: 173.776657\n",
      "[18,   221] loss: 2.646 runtime: 173.896881\n",
      "[18,   231] loss: 3.468 runtime: 174.015849\n",
      "[18,   241] loss: 4.124 runtime: 174.134486\n",
      "[18,   251] loss: 2.504 runtime: 174.254217\n",
      "[18,   261] loss: 3.433 runtime: 174.374294\n",
      "[18,   271] loss: 3.221 runtime: 174.501812\n",
      "[18,   281] loss: 2.679 runtime: 174.623824\n",
      "[18,   291] loss: 3.315 runtime: 174.749133\n",
      "[18,   301] loss: 3.644 runtime: 174.873701\n",
      "[18,   311] loss: 2.510 runtime: 175.000931\n",
      "[18,   321] loss: 3.433 runtime: 175.129585\n",
      "[18,   331] loss: 3.136 runtime: 175.255437\n",
      "[18,   341] loss: 3.762 runtime: 175.387816\n",
      "[18,   351] loss: 4.650 runtime: 175.518070\n",
      "[18,   361] loss: 3.842 runtime: 175.643615\n",
      "[18,   371] loss: 3.106 runtime: 175.768838\n",
      "[18,   381] loss: 3.242 runtime: 175.899493\n",
      "[18,   391] loss: 4.158 runtime: 176.032263\n",
      "[18,   401] loss: 4.591 runtime: 176.157968\n",
      "[18,   411] loss: 3.023 runtime: 176.284366\n",
      "[18,   421] loss: 4.077 runtime: 176.401947\n",
      "[18,   431] loss: 2.605 runtime: 176.522563\n",
      "[18,   441] loss: 3.461 runtime: 176.639186\n",
      "[18,   451] loss: 3.139 runtime: 176.755877\n",
      "[18,   461] loss: 3.780 runtime: 176.879555\n",
      "[18,   471] loss: 3.188 runtime: 177.003697\n",
      "[18,   481] loss: 2.540 runtime: 177.130550\n",
      "[18,   491] loss: 3.707 runtime: 177.250617\n",
      "[19,     1] loss: 2.915 runtime: 181.440432\n",
      "[19,    11] loss: 3.095 runtime: 181.568065\n",
      "[19,    21] loss: 3.163 runtime: 181.701866\n",
      "[19,    31] loss: 4.211 runtime: 181.829135\n",
      "[19,    41] loss: 3.254 runtime: 181.975413\n",
      "[19,    51] loss: 3.421 runtime: 182.117654\n",
      "[19,    61] loss: 1.981 runtime: 182.268123\n",
      "[19,    71] loss: 3.875 runtime: 182.386900\n",
      "[19,    81] loss: 2.945 runtime: 182.531001\n",
      "[19,    91] loss: 4.354 runtime: 182.660220\n",
      "[19,   101] loss: 2.534 runtime: 182.802069\n",
      "[19,   111] loss: 3.698 runtime: 182.941537\n",
      "[19,   121] loss: 2.537 runtime: 183.065193\n",
      "[19,   131] loss: 2.484 runtime: 183.195752\n",
      "[19,   141] loss: 3.943 runtime: 183.351219\n",
      "[19,   151] loss: 2.485 runtime: 183.494643\n",
      "[19,   161] loss: 3.726 runtime: 183.628947\n",
      "[19,   171] loss: 2.929 runtime: 183.760267\n",
      "[19,   181] loss: 5.246 runtime: 183.898274\n",
      "[19,   191] loss: 4.331 runtime: 184.064723\n",
      "[19,   201] loss: 3.451 runtime: 184.217585\n",
      "[19,   211] loss: 4.153 runtime: 184.364154\n",
      "[19,   221] loss: 2.093 runtime: 184.487462\n",
      "[19,   231] loss: 4.315 runtime: 184.616120\n",
      "[19,   241] loss: 4.128 runtime: 184.750196\n",
      "[19,   251] loss: 3.311 runtime: 184.875365\n",
      "[19,   261] loss: 3.414 runtime: 185.001174\n",
      "[19,   271] loss: 2.665 runtime: 185.124836\n",
      "[19,   281] loss: 3.307 runtime: 185.259959\n",
      "[19,   291] loss: 3.788 runtime: 185.391005\n",
      "[19,   301] loss: 2.495 runtime: 185.510796\n",
      "[19,   311] loss: 3.679 runtime: 185.644016\n",
      "[19,   321] loss: 3.084 runtime: 185.773045\n",
      "[19,   331] loss: 2.646 runtime: 185.893230\n",
      "[19,   341] loss: 4.262 runtime: 186.036374\n",
      "[19,   351] loss: 2.511 runtime: 186.184482\n",
      "[19,   361] loss: 3.706 runtime: 186.315633\n",
      "[19,   371] loss: 2.955 runtime: 186.464780\n",
      "[19,   381] loss: 3.460 runtime: 186.610589\n",
      "[19,   391] loss: 3.962 runtime: 186.748854\n",
      "[19,   401] loss: 2.521 runtime: 186.887570\n",
      "[19,   411] loss: 3.044 runtime: 187.034214\n",
      "[19,   421] loss: 2.732 runtime: 187.176919\n",
      "[19,   431] loss: 4.226 runtime: 187.316239\n",
      "[19,   441] loss: 3.751 runtime: 187.472362\n",
      "[19,   451] loss: 3.250 runtime: 187.606321\n",
      "[19,   461] loss: 3.666 runtime: 187.770966\n",
      "[19,   471] loss: 4.535 runtime: 187.920346\n",
      "[19,   481] loss: 4.216 runtime: 188.067194\n",
      "[19,   491] loss: 4.107 runtime: 188.201691\n",
      "[20,     1] loss: 2.924 runtime: 192.452127\n",
      "[20,    11] loss: 2.547 runtime: 192.571169\n",
      "[20,    21] loss: 2.863 runtime: 192.691289\n",
      "[20,    31] loss: 3.973 runtime: 192.811831\n",
      "[20,    41] loss: 3.890 runtime: 192.932738\n",
      "[20,    51] loss: 3.915 runtime: 193.052240\n",
      "[20,    61] loss: 3.547 runtime: 193.173232\n",
      "[20,    71] loss: 2.689 runtime: 193.297386\n",
      "[20,    81] loss: 3.351 runtime: 193.434903\n",
      "[20,    91] loss: 3.085 runtime: 193.566552\n"
     ]
    },
    {
     "name": "stdout",
     "output_type": "stream",
     "text": [
      "[20,   101] loss: 3.699 runtime: 193.696090\n",
      "[20,   111] loss: 3.372 runtime: 193.813849\n",
      "[20,   121] loss: 4.147 runtime: 193.932171\n",
      "[20,   131] loss: 3.482 runtime: 194.048903\n",
      "[20,   141] loss: 3.619 runtime: 194.182945\n",
      "[20,   151] loss: 2.029 runtime: 194.328474\n",
      "[20,   161] loss: 4.708 runtime: 194.465357\n",
      "[20,   171] loss: 3.043 runtime: 194.586323\n",
      "[20,   181] loss: 2.577 runtime: 194.715212\n",
      "[20,   191] loss: 3.234 runtime: 194.854910\n",
      "[20,   201] loss: 3.752 runtime: 195.000113\n",
      "[20,   211] loss: 3.086 runtime: 195.121562\n",
      "[20,   221] loss: 3.030 runtime: 195.256279\n",
      "[20,   231] loss: 3.222 runtime: 195.389305\n",
      "[20,   241] loss: 4.613 runtime: 195.519180\n",
      "[20,   251] loss: 4.027 runtime: 195.657353\n",
      "[20,   261] loss: 3.620 runtime: 195.808642\n",
      "[20,   271] loss: 2.359 runtime: 195.951194\n",
      "[20,   281] loss: 5.459 runtime: 196.093609\n",
      "[20,   291] loss: 3.106 runtime: 196.217669\n",
      "[20,   301] loss: 3.203 runtime: 196.365436\n",
      "[20,   311] loss: 2.974 runtime: 196.504499\n",
      "[20,   321] loss: 3.001 runtime: 196.641925\n",
      "[20,   331] loss: 2.912 runtime: 196.765878\n",
      "[20,   341] loss: 2.527 runtime: 196.890985\n",
      "[20,   351] loss: 5.078 runtime: 197.019520\n",
      "[20,   361] loss: 2.826 runtime: 197.153888\n",
      "[20,   371] loss: 3.448 runtime: 197.294412\n",
      "[20,   381] loss: 4.618 runtime: 197.440403\n",
      "[20,   391] loss: 3.486 runtime: 197.576605\n",
      "[20,   401] loss: 2.502 runtime: 197.700322\n",
      "[20,   411] loss: 3.055 runtime: 197.833480\n",
      "[20,   421] loss: 2.548 runtime: 197.963428\n",
      "[20,   431] loss: 2.741 runtime: 198.101062\n",
      "[20,   441] loss: 5.824 runtime: 198.253452\n",
      "[20,   451] loss: 4.026 runtime: 198.401002\n",
      "[20,   461] loss: 3.028 runtime: 198.534069\n",
      "[20,   471] loss: 2.380 runtime: 198.665881\n",
      "[20,   481] loss: 2.919 runtime: 198.801858\n",
      "[20,   491] loss: 4.614 runtime: 198.933613\n"
     ]
    }
   ],
   "source": [
    "num_epochs = 20\n",
    "train_loss = [] #Lists für Plot\n",
    "validation_loss = []\n",
    "\n",
    "# Initialisiere Visdom Loss Monitor\n",
    "vis = visdom.Visdom()\n",
    "\n",
    "#erste Punkte mit ursprünglichen Loss Werten\n",
    "train_loss_ep = 0 \n",
    "for i, data in enumerate(train_loader):\n",
    "    k_nr = data['k_n_r']\n",
    "    ni = data['n_i']\n",
    "    ni_pred = model(k_nr)\n",
    "    train_loss_ep += criterion(ni_pred,ni).item() / len(train_loader)\n",
    "    \n",
    "validation_loss_ep = 0\n",
    "for i, data in enumerate(validation_loader):\n",
    "    k_nr = data['k_n_r']\n",
    "    ni = data['n_i']\n",
    "    ni_pred = model(k_nr)\n",
    "    validation_loss_ep += criterion(ni_pred,ni).item() / len(validation_loader)\n",
    "\n",
    "#initialisiere die beiden Loss Lines in Visdom mit ersten Punkten\n",
    "vis_loss_plt= vis.line(\n",
    "    X=np.column_stack((0, 0)),\n",
    "    Y=np.column_stack((train_loss_ep, validation_loss_ep)),\n",
    "    opts = {\n",
    "    'title': 'Loss Potential-Dataset',\n",
    "    'legend': ['train','validation']}\n",
    ")\n",
    "\n",
    "#fülle Listen für Matplolib Plot zum Schluss mit ersten Punkten\n",
    "train_loss.append(train_loss_ep)\n",
    "validation_loss.append(validation_loss_ep)\n",
    "\n",
    "# Variablen für Zeit - Messung\n",
    "ts = time.time()\n",
    "\n",
    "#######################################################\n",
    "# Ab hier bis zu Hashs geht das eigentliche Training!\n",
    "#######################################################\n",
    "\n",
    "running_loss = 0.0 #loss zum mitschreiben nach den Batches\n",
    "\n",
    "for ep in range(num_epochs): #loop for some episodes\n",
    "    \n",
    "    model = model.train() #pytorch training mode\n",
    "    \n",
    "    for i, data in enumerate(train_loader): #iterate trough minibatches of training set\n",
    "        \n",
    "        k_nr = data['k_n_r']\n",
    "        ni = data['n_i']\n",
    "        \n",
    "        # Forward pass: Compute predicted y by passing x to the model\n",
    "        ni_pred = model(k_nr)\n",
    "\n",
    "        # Compute and print loss\n",
    "        loss = criterion(ni_pred, ni)\n",
    "\n",
    "        # Zero gradients, perform a backward pass, and update the weights\n",
    "        optimizer.zero_grad()\n",
    "        loss.backward()\n",
    "        optimizer.step()\n",
    "        \n",
    "        # print statistics\n",
    "        running_loss += loss.item() * k_nr.size(0)\n",
    "        if i % 10 == 0:    # print every 10 mini-batches\n",
    "            print('[%d, %5d] loss: %.3f runtime: %f' %\n",
    "                  (ep + 1, i + 1, running_loss / 10, time.time() - ts))\n",
    "            running_loss = 0.0\n",
    "            \n",
    "#######################################################\n",
    "# Ab jetzt nur mehr Plots etc\n",
    "#######################################################  \n",
    "\n",
    "    model = model.eval() #pytorch evaluation mode\n",
    "    \n",
    "    # print learning curve with visdom\n",
    "    train_loss_ep = 0 #ermittle loss von gesamten train/val dataset\n",
    "    for i, data in enumerate(train_loader):\n",
    "        k_nr = data['k_n_r']\n",
    "        ni = data['n_i']\n",
    "        ni_pred = model(k_nr)\n",
    "        train_loss_ep += criterion(ni_pred,ni).item() / len(train_loader)\n",
    "    \n",
    "    validation_loss_ep = 0\n",
    "    for i, data in enumerate(validation_loader):\n",
    "        k_nr = data['k_n_r']\n",
    "        ni = data['n_i']\n",
    "        ni_pred = model(k_nr)\n",
    "        validation_loss_ep += criterion(ni_pred,ni).item() / len(validation_loader)\n",
    "    \n",
    "    #füge einen punkt in visdom hinzu\n",
    "    vis.line(\n",
    "        X=np.column_stack((ep+1, ep+1)),\n",
    "        Y=np.column_stack((train_loss_ep,\n",
    "                           validation_loss_ep )),\n",
    "        win=vis_loss_plt,\n",
    "        update='append'\n",
    "    )\n",
    "    \n",
    "    # save losses for final loss plot\n",
    "    train_loss.append(train_loss_ep)\n",
    "    validation_loss.append(validation_loss_ep)"
   ]
  },
  {
   "cell_type": "code",
   "execution_count": 110,
   "metadata": {
    "ExecuteTime": {
     "end_time": "2019-07-12T11:23:12.264444Z",
     "start_time": "2019-07-12T11:23:12.105318Z"
    }
   },
   "outputs": [
    {
     "data": {
      "image/png": "[encoded data removed]",
      "text/plain": [
       "<Figure size 432x288 with 1 Axes>"
      ]
     },
     "metadata": {
      "needs_background": "light"
     },
     "output_type": "display_data"
    }
   ],
   "source": [
    "# final loss plot\n",
    "pylab.plot(train_loss,label='train')\n",
    "pylab.plot(validation_loss,label='validation')\n",
    "pylab.legend(loc='upper right')\n",
    "pylab.show()\n",
    "\n",
    "# Im Unterschied zum Visdom-Plot ist hier kein untrainerter Loss-Punkt geplottet"
   ]
  },
  {
   "cell_type": "markdown",
   "metadata": {},
   "source": [
    "### Prüfe Predictions"
   ]
  },
  {
   "cell_type": "markdown",
   "metadata": {},
   "source": [
    "Wir wollen noch für ein Objekt Prediction vs Label plotten."
   ]
  },
  {
   "cell_type": "code",
   "execution_count": 111,
   "metadata": {
    "ExecuteTime": {
     "end_time": "2019-07-12T11:23:18.920625Z",
     "start_time": "2019-07-12T11:23:18.915298Z"
    }
   },
   "outputs": [],
   "source": [
    "#Rücktrafo weil Daten ja normalisiert sind\n",
    "\n",
    "def DeNorm(x,mean,std):\n",
    "    y = x*std + mean\n",
    "    return y"
   ]
  },
  {
   "cell_type": "code",
   "execution_count": 118,
   "metadata": {
    "ExecuteTime": {
     "end_time": "2019-07-12T11:24:58.018310Z",
     "start_time": "2019-07-12T11:24:57.781053Z"
    }
   },
   "outputs": [
    {
     "name": "stdout",
     "output_type": "stream",
     "text": [
      "6.000000034989653\n"
     ]
    },
    {
     "data": {
      "image/png": "[encoded data removed]",
      "text/plain": [
       "<Figure size 432x288 with 1 Axes>"
      ]
     },
     "metadata": {
      "needs_background": "light"
     },
     "output_type": "display_data"
    }
   ],
   "source": [
    "dataiter = iter(validation_loader)\n",
    "item = dataiter.next()\n",
    "\n",
    "k_nr = item['k_n_r'][0]\n",
    "k = DeNorm(k_nr[0].cpu().numpy(), nr_mean, nr_std)\n",
    "\n",
    "nr = k_nr[1:].cpu().numpy()\n",
    "nr = DeNorm(nr, nr_mean, nr_std)\n",
    "ni = item['n_i'][0].cpu().numpy()\n",
    "ni = DeNorm(ni, ni_mean, ni_std)\n",
    "\n",
    "ni_pred = model(k_nr).detach().cpu().numpy()\n",
    "ni_pred = DeNorm(ni_pred, ni_mean, ni_std)\n",
    "\n",
    "print(k) #höherer k Value führt zu kleinerem Peak von ni\n",
    "\n",
    "pylab.plot(x,nr,label='n_r')\n",
    "pylab.plot(x,ni_pred,label='n_i prediction')\n",
    "pylab.plot(x,ni,label='n_i label')\n",
    "pylab.legend(loc='upper left')\n",
    "pylab.savefig('FNN Prediction.pdf')"
   ]
  },
  {
   "cell_type": "markdown",
   "metadata": {},
   "source": [
    "Plotte jetzt noch die Wellen."
   ]
  },
  {
   "cell_type": "code",
   "execution_count": 114,
   "metadata": {
    "ExecuteTime": {
     "end_time": "2019-07-12T11:23:49.004175Z",
     "start_time": "2019-07-12T11:23:48.574424Z"
    }
   },
   "outputs": [
    {
     "data": {
      "image/png": "[encoded data removed]",
      "text/plain": [
       "<Figure size 432x288 with 1 Axes>"
      ]
     },
     "metadata": {
      "needs_background": "light"
     },
     "output_type": "display_data"
    }
   ],
   "source": [
    "n = nr + 1j*ni\n",
    "\n",
    "plot_psi(x, dx, n, 1, k) # Amplitude = 1"
   ]
  },
  {
   "cell_type": "code",
   "execution_count": 115,
   "metadata": {
    "ExecuteTime": {
     "end_time": "2019-07-12T11:23:51.103278Z",
     "start_time": "2019-07-12T11:23:50.681457Z"
    }
   },
   "outputs": [
    {
     "data": {
      "image/png": "[encoded data removed]",
      "text/plain": [
       "<Figure size 432x288 with 1 Axes>"
      ]
     },
     "metadata": {
      "needs_background": "light"
     },
     "output_type": "display_data"
    }
   ],
   "source": [
    "n_pred = nr + 1j*ni_pred\n",
    "\n",
    "plot_psi(x, dx, n_pred, 1, k)"
   ]
  },
  {
   "cell_type": "markdown",
   "metadata": {},
   "source": [
    "### Save Model"
   ]
  },
  {
   "cell_type": "code",
   "execution_count": 116,
   "metadata": {
    "ExecuteTime": {
     "end_time": "2019-07-12T11:23:59.854674Z",
     "start_time": "2019-07-12T11:23:59.850410Z"
    }
   },
   "outputs": [],
   "source": [
    "PATH = 'models/FNN.pt'"
   ]
  },
  {
   "cell_type": "code",
   "execution_count": 117,
   "metadata": {
    "ExecuteTime": {
     "end_time": "2019-07-12T11:24:01.126742Z",
     "start_time": "2019-07-12T11:24:01.013321Z"
    }
   },
   "outputs": [
    {
     "name": "stderr",
     "output_type": "stream",
     "text": [
      "/home/felixwagner/miniconda3/envs/felix_ml/lib/python3.7/site-packages/torch/serialization.py:256: UserWarning: Couldn't retrieve source code for container of type Net. It won't be checked for correctness upon loading.\n",
      "  \"type \" + obj.__name__ + \". It won't be checked \"\n"
     ]
    }
   ],
   "source": [
    "torch.save(model, PATH)"
   ]
  },
  {
   "cell_type": "markdown",
   "metadata": {
    "heading_collapsed": true
   },
   "source": [
    "### Nützliches eventuell für Später\n"
   ]
  },
  {
   "cell_type": "markdown",
   "metadata": {
    "hidden": true
   },
   "source": [
    "Außerdem wollen wir den MSE brechnen, wie sehr n_i und die prediction punktweise abweichen und die Prediction dann als \"richtig\" oder \"falsch\" detulieren. "
   ]
  },
  {
   "cell_type": "code",
   "execution_count": 40,
   "metadata": {
    "ExecuteTime": {
     "end_time": "2019-06-14T12:40:35.098237Z",
     "start_time": "2019-06-14T12:40:35.090868Z"
    },
    "hidden": true
   },
   "outputs": [],
   "source": [
    "def MSE_Difference(ni,ni_pred):\n",
    "    if len(ni) != len (ni_pred):\n",
    "        print('label and prediction must have same size!')\n",
    "    else:\n",
    "        err = 0\n",
    "        for (i,j) in zip(ni, ni_pred):\n",
    "            err += (i-j)**2\n",
    "        err = err/len(ni)\n",
    "        return err"
   ]
  },
  {
   "cell_type": "code",
   "execution_count": 43,
   "metadata": {
    "ExecuteTime": {
     "end_time": "2019-06-14T12:40:56.308962Z",
     "start_time": "2019-06-14T12:40:56.254767Z"
    },
    "hidden": true
   },
   "outputs": [
    {
     "data": {
      "text/plain": [
       "0.0001356436968946423"
      ]
     },
     "execution_count": 43,
     "metadata": {},
     "output_type": "execute_result"
    }
   ],
   "source": [
    "MSE_Difference(ni, ni_pred)"
   ]
  },
  {
   "cell_type": "markdown",
   "metadata": {
    "hidden": true
   },
   "source": [
    "Und hier soll noch der MSE der resultierenden Welle berechnet werden und die Welle geplottet. Der MSE sollte jedenfalls kleiner 1 sein, wenn die prediction korrekt ist."
   ]
  },
  {
   "cell_type": "code",
   "execution_count": 20,
   "metadata": {
    "ExecuteTime": {
     "end_time": "2019-06-08T13:31:08.889484Z",
     "start_time": "2019-06-08T13:31:08.667107Z"
    },
    "deletable": false,
    "editable": false,
    "hidden": true,
    "run_control": {
     "frozen": true
    }
   },
   "outputs": [
    {
     "data": {
      "image/png": "[encoded data removed]",
      "text/plain": [
       "<Figure size 432x288 with 1 Axes>"
      ]
     },
     "metadata": {
      "needs_background": "light"
     },
     "output_type": "display_data"
    },
    {
     "data": {
      "text/plain": [
       "0.020781679725574317"
      ]
     },
     "execution_count": 20,
     "metadata": {},
     "output_type": "execute_result"
    }
   ],
   "source": [
    "# hier ein Test, wie hoch der MSE ist für leicht verrauschte Daten\n",
    "# mt einem MSE von 0.02 muss man scheinbar immer rechnen\n",
    "\n",
    "\n",
    "ni_noise = np.copy(ni.detach().numpy())\n",
    "noise_range = 0.5\n",
    "for i in range(len(ni_noise)):\n",
    "    ni_noise[i] +=  np.random.uniform()*noise_range - noise_range/2\n",
    "\n",
    "pylab.plot(x,ni_noise,label='n_i prediction')\n",
    "pylab.plot(x,ni.numpy(),label='n_i label')\n",
    "pylab.legend(loc='upper left')\n",
    "pylab.show()\n",
    "MSE_Difference(ni.detach().numpy(), ni_noise)"
   ]
  },
  {
   "cell_type": "code",
   "execution_count": null,
   "metadata": {
    "hidden": true
   },
   "outputs": [],
   "source": []
  },
  {
   "cell_type": "code",
   "execution_count": null,
   "metadata": {
    "hidden": true
   },
   "outputs": [],
   "source": []
  },
  {
   "cell_type": "code",
   "execution_count": 47,
   "metadata": {
    "hidden": true
   },
   "outputs": [],
   "source": [
    "#Fourier transformiere n\n",
    "\n",
    "def FFT_n(n,x):\n",
    "    nrf = 2.0/len(x) * np.abs(fft(n.real)[0:len(x)//2])\n",
    "    nif = 2.0/len(x) * np.abs(fft(n.imag)[0:len(x)//2])\n",
    "    xf = np.linspace(0.0, 1.0/(2.0*dx), len(x)//2)\n",
    "    return nrf, nif, xf"
   ]
  },
  {
   "cell_type": "code",
   "execution_count": 55,
   "metadata": {
    "hidden": true
   },
   "outputs": [
    {
     "data": {
      "image/png": "[encoded data removed]",
      "text/plain": [
       "<Figure size 432x288 with 1 Axes>"
      ]
     },
     "metadata": {
      "needs_background": "light"
     },
     "output_type": "display_data"
    }
   ],
   "source": [
    "#spectrogram plot von n\n",
    "\n",
    "fs = 10/len(x)\n",
    "\n",
    "f, t, Sxx = signal.spectrogram(n.real, fs)\n",
    "plt.pcolormesh(t, f, Sxx)\n",
    "plt.ylabel('Frequency [Hz]')\n",
    "plt.xlabel('Time [sec]')\n",
    "plt.show()"
   ]
  }
 ],
 "metadata": {
  "kernelspec": {
   "display_name": "Python 3",
   "language": "python",
   "name": "python3"
  },
  "language_info": {
   "codemirror_mode": {
    "name": "ipython",
    "version": 3
   },
   "file_extension": ".py",
   "mimetype": "text/x-python",
   "name": "python",
   "nbconvert_exporter": "python",
   "pygments_lexer": "ipython3",
   "version": "3.6.7"
  },
  "notify_time": "5",
  "toc": {
   "base_numbering": 1,
   "nav_menu": {
    "height": "241px",
    "width": "373px"
   },
   "number_sections": true,
   "sideBar": false,
   "skip_h1_title": false,
   "title_cell": "Table of Contents",
   "title_sidebar": "Contents",
   "toc_cell": false,
   "toc_position": {
    "height": "324px",
    "left": "25px",
    "top": "111.133px",
    "width": "165px"
   },
   "toc_section_display": true,
   "toc_window_display": true
  },
  "varInspector": {
   "cols": {
    "lenName": 16,
    "lenType": 16,
    "lenVar": 40
   },
   "kernels_config": {
    "python": {
     "delete_cmd_postfix": "",
     "delete_cmd_prefix": "del ",
     "library": "var_list.py",
     "varRefreshCmd": "print(var_dic_list())"
    },
    "r": {
     "delete_cmd_postfix": ") ",
     "delete_cmd_prefix": "rm(",
     "library": "var_list.r",
     "varRefreshCmd": "cat(var_dic_list()) "
    }
   },
   "position": {
    "height": "804.85px",
    "left": "1558px",
    "right": "20px",
    "top": "120px",
    "width": "275px"
   },
   "types_to_exclude": [
    "module",
    "function",
    "builtin_function_or_method",
    "instance",
    "_Feature"
   ],
   "window_display": true
  }
 },
 "nbformat": 4,
 "nbformat_minor": 2
}
