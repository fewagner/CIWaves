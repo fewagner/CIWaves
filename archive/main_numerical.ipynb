{
 "cells": [
  {
   "cell_type": "markdown",
   "metadata": {},
   "source": [
    "### Imports"
   ]
  },
  {
   "cell_type": "code",
   "execution_count": 29,
   "metadata": {
    "ExecuteTime": {
     "end_time": "2019-09-01T14:54:05.176101Z",
     "start_time": "2019-09-01T14:54:05.159178Z"
    }
   },
   "outputs": [],
   "source": [
    "#official libraries\n",
    "import numpy as np\n",
    "import matplotlib.pyplot as plt\n",
    "import pylab \n",
    "import cmath\n",
    "import random\n",
    "from scipy import integrate\n",
    "from scipy.fftpack import fft\n",
    "import torch\n",
    "from torch.utils.data import Dataset, DataLoader\n",
    "from torchvision import transforms\n",
    "from scipy import signal\n",
    "import pandas as pd\n",
    "import time\n",
    "import torch.nn as nn\n",
    "import torch.nn.functional as F\n",
    "import time \n",
    "import visdom\n",
    "from os.path import expanduser"
   ]
  },
  {
   "cell_type": "code",
   "execution_count": 32,
   "metadata": {
    "ExecuteTime": {
     "end_time": "2019-09-01T14:54:30.746630Z",
     "start_time": "2019-09-01T14:54:30.735377Z"
    }
   },
   "outputs": [],
   "source": [
    "#own files\n",
    "from lib.utils_general import diff_same_length, get_data_paths\n",
    "from lib.utils_generate_W import get_grid, gauss_dist, generate_W\n",
    "from lib.utils_generate_n import n_compl, plot_n\n",
    "from lib.utils_calc_psi import plot_psi\n",
    "from lib.utils_generate_data import generate_init_data, plot_sample, generate_corr_data\n",
    "from lib.utils_initial_dataset import InitialDataset, ToTensor, OneChannel, Normalize, calc_mean_std\n",
    "from lib.utils_train import get_dataloaders, train_net\n",
    "from lib.nets import FNN, UNet\n",
    "from lib.utils_evaluation import DeNorm, plot_prediction, plot_correction\n",
    "from lib.utils_corrector_dataset import CorrectorDataset, NormalizeCorr, calc_mean_std_corr, ToDevice\n",
    "from lib.utils_train_corrector import train_corrector\n",
    "\n",
    "from lib.utils_generate_n import n_r, n_i"
   ]
  },
  {
   "cell_type": "code",
   "execution_count": 33,
   "metadata": {
    "ExecuteTime": {
     "end_time": "2019-09-01T14:54:31.822613Z",
     "start_time": "2019-09-01T14:54:31.807699Z"
    }
   },
   "outputs": [
    {
     "data": {
      "text/plain": [
       "False"
      ]
     },
     "execution_count": 33,
     "metadata": {},
     "output_type": "execute_result"
    }
   ],
   "source": [
    "torch.cuda.is_available()"
   ]
  },
  {
   "cell_type": "markdown",
   "metadata": {
    "ExecuteTime": {
     "end_time": "2019-08-09T22:20:11.553630Z",
     "start_time": "2019-08-09T22:20:11.549290Z"
    }
   },
   "source": [
    "### Parameter, paths, etc"
   ]
  },
  {
   "cell_type": "code",
   "execution_count": 34,
   "metadata": {
    "ExecuteTime": {
     "end_time": "2019-09-01T14:54:37.933205Z",
     "start_time": "2019-09-01T14:54:37.923128Z"
    }
   },
   "outputs": [],
   "source": [
    "# ---------------------------------\n",
    "# choose which mode the prg is in:\n",
    "# ---------------------------------\n",
    "do_create_initial_data = False\n",
    "toy_data = True #if run on GPU machine, set to false\n",
    "# ---------------------------------\n",
    "\n",
    "# ---------------------------------\n",
    "# paths:\n",
    "# ---------------------------------\n",
    "home = expanduser(\"~\")\n",
    "\n",
    "device = 'cpu'\n",
    "\n",
    "# data\n",
    "path_initial_data, path_corrector_data = get_data_paths(toy_data, device, home)\n",
    "\n",
    "# plots\n",
    "path_plots = 'plots/'\n",
    "# ---------------------------------\n",
    "\n",
    "\n",
    "# ---------------------------------\n",
    "# data parameters:\n",
    "# ---------------------------------\n",
    "half_width = 5\n",
    "nmbr_points = 10000\n",
    "if toy_data:\n",
    "    size_dataset = 8 #if run on GPU machine, set to 5000 (toydata 8)\n",
    "else:\n",
    "    size_dataset = 5000\n",
    "\n",
    "grid, stepsize = get_grid(half_width, nmbr_points)\n",
    "# ---------------------------------"
   ]
  },
  {
   "cell_type": "markdown",
   "metadata": {},
   "source": [
    "### Get data"
   ]
  },
  {
   "cell_type": "code",
   "execution_count": 5,
   "metadata": {
    "ExecuteTime": {
     "end_time": "2019-09-01T14:20:39.104426Z",
     "start_time": "2019-09-01T14:20:39.065982Z"
    }
   },
   "outputs": [],
   "source": [
    "initial_dataset = InitialDataset(csv_file = path_initial_data + 'k_values.csv', \n",
    "                               root_dir = path_initial_data,\n",
    "                               transform = None)"
   ]
  },
  {
   "cell_type": "code",
   "execution_count": 6,
   "metadata": {
    "ExecuteTime": {
     "end_time": "2019-09-01T14:20:39.169217Z",
     "start_time": "2019-09-01T14:20:39.108079Z"
    }
   },
   "outputs": [
    {
     "data": {
      "text/plain": [
       "{'k_n_r': array([10.,  1.,  1., ...,  1.,  1.,  1.]),\n",
       " 'n_i': array([0., 0., 0., ..., 0., 0., 0.])}"
      ]
     },
     "execution_count": 6,
     "metadata": {},
     "output_type": "execute_result"
    }
   ],
   "source": [
    "initial_dataset[0]"
   ]
  },
  {
   "cell_type": "code",
   "execution_count": 7,
   "metadata": {
    "ExecuteTime": {
     "end_time": "2019-09-01T14:20:39.694877Z",
     "start_time": "2019-09-01T14:20:39.173183Z"
    }
   },
   "outputs": [
    {
     "name": "stdout",
     "output_type": "stream",
     "text": [
      "[1. 1. 1. ... 1. 1. 1.]\n"
     ]
    },
    {
     "data": {
      "text/plain": [
       "[<matplotlib.lines.Line2D at 0x7f2eb8baccf8>]"
      ]
     },
     "execution_count": 7,
     "metadata": {},
     "output_type": "execute_result"
    },
    {
     "data": {
      "image/png": "[encoded data removed]",
      "text/plain": [
       "<Figure size 432x288 with 1 Axes>"
      ]
     },
     "metadata": {
      "needs_background": "light"
     },
     "output_type": "display_data"
    }
   ],
   "source": [
    "#show that it worked\n",
    "idx = 6\n",
    "\n",
    "print(initial_dataset[idx]['k_n_r'])\n",
    "\n",
    "plt.plot(grid,initial_dataset[idx]['k_n_r'][1:])\n",
    "plt.plot(grid,initial_dataset[idx]['n_i'])    "
   ]
  },
  {
   "cell_type": "markdown",
   "metadata": {},
   "source": [
    "### Algorithmus"
   ]
  },
  {
   "cell_type": "code",
   "execution_count": 45,
   "metadata": {
    "ExecuteTime": {
     "end_time": "2019-09-01T15:10:36.099552Z",
     "start_time": "2019-09-01T15:10:36.093388Z"
    }
   },
   "outputs": [],
   "source": [
    "def nextni(dx, k, ni0, ni1, nr0, nr1, nr2):\n",
    "    ni2 = ni0 + nr1/ni1*(nr2-nr0) - 4*k*nr1*dx*np.sqrt(nr1**2 - ni1**2)\n",
    "    return ni2"
   ]
  },
  {
   "cell_type": "code",
   "execution_count": 46,
   "metadata": {
    "ExecuteTime": {
     "end_time": "2019-09-01T15:10:37.809783Z",
     "start_time": "2019-09-01T15:10:37.325476Z"
    }
   },
   "outputs": [
    {
     "data": {
      "text/plain": [
       "[<matplotlib.lines.Line2D at 0x7f2eb6539668>]"
      ]
     },
     "execution_count": 46,
     "metadata": {},
     "output_type": "execute_result"
    },
    {
     "data": {
      "image/png": "[encoded data removed]",
      "text/plain": [
       "<Figure size 432x288 with 1 Axes>"
      ]
     },
     "metadata": {
      "needs_background": "light"
     },
     "output_type": "display_data"
    }
   ],
   "source": [
    "W = 5*gauss_dist(0,1,grid) + 1\n",
    "dW = diff_same_length(W, stepsize)\n",
    "k = 1\n",
    "nr = n_r(W, dW, grid, k)\n",
    "ni = n_i(dW, nr, grid, k)\n",
    "plt.plot(nr)\n",
    "plt.plot(ni)"
   ]
  },
  {
   "cell_type": "code",
   "execution_count": 50,
   "metadata": {
    "ExecuteTime": {
     "end_time": "2019-09-01T15:11:59.607274Z",
     "start_time": "2019-09-01T15:11:59.591276Z"
    }
   },
   "outputs": [
    {
     "name": "stdout",
     "output_type": "stream",
     "text": [
      "[1.00000297 1.00000298 1.000003  ]\n",
      "[-7.43173961e-06 -7.46748969e-06 -7.50340418e-06]\n",
      "-7.431739610923545e-06 -0.003990520560850935 0.0040000238436675205\n",
      "2.071543205662066e-06\n",
      "-0.007997976144129379\n"
     ]
    }
   ],
   "source": [
    "nr0 = nr[0]\n",
    "nr1 = nr[1]\n",
    "nr2 = nr[2]\n",
    "print(nr[:3])\n",
    "\n",
    "ni0 = ni[0]\n",
    "ni1 = ni[1]\n",
    "print(ni[:3])\n",
    "\n",
    "t1 = ni0\n",
    "t2 = nr1/ni1*(nr2-nr0)\n",
    "t3 = 4*k*nr1*stepsize*np.sqrt(nr1**2 - ni1**2)\n",
    "\n",
    "print(t1,t2,t3)\n",
    "print(t1 + t2 + t3)\n",
    "\n",
    "print(nextni(stepsize, k, ni0, ni1, nr0, nr1, nr2))"
   ]
  },
  {
   "cell_type": "code",
   "execution_count": 42,
   "metadata": {
    "ExecuteTime": {
     "end_time": "2019-09-01T15:00:26.461727Z",
     "start_time": "2019-09-01T15:00:26.454291Z"
    }
   },
   "outputs": [
    {
     "data": {
      "text/plain": [
       "0.001000000000000334"
      ]
     },
     "execution_count": 42,
     "metadata": {},
     "output_type": "execute_result"
    }
   ],
   "source": [
    "stepsize"
   ]
  },
  {
   "cell_type": "code",
   "execution_count": null,
   "metadata": {},
   "outputs": [],
   "source": []
  }
 ],
 "metadata": {
  "kernelspec": {
   "display_name": "Python 3",
   "language": "python",
   "name": "python3"
  },
  "language_info": {
   "codemirror_mode": {
    "name": "ipython",
    "version": 3
   },
   "file_extension": ".py",
   "mimetype": "text/x-python",
   "name": "python",
   "nbconvert_exporter": "python",
   "pygments_lexer": "ipython3",
   "version": "3.6.8"
  },
  "toc": {
   "base_numbering": 1,
   "nav_menu": {},
   "number_sections": true,
   "sideBar": true,
   "skip_h1_title": false,
   "title_cell": "Table of Contents",
   "title_sidebar": "Contents",
   "toc_cell": false,
   "toc_position": {},
   "toc_section_display": true,
   "toc_window_display": false
  },
  "varInspector": {
   "cols": {
    "lenName": 16,
    "lenType": 16,
    "lenVar": 40
   },
   "kernels_config": {
    "python": {
     "delete_cmd_postfix": "",
     "delete_cmd_prefix": "del ",
     "library": "var_list.py",
     "varRefreshCmd": "print(var_dic_list())"
    },
    "r": {
     "delete_cmd_postfix": ") ",
     "delete_cmd_prefix": "rm(",
     "library": "var_list.r",
     "varRefreshCmd": "cat(var_dic_list()) "
    }
   },
   "types_to_exclude": [
    "module",
    "function",
    "builtin_function_or_method",
    "instance",
    "_Feature"
   ],
   "window_display": false
  }
 },
 "nbformat": 4,
 "nbformat_minor": 2
}
