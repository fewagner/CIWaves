{
 "cells": [
  {
   "cell_type": "markdown",
   "metadata": {
    "heading_collapsed": true
   },
   "source": [
    "### Imports"
   ]
  },
  {
   "cell_type": "code",
   "execution_count": 3,
   "metadata": {
    "ExecuteTime": {
     "end_time": "2019-07-25T11:49:28.871024Z",
     "start_time": "2019-07-25T11:49:28.862205Z"
    },
    "cell_style": "center",
    "hidden": true
   },
   "outputs": [],
   "source": [
    "import numpy as np\n",
    "import matplotlib.pyplot as plt\n",
    "import pylab \n",
    "import cmath\n",
    "import random\n",
    "from scipy import integrate\n",
    "from scipy.fftpack import fft\n",
    "import torch\n",
    "from torch.utils.data import Dataset, DataLoader\n",
    "from torch.utils.data.sampler import SubsetRandomSampler\n",
    "from torchvision import transforms\n",
    "from scipy import signal\n",
    "import pandas as pd\n",
    "import time\n",
    "import torch.nn as nn\n",
    "import torch.nn.functional as F\n",
    "import time \n",
    "import visdom"
   ]
  },
  {
   "cell_type": "code",
   "execution_count": 4,
   "metadata": {
    "ExecuteTime": {
     "end_time": "2019-07-25T11:49:28.879041Z",
     "start_time": "2019-07-25T11:49:28.874409Z"
    },
    "hidden": true
   },
   "outputs": [
    {
     "data": {
      "text/plain": [
       "True"
      ]
     },
     "execution_count": 4,
     "metadata": {},
     "output_type": "execute_result"
    }
   ],
   "source": [
    "torch.cuda.is_available()"
   ]
  },
  {
   "cell_type": "markdown",
   "metadata": {
    "heading_collapsed": true
   },
   "source": [
    "### Erzeuge W"
   ]
  },
  {
   "cell_type": "markdown",
   "metadata": {
    "hidden": true
   },
   "source": [
    "Generiere ein paar W aus $L_{2,loc}$ und ihre Ableitungen"
   ]
  },
  {
   "cell_type": "code",
   "execution_count": 5,
   "metadata": {
    "ExecuteTime": {
     "end_time": "2019-07-25T11:49:28.886298Z",
     "start_time": "2019-07-25T11:49:28.881583Z"
    },
    "hidden": true
   },
   "outputs": [],
   "source": [
    "x = np.arange(-5,5,0.001)\n",
    "dx = x[1] - x[0]"
   ]
  },
  {
   "cell_type": "code",
   "execution_count": 6,
   "metadata": {
    "ExecuteTime": {
     "end_time": "2019-07-25T11:49:28.894046Z",
     "start_time": "2019-07-25T11:49:28.888191Z"
    },
    "hidden": true
   },
   "outputs": [],
   "source": [
    "def Gauss(mu, sig, x): #Achtung, hier ist x eine Position, nicht das Grid (ist doch eh das selbe?)\n",
    "    return np.exp(-(x-mu)**2/(2*sig**2))/(2*np.pi*sig**2)"
   ]
  },
  {
   "cell_type": "code",
   "execution_count": 7,
   "metadata": {
    "ExecuteTime": {
     "end_time": "2019-07-25T11:49:28.901763Z",
     "start_time": "2019-07-25T11:49:28.895998Z"
    },
    "cell_style": "center",
    "hidden": true
   },
   "outputs": [],
   "source": [
    "def generate_W(x):\n",
    "    rate = 0.01 #das brauchen wir garnicht oder?\n",
    "    ran = np.zeros(len(x))\n",
    "    asym = int(len(ran)/4)\n",
    "    for i in range(asym, len(ran) - asym):\n",
    "        coin = np.random.uniform()\n",
    "        if coin < 0.3:\n",
    "            ran[i] = np.random.uniform() / (0.4 *asym)\n",
    "    con = np.convolve(ran, Gauss(0,0.1,x)) + 1\n",
    "    a = int(len(x)/2)\n",
    "    return con[a:a+len(x)]"
   ]
  },
  {
   "cell_type": "code",
   "execution_count": 8,
   "metadata": {
    "ExecuteTime": {
     "end_time": "2019-07-25T11:49:28.909424Z",
     "start_time": "2019-07-25T11:49:28.903472Z"
    },
    "cell_style": "center",
    "hidden": true
   },
   "outputs": [],
   "source": [
    "def diff_W(W):\n",
    "    dW = np.zeros(len(W))\n",
    "    dW[:-1] = np.diff(W)/dx\n",
    "    return dW"
   ]
  },
  {
   "cell_type": "markdown",
   "metadata": {
    "heading_collapsed": true
   },
   "source": [
    "### Berechne $n_r$ und $n_i$"
   ]
  },
  {
   "cell_type": "code",
   "execution_count": 9,
   "metadata": {
    "ExecuteTime": {
     "end_time": "2019-07-25T11:49:28.916874Z",
     "start_time": "2019-07-25T11:49:28.911614Z"
    },
    "hidden": true
   },
   "outputs": [],
   "source": [
    "k = 10"
   ]
  },
  {
   "cell_type": "code",
   "execution_count": 10,
   "metadata": {
    "ExecuteTime": {
     "end_time": "2019-07-25T11:49:28.924592Z",
     "start_time": "2019-07-25T11:49:28.918347Z"
    },
    "hidden": true
   },
   "outputs": [],
   "source": [
    "def n_r(W, dW, x, k):\n",
    "    n_r = np.zeros(len(x))\n",
    "    for i in range(len(x)):\n",
    "        n_r[i] = W[i]/np.sqrt(2)*np.sqrt(1+np.sqrt(1+ dW[i]**2/(W[i]**4*k**2) ))\n",
    "    return n_r\n",
    "\n",
    "def n_i(dW, n_r, x, k):\n",
    "    n_i = np.zeros(len(x))\n",
    "    for i in range(len(x)):\n",
    "        n_i[i] = -1/2/k*dW[i]/n_r[i]\n",
    "    return n_i\n",
    "\n",
    "def n_compl(W,dW,x,k):\n",
    "    nr = n_r(W, dW, x, k)\n",
    "    ni = n_i(dW, nr, x, k)\n",
    "    n = nr + ni * 1j\n",
    "    return n"
   ]
  },
  {
   "cell_type": "code",
   "execution_count": 11,
   "metadata": {
    "ExecuteTime": {
     "end_time": "2019-07-25T11:49:28.933755Z",
     "start_time": "2019-07-25T11:49:28.925960Z"
    },
    "hidden": true,
    "scrolled": true
   },
   "outputs": [],
   "source": [
    "def plot_n(x,W,dW,k):\n",
    "    #pylab.plot(x,W,label='W')\n",
    "    #pylab.plot(x,dW,label='dW')\n",
    "    n = n_compl(W,dW,x,k)\n",
    "    pylab.plot(x,n.real,label='n_r')\n",
    "    pylab.plot(x,n.imag,label='n_i')\n",
    "    pylab.legend(loc='upper left')\n",
    "    #pylab.title(\"W = cos(t)\")\n",
    "    pylab.show()"
   ]
  },
  {
   "cell_type": "markdown",
   "metadata": {
    "hidden": true
   },
   "source": [
    "$n_r$ und $n_i$ geplottet sehen dann so aus:"
   ]
  },
  {
   "cell_type": "code",
   "execution_count": 12,
   "metadata": {
    "ExecuteTime": {
     "end_time": "2019-07-25T11:49:29.184280Z",
     "start_time": "2019-07-25T11:49:28.934995Z"
    },
    "hidden": true
   },
   "outputs": [
    {
     "data": {
      "image/png": "[encoded data removed]",
      "text/plain": [
       "<Figure size 432x288 with 1 Axes>"
      ]
     },
     "metadata": {
      "needs_background": "light"
     },
     "output_type": "display_data"
    }
   ],
   "source": [
    "x = np.arange(-5,5,0.001)\n",
    "dx = x[1] - x[0]\n",
    "\n",
    "W = generate_W(x)\n",
    "dW = diff_W(W)\n",
    "\n",
    "plot_n(x, W, dW,k)"
   ]
  },
  {
   "cell_type": "markdown",
   "metadata": {
    "heading_collapsed": true
   },
   "source": [
    "### Berechne aus W und n die Wellenfunktion mit Numerov"
   ]
  },
  {
   "cell_type": "markdown",
   "metadata": {
    "hidden": true
   },
   "source": [
    "$\\psi'' + k^2 n^2 \\psi = 0$"
   ]
  },
  {
   "cell_type": "markdown",
   "metadata": {
    "hidden": true
   },
   "source": [
    "Der iterative Algorithmus sieht dann so aus:\n",
    "\n",
    "$s := \\frac{h^2 k^2}{12} $\n",
    "\n",
    "$\\psi_{i+2} = \\frac{ 2(1 - 5 s n_{i+1}^2)\\psi_{i+1} - (1 + s n_{i+1}^2)\\psi_{i} }{1 + s n_{i+2}^2}  $"
   ]
  },
  {
   "cell_type": "code",
   "execution_count": 13,
   "metadata": {
    "ExecuteTime": {
     "end_time": "2019-07-25T11:49:29.189936Z",
     "start_time": "2019-07-25T11:49:29.185628Z"
    },
    "hidden": true
   },
   "outputs": [],
   "source": [
    "def Numerov(x, dx, n, psi_r0, psi_r1, psi_i0, psi_i1,k):\n",
    "    \n",
    "    psi = np.zeros(len(x), dtype=complex)\n",
    "    psi[0] = complex(psi_r0, psi_i0) #Startwerte\n",
    "    psi[1] = complex(psi_r1, psi_i1)\n",
    "    \n",
    "    s = dx**2/12 * k**2\n",
    "    \n",
    "    for i in range(len(x)-2):\n",
    "                \n",
    "        psi[i+2] = ( 2*( 1-5*s*n[i+1]**2 )*psi[i+1] - ( 1+s*n[i+1]**2 )*psi[i] )/(1 +  s*n[i+2]**2)\n",
    "        \n",
    "    return psi"
   ]
  },
  {
   "cell_type": "markdown",
   "metadata": {
    "hidden": true
   },
   "source": [
    "Für die Startwerte müssen wir außerdem eine ebene Welle generieren:"
   ]
  },
  {
   "cell_type": "code",
   "execution_count": 14,
   "metadata": {
    "ExecuteTime": {
     "end_time": "2019-07-25T11:49:29.198763Z",
     "start_time": "2019-07-25T11:49:29.191176Z"
    },
    "hidden": true
   },
   "outputs": [],
   "source": [
    "def InitV_In(x, dx, k, A):\n",
    "    \n",
    "    psi = np.zeros(len(x), dtype=complex)\n",
    "    \n",
    "    for i in range(len(x)):\n",
    "        psi[i] = A * np.cos(x[i]*k) + 1j * A * np.sin(x[i]*k) \n",
    "        \n",
    "    #pylab.plot(x[:ldt], psi.real, label='psi real') \n",
    "    #pylab.plot(x[:ldt], psi.imag, label='psi imag')\n",
    "    \n",
    "    return psi[0].real, psi[1].real, psi[0].imag, psi[1].imag"
   ]
  },
  {
   "cell_type": "code",
   "execution_count": 145,
   "metadata": {
    "ExecuteTime": {
     "end_time": "2019-07-25T15:06:43.161943Z",
     "start_time": "2019-07-25T15:06:43.147210Z"
    },
    "hidden": true
   },
   "outputs": [],
   "source": [
    "def plot_psi(x, dx, n, Amp, k, plot = True):\n",
    "\n",
    "    #n = n_compl(W,dW,x,k)\n",
    "    \n",
    "    #psi_r0, psi_r1, psi_i0, psi_i1 = InitV_Left(t,dt,k, Amp, n)\n",
    "    psi_r0, psi_r1, psi_i0, psi_i1 = InitV_In(x,dx,k, Amp)\n",
    "    \n",
    "    psi = Numerov(x, dx, n, psi_r0, psi_r1, psi_i0, psi_i1, k)\n",
    "    \n",
    "    f = len(x)\n",
    "    \n",
    "    Int = psi.real**2 + psi.imag**2\n",
    "    \n",
    "    if plot:\n",
    "    \n",
    "        pylab.plot(x[-f:],psi.real[-f:],label='psi real')\n",
    "        pylab.plot(x[-f:],psi.imag[-f:],label='psi imag')\n",
    "    \n",
    "        pylab.plot(x[-f:], n.real[-f:], label = 'nr')\n",
    "        pylab.plot(x[-f:], n.imag[-f:], label = 'ni')\n",
    "    \n",
    "        pylab.plot(x[-f:], Int[-f:], label = 'Intensity')\n",
    "        \n",
    "        pylab.legend(loc='upper left')\n",
    "\n",
    "    return Int"
   ]
  },
  {
   "cell_type": "code",
   "execution_count": 16,
   "metadata": {
    "ExecuteTime": {
     "end_time": "2019-07-25T11:49:29.307995Z",
     "start_time": "2019-07-25T11:49:29.208331Z"
    },
    "hidden": true
   },
   "outputs": [],
   "source": [
    "W = generate_W(x)\n",
    "dW = diff_W(W)\n",
    "n = n_compl(W,dW,x,k)"
   ]
  },
  {
   "cell_type": "code",
   "execution_count": 17,
   "metadata": {
    "ExecuteTime": {
     "end_time": "2019-07-25T11:49:29.659887Z",
     "start_time": "2019-07-25T11:49:29.309518Z"
    },
    "hidden": true
   },
   "outputs": [
    {
     "data": {
      "image/png": "[encoded data removed]",
      "text/plain": [
       "<Figure size 432x288 with 1 Axes>"
      ]
     },
     "metadata": {
      "needs_background": "light"
     },
     "output_type": "display_data"
    }
   ],
   "source": [
    "plot_psi(x, dx, n, 1, k)"
   ]
  },
  {
   "cell_type": "markdown",
   "metadata": {
    "heading_collapsed": true
   },
   "source": [
    "### Berechne Abweichung von konstanter Intensität"
   ]
  },
  {
   "cell_type": "code",
   "execution_count": 18,
   "metadata": {
    "ExecuteTime": {
     "end_time": "2019-07-25T11:49:29.664457Z",
     "start_time": "2019-07-25T11:49:29.662203Z"
    },
    "hidden": true
   },
   "outputs": [],
   "source": [
    "def MSE(Int, Amp):\n",
    "    return sum((Int-Amp)**2)"
   ]
  },
  {
   "cell_type": "code",
   "execution_count": 19,
   "metadata": {
    "ExecuteTime": {
     "end_time": "2019-07-25T11:49:29.863752Z",
     "start_time": "2019-07-25T11:49:29.666087Z"
    },
    "hidden": true
   },
   "outputs": [
    {
     "data": {
      "text/plain": [
       "0.004989221342788703"
      ]
     },
     "execution_count": 19,
     "metadata": {},
     "output_type": "execute_result"
    }
   ],
   "source": [
    "Amp = 1\n",
    "\n",
    "n = n_compl(W,dW,x,k)\n",
    "psi_r0, psi_r1, psi_i0, psi_i1 = InitV_In(x,dx,k, Amp)\n",
    "psi = Numerov(x, dx, n, psi_r0, psi_r1, psi_i0, psi_i1, k)\n",
    "Int = psi.real**2 + psi.imag**2\n",
    "\n",
    "MSE(Int,Amp)"
   ]
  },
  {
   "cell_type": "markdown",
   "metadata": {
    "heading_collapsed": true
   },
   "source": [
    "### Daten generieren"
   ]
  },
  {
   "cell_type": "markdown",
   "metadata": {
    "hidden": true
   },
   "source": [
    "Wir generieren und speichern eine Menge an $n_r$ und $n_i$ Paaren."
   ]
  },
  {
   "cell_type": "code",
   "execution_count": 20,
   "metadata": {
    "ExecuteTime": {
     "end_time": "2019-07-25T11:49:29.868419Z",
     "start_time": "2019-07-25T11:49:29.865353Z"
    },
    "hidden": true
   },
   "outputs": [],
   "source": [
    "#so wurde das Dataset1, in dem verschiedene k Werte vorkommen, generiert!\n",
    "out = 'data/'\n",
    "\n",
    "x = np.arange(-5,5,0.001)\n",
    "dx = x[1] - x[0]\n",
    "\n",
    "size = 5000"
   ]
  },
  {
   "cell_type": "code",
   "execution_count": null,
   "metadata": {
    "deletable": false,
    "editable": false,
    "hidden": true,
    "run_control": {
     "frozen": true
    }
   },
   "outputs": [],
   "source": [
    "#so wurde das Dataset1, in dem verschiedene k Werte vorkommen, generiert!\n",
    "Potentials = {}\n",
    "Potentials['idx'] = []\n",
    "Potentials['k'] = []\n",
    "\n",
    "start = time.time()\n",
    "last = time.time()\n",
    "\n",
    "for i in range(size):\n",
    "\n",
    "    if i%100 == 0: \n",
    "        so_far = time.time() - start\n",
    "        since_last = time.time() - last\n",
    "        last = time.time()\n",
    "        print('Generating Pot Nmbr ',i, ', Runtime since last: ', since_last, ', Runtime so far: ', so_far)\n",
    "        \n",
    "    \n",
    "    k = np.random.randint(1,11, size=1)[0]\n",
    "    \n",
    "    W = generate_W(x)\n",
    "    dW = diff_W(W)\n",
    "    \n",
    "    n = n_compl(W,dW,x,k)\n",
    "    \n",
    "    np.save(out + 'n_real_' + str(i), n.real)\n",
    "    np.save(out + 'n_imag_' + str(i), n.imag)\n",
    "    Potentials['idx'].append(i)\n",
    "    Potentials['k'].append(k)\n",
    "    \n",
    "df = pd.DataFrame(Potentials, columns= ['idx', 'k'])\n",
    "\n",
    "export_csv = df.to_csv (r''+out+'k_values.csv', index = None, header=True)\n",
    "\n",
    "df.head()"
   ]
  },
  {
   "cell_type": "code",
   "execution_count": null,
   "metadata": {
    "ExecuteTime": {
     "end_time": "2019-07-09T14:51:17.854603Z",
     "start_time": "2019-07-09T14:51:17.847012Z"
    },
    "deletable": false,
    "editable": false,
    "hidden": true,
    "run_control": {
     "frozen": true
    }
   },
   "outputs": [],
   "source": [
    "#so wurde das Dataset2, in dem nur ein k Werte vorkommt, generiert!\n",
    "out = 'data2/'\n",
    "\n",
    "sample_length = 2**13\n",
    "low = -5\n",
    "up = 5\n",
    "dx = (up-low)/sample_length\n",
    "x = np.arange(low,up,dx)\n",
    "\n",
    "size = int(len(x)/2)"
   ]
  },
  {
   "cell_type": "code",
   "execution_count": null,
   "metadata": {
    "deletable": false,
    "editable": false,
    "hidden": true,
    "run_control": {
     "frozen": true
    }
   },
   "outputs": [],
   "source": [
    "#so wurde das Dataset2, in dem nur ein k Werte vorkommt, generiert!\n",
    "Potentials = {}\n",
    "Potentials['idx'] = []\n",
    "Potentials['k'] = []\n",
    "\n",
    "start = time.time()\n",
    "last = time.time()\n",
    "\n",
    "for i in range(size):\n",
    "\n",
    "    if i%100 == 0: \n",
    "        so_far = time.time() - start\n",
    "        since_last = time.time() - last\n",
    "        last = time.time()\n",
    "        print('Generating Pot Nmbr ',i, ', Runtime since last: ', since_last, ', Runtime so far: ', so_far)\n",
    "        \n",
    "    \n",
    "    k = 1 #np.random.randint(1,11, size=1)[0]\n",
    "    \n",
    "    W = generate_W(x)\n",
    "    dW = diff_W(W)\n",
    "    \n",
    "    n = n_compl(W,dW,x,k)\n",
    "    \n",
    "    np.save(out + 'n_real_' + str(i), n.real)\n",
    "    np.save(out + 'n_imag_' + str(i), n.imag)\n",
    "    Potentials['idx'].append(i)\n",
    "    Potentials['k'].append(k)\n",
    "    \n",
    "df = pd.DataFrame(Potentials, columns= ['idx', 'k'])\n",
    "\n",
    "export_csv = df.to_csv (r''+out+'k_values.csv', index = None, header=True)\n",
    "\n",
    "df.head()"
   ]
  },
  {
   "cell_type": "code",
   "execution_count": 21,
   "metadata": {
    "ExecuteTime": {
     "end_time": "2019-07-25T11:49:30.214703Z",
     "start_time": "2019-07-25T11:49:29.869818Z"
    },
    "hidden": true
   },
   "outputs": [
    {
     "name": "stdout",
     "output_type": "stream",
     "text": [
      "3202\n"
     ]
    },
    {
     "data": {
      "image/png": "[encoded data removed]",
      "text/plain": [
       "<Figure size 432x288 with 1 Axes>"
      ]
     },
     "metadata": {
      "needs_background": "light"
     },
     "output_type": "display_data"
    }
   ],
   "source": [
    "#test ob es funktioniert hat\n",
    "\n",
    "df = pd.read_csv(out + '/k_values.csv')\n",
    "\n",
    "idx = np.random.randint(size, size=1)[0]\n",
    "print(idx)\n",
    "\n",
    "k = df['k'][idx]\n",
    "\n",
    "nr = np.load(out + 'n_real_' + str(idx) + '.npy')\n",
    "ni = np.load(out + 'n_imag_' + str(idx) +'.npy')\n",
    "n = nr + 1j*ni\n",
    "plot_psi(x, dx, n, 1, k)"
   ]
  },
  {
   "cell_type": "markdown",
   "metadata": {
    "hidden": true
   },
   "source": [
    "Ein Element aus unserem Dataset wird ein Dictionary sein, mit folgenden Werten:\n",
    "\n",
    "    {\n",
    "    'k_n_r': 1_dim Array (k, n_r),\n",
    "    'n_i': 1_dim Array\n",
    "    }"
   ]
  },
  {
   "cell_type": "markdown",
   "metadata": {
    "hidden": true
   },
   "source": [
    "Wir erzeugen eine Klasse, von der ein Dataset ein Objekt sein wird. "
   ]
  },
  {
   "cell_type": "code",
   "execution_count": 22,
   "metadata": {
    "ExecuteTime": {
     "end_time": "2019-07-25T11:49:30.220972Z",
     "start_time": "2019-07-25T11:49:30.216200Z"
    },
    "hidden": true
   },
   "outputs": [],
   "source": [
    "class PotentialDataset(Dataset):\n",
    "    \n",
    "    def __init__(self, csv_file, root_dir, transform=None):\n",
    "        self.k_frame = pd.read_csv(csv_file)\n",
    "        self.root_dir = root_dir\n",
    "        self.transform = transform\n",
    "        \n",
    "    def __len__(self):\n",
    "        return len(self.k_frame)\n",
    "    \n",
    "    def __getitem__(self, idx):\n",
    "        nr = np.load(out + 'n_real_' + str(idx) +'.npy')\n",
    "        ni = np.load(out + 'n_imag_' + str(idx) +'.npy')\n",
    "        k = self.k_frame['k'][idx]\n",
    "        \n",
    "        k_nr = np.append(k,nr)\n",
    "        \n",
    "        sample = {'k_n_r': k_nr, \n",
    "                  'n_i': ni}\n",
    "        \n",
    "        if self.transform:\n",
    "            sample = self.transform(sample)\n",
    "        \n",
    "        return sample"
   ]
  },
  {
   "cell_type": "code",
   "execution_count": 23,
   "metadata": {
    "ExecuteTime": {
     "end_time": "2019-07-25T11:49:30.228125Z",
     "start_time": "2019-07-25T11:49:30.222194Z"
    },
    "hidden": true
   },
   "outputs": [],
   "source": [
    "class ToTensor(object):\n",
    "    \"\"\"Convert ndarrays in sample to Tensors.\"\"\"\n",
    "\n",
    "    def __call__(self, sample):\n",
    "        k_nr, ni = sample['k_n_r'], sample['n_i']\n",
    "        \n",
    "        return {'k_n_r': torch.from_numpy(k_nr).float().to(device),\n",
    "                'n_i': torch.from_numpy(ni).float().to(device)}"
   ]
  },
  {
   "cell_type": "code",
   "execution_count": 24,
   "metadata": {
    "ExecuteTime": {
     "end_time": "2019-07-25T11:49:30.233025Z",
     "start_time": "2019-07-25T11:49:30.229279Z"
    },
    "hidden": true
   },
   "outputs": [],
   "source": [
    "class OneChannel(object):\n",
    "    \"\"\"For Convolution, size (N,C,L) is needed\"\"\"\n",
    "    \n",
    "    def __call__(self, sample):\n",
    "        new_samp = {'k_n_r': torch.ones([1,len(sample['k_n_r'])]),\n",
    "                    'n_i': torch.ones([1,len(sample['n_i'])])}\n",
    "        new_samp['k_n_r'][0] = sample['k_n_r']\n",
    "        new_samp['n_i'][0] = sample['n_i']\n",
    "        new_samp['k_n_r'] = new_samp['k_n_r'].to(device)\n",
    "        new_samp['n_i'] = new_samp['n_i'].to(device)\n",
    "        \n",
    "        return new_samp"
   ]
  },
  {
   "cell_type": "code",
   "execution_count": 25,
   "metadata": {
    "ExecuteTime": {
     "end_time": "2019-07-25T11:49:30.241169Z",
     "start_time": "2019-07-25T11:49:30.234722Z"
    },
    "hidden": true
   },
   "outputs": [],
   "source": [
    "class Normalize(object):\n",
    "    \"\"\"\"Data ist then normalized to given mean and std.\"\"\"\n",
    "\n",
    "    def __init__(self, means, stds):\n",
    "        self.nr_mean = means[0]\n",
    "        self.nr_std = stds[0]\n",
    "        self.ni_mean = means[1]\n",
    "        self.ni_std = stds[1]\n",
    "    \n",
    "    def __call__(self, sample):\n",
    "        k_nr, ni = sample['k_n_r'], sample['n_i']\n",
    "        \n",
    "        k_nr = (k_nr - self.nr_mean)/self.nr_std\n",
    "        ni = (ni - self.ni_mean)/self.ni_std\n",
    "        \n",
    "        return {'k_n_r': k_nr,\n",
    "                'n_i': ni}"
   ]
  },
  {
   "cell_type": "markdown",
   "metadata": {
    "hidden": true
   },
   "source": [
    "Erzeuge das Objekt Dataset."
   ]
  },
  {
   "cell_type": "code",
   "execution_count": 26,
   "metadata": {
    "ExecuteTime": {
     "end_time": "2019-07-25T11:49:33.241501Z",
     "start_time": "2019-07-25T11:49:30.242596Z"
    },
    "hidden": true
   },
   "outputs": [],
   "source": [
    "# calculate mean and std of data (vernachlässige k)\n",
    "\n",
    "nr_mean = 0\n",
    "nr_std = 0\n",
    "ni_mean = 0\n",
    "ni_std = 0\n",
    "\n",
    "for i in range(size):\n",
    "    nr = np.load(out + 'n_real_' + str(i) + '.npy')\n",
    "    ni = np.load(out + 'n_imag_' + str(i) + '.npy')\n",
    "    \n",
    "    nr_mean += np.mean(nr)\n",
    "    nr_std += np.std(nr)\n",
    "    ni_mean += np.mean(ni)\n",
    "    ni_std += np.std(ni)\n",
    "    \n",
    "nr_mean = nr_mean/size\n",
    "nr_std = nr_std/size\n",
    "ni_mean = ni_mean/size\n",
    "ni_std = ni_std/size"
   ]
  },
  {
   "cell_type": "code",
   "execution_count": 27,
   "metadata": {
    "ExecuteTime": {
     "end_time": "2019-07-25T11:49:33.245986Z",
     "start_time": "2019-07-25T11:49:33.242894Z"
    },
    "hidden": true
   },
   "outputs": [],
   "source": [
    "transform = transforms.Compose([Normalize((nr_mean, ni_mean), (nr_std, ni_std)),\n",
    "                                ToTensor(),\n",
    "                                OneChannel()\n",
    "                               ])"
   ]
  },
  {
   "cell_type": "markdown",
   "metadata": {
    "hidden": true
   },
   "source": [
    "Lege Tensoren auf CUDA."
   ]
  },
  {
   "cell_type": "code",
   "execution_count": 28,
   "metadata": {
    "ExecuteTime": {
     "end_time": "2019-07-25T11:49:33.256054Z",
     "start_time": "2019-07-25T11:49:33.249809Z"
    },
    "hidden": true
   },
   "outputs": [],
   "source": [
    "device = torch.device(\"cuda\" if torch.cuda.is_available() else \"cpu\")"
   ]
  },
  {
   "cell_type": "code",
   "execution_count": 29,
   "metadata": {
    "ExecuteTime": {
     "end_time": "2019-07-25T11:49:33.264722Z",
     "start_time": "2019-07-25T11:49:33.259688Z"
    },
    "hidden": true
   },
   "outputs": [],
   "source": [
    "pot_dataset = PotentialDataset(csv_file = out + 'k_values.csv', \n",
    "                               root_dir = out,\n",
    "                               transform = transform)"
   ]
  },
  {
   "cell_type": "code",
   "execution_count": 1,
   "metadata": {
    "ExecuteTime": {
     "end_time": "2019-07-26T08:23:31.501121Z",
     "start_time": "2019-07-26T08:23:31.451394Z"
    },
    "hidden": true
   },
   "outputs": [
    {
     "ename": "NameError",
     "evalue": "name 'pot_dataset' is not defined",
     "output_type": "error",
     "traceback": [
      "\u001b[0;31m---------------------------------------------------------------------------\u001b[0m",
      "\u001b[0;31mNameError\u001b[0m                                 Traceback (most recent call last)",
      "\u001b[0;32m<ipython-input-1-eaf704dfac04>\u001b[0m in \u001b[0;36m<module>\u001b[0;34m\u001b[0m\n\u001b[0;32m----> 1\u001b[0;31m \u001b[0mpot_dataset\u001b[0m\u001b[0;34m[\u001b[0m\u001b[0;36m19\u001b[0m\u001b[0;34m]\u001b[0m\u001b[0;34m[\u001b[0m\u001b[0;34m'k_n_r'\u001b[0m\u001b[0;34m]\u001b[0m\u001b[0;34m[\u001b[0m\u001b[0;36m0\u001b[0m\u001b[0;34m]\u001b[0m \u001b[0;31m#funktioniert prima\u001b[0m\u001b[0;34m\u001b[0m\u001b[0;34m\u001b[0m\u001b[0m\n\u001b[0m",
      "\u001b[0;31mNameError\u001b[0m: name 'pot_dataset' is not defined"
     ]
    }
   ],
   "source": [
    "pot_dataset[19]['k_n_r'][0] #funktioniert prima"
   ]
  },
  {
   "cell_type": "code",
   "execution_count": 31,
   "metadata": {
    "ExecuteTime": {
     "end_time": "2019-07-25T11:49:35.015145Z",
     "start_time": "2019-07-25T11:49:35.008711Z"
    },
    "hidden": true
   },
   "outputs": [
    {
     "name": "stdout",
     "output_type": "stream",
     "text": [
      "torch.Size([1, 10001])\n"
     ]
    }
   ],
   "source": [
    "print(pot_dataset[19]['k_n_r'].size())"
   ]
  },
  {
   "cell_type": "code",
   "execution_count": 32,
   "metadata": {
    "ExecuteTime": {
     "end_time": "2019-07-25T11:49:35.024505Z",
     "start_time": "2019-07-25T11:49:35.017888Z"
    },
    "hidden": true
   },
   "outputs": [
    {
     "data": {
      "text/plain": [
       "True"
      ]
     },
     "execution_count": 32,
     "metadata": {},
     "output_type": "execute_result"
    }
   ],
   "source": [
    "pot_dataset[19]['k_n_r'].is_cuda"
   ]
  },
  {
   "cell_type": "code",
   "execution_count": 33,
   "metadata": {
    "ExecuteTime": {
     "end_time": "2019-07-25T11:49:35.182051Z",
     "start_time": "2019-07-25T11:49:35.025811Z"
    },
    "hidden": true
   },
   "outputs": [
    {
     "data": {
      "text/plain": [
       "[<matplotlib.lines.Line2D at 0x7fde53e0ef98>]"
      ]
     },
     "execution_count": 33,
     "metadata": {},
     "output_type": "execute_result"
    },
    {
     "data": {
      "image/png": "[encoded data removed]",
      "text/plain": [
       "<Figure size 432x288 with 1 Axes>"
      ]
     },
     "metadata": {
      "needs_background": "light"
     },
     "output_type": "display_data"
    }
   ],
   "source": [
    "pylab.plot(x,pot_dataset[19]['k_n_r'][0].cpu().numpy()[1:])\n",
    "pylab.plot(x,pot_dataset[19]['n_i'][0].cpu().numpy())"
   ]
  },
  {
   "cell_type": "markdown",
   "metadata": {
    "heading_collapsed": true
   },
   "source": [
    "### Konstruiere Loader & Netz"
   ]
  },
  {
   "cell_type": "markdown",
   "metadata": {
    "hidden": true
   },
   "source": [
    "Erstelle einen Train/Validation Split und die zugehörigen PyTorch DataLoader."
   ]
  },
  {
   "cell_type": "code",
   "execution_count": 34,
   "metadata": {
    "ExecuteTime": {
     "end_time": "2019-07-25T11:49:35.188702Z",
     "start_time": "2019-07-25T11:49:35.183465Z"
    },
    "hidden": true
   },
   "outputs": [],
   "source": [
    "batch_size = 8\n",
    "validation_split = .2\n",
    "shuffle_dataset = True\n",
    "random_seed= 42\n",
    "\n",
    "# Creating data indices for training and validation splits:\n",
    "dataset_size = len(pot_dataset)\n",
    "indices = list(range(dataset_size))\n",
    "split = int(np.floor(validation_split * dataset_size)) #floor tut abrunden\n",
    "if shuffle_dataset :\n",
    "    np.random.seed(random_seed)\n",
    "    np.random.shuffle(indices)\n",
    "train_indices, val_indices = indices[split:], indices[:split]\n",
    "\n",
    "# Creating PT data samplers and loaders:\n",
    "train_sampler = SubsetRandomSampler(train_indices)\n",
    "valid_sampler = SubsetRandomSampler(val_indices)\n",
    "\n",
    "train_loader = DataLoader(pot_dataset, \n",
    "                          batch_size=batch_size, \n",
    "                          sampler=train_sampler)\n",
    "validation_loader = DataLoader(pot_dataset, \n",
    "                               batch_size=batch_size,\n",
    "                               sampler=valid_sampler)"
   ]
  },
  {
   "cell_type": "markdown",
   "metadata": {
    "hidden": true
   },
   "source": [
    "Erstelle ein U-Net. Das sinnvoller als ein normales CNN, weil wieder ein Signal rekonstruiert werden muss und nicht nur klassifiziert."
   ]
  },
  {
   "cell_type": "code",
   "execution_count": 35,
   "metadata": {
    "ExecuteTime": {
     "end_time": "2019-07-25T11:49:35.202149Z",
     "start_time": "2019-07-25T11:49:35.189872Z"
    },
    "hidden": true
   },
   "outputs": [],
   "source": [
    "#Das ist mein Netz!\n",
    "\n",
    "LABEL_LEN = 10000 #leider hardgecodet aber wir brauchen diese global var im OUTCONV\n",
    "\n",
    "class double_conv(nn.Module):\n",
    "    '''(conv => BN => ReLU) * 2'''\n",
    "    def __init__(self, in_ch, out_ch):\n",
    "        super(double_conv, self).__init__()\n",
    "        self.conv = nn.Sequential(\n",
    "            nn.Conv1d(in_ch, out_ch, 9, padding=1),\n",
    "            nn.BatchNorm1d(out_ch),\n",
    "            nn.ReLU(inplace=True),\n",
    "            nn.Conv1d(out_ch, out_ch, 9, padding=1),\n",
    "            nn.BatchNorm1d(out_ch),\n",
    "            nn.ReLU(inplace=True)\n",
    "        )\n",
    "\n",
    "    def forward(self, x):\n",
    "         x = self.conv(x)\n",
    "         return x        \n",
    "\n",
    "class inconv(nn.Module):\n",
    "    def __init__(self, in_ch, out_ch):\n",
    "        super(inconv, self).__init__()\n",
    "        self.conv = double_conv(in_ch, out_ch)\n",
    "\n",
    "    def forward(self, x):\n",
    "        x = self.conv(x)\n",
    "        return x\n",
    "        \n",
    "class down(nn.Module):\n",
    "    def __init__(self, in_ch, out_ch):\n",
    "        super(down, self).__init__()\n",
    "        self.mpconv = nn.Sequential(            \n",
    "            nn.MaxPool1d(2),\n",
    "            double_conv(in_ch, out_ch)\n",
    "        )\n",
    "\n",
    "    def forward(self, x):\n",
    "        x = self.mpconv(x)\n",
    "        return x\n",
    "    \n",
    "class up(nn.Module):\n",
    "    def __init__(self, in_ch, out_ch):\n",
    "        super(up, self).__init__()\n",
    "        self.up = nn.Sequential(\n",
    "            nn.ConvTranspose1d(in_ch, out_ch, 7, padding=1, stride=2),\n",
    "            nn.BatchNorm1d(out_ch),\n",
    "            nn.ReLU(inplace=True)    \n",
    "        )\n",
    "        self.conv = double_conv(in_ch, out_ch)\n",
    "        \n",
    "    def forward(self, x1, x2):\n",
    "        x1 = self.up(x1)\n",
    "        \n",
    "        #hier gibt es immer einen Padding Fehler, weil PyTorch kein SAME-Padding kennt\n",
    "        diff = x2.size()[2] - x1.size()[2]\n",
    "\n",
    "        x1 = F.pad(x1, (diff // 2, diff - diff//2)) #nur die letzte Dim wird gepadded\n",
    "        \n",
    "        x = torch.cat([x2, x1], dim = 1) #\n",
    "        x = self.conv(x)\n",
    "        return x        \n",
    "\n",
    "class outconv(nn.Module):\n",
    "    def __init__(self, in_ch, out_ch):\n",
    "        super(outconv, self).__init__()\n",
    "        self.conv = nn.Sequential(\n",
    "            nn.Conv1d(in_ch, 50, 9, padding=3), #das padding wurde hier so gewählt, dass OUTPUT dem Label passt\n",
    "            nn.BatchNorm1d(50),\n",
    "            nn.ReLU(inplace=True),\n",
    "            nn.Conv1d(50, out_ch, 1, padding=1)\n",
    "        )\n",
    "\n",
    "    def forward(self, x):\n",
    "        \n",
    "        #hier gibt es immer einen Padding Fehler, weil PyTorch kein SAME-Padding kennt\n",
    "        diff = LABEL_LEN - x.size()[2]\n",
    "        x = F.pad(x, (diff//2, diff-diff//2))\n",
    "        \n",
    "        x = self.conv(x)\n",
    "        return x"
   ]
  },
  {
   "cell_type": "code",
   "execution_count": 36,
   "metadata": {
    "ExecuteTime": {
     "end_time": "2019-07-25T11:49:35.211861Z",
     "start_time": "2019-07-25T11:49:35.203407Z"
    },
    "hidden": true
   },
   "outputs": [],
   "source": [
    "#Das ist mein Netz!\n",
    "\n",
    "class UNet(nn.Module):\n",
    "    def __init__(self, n_channels, n_classes):\n",
    "        super(UNet, self).__init__()\n",
    "        self.inc = inconv(n_channels, 128)\n",
    "        self.down1 = down(128, 256)\n",
    "        self.down2 = down(256, 512)\n",
    "        self.down3 = down(512, 1024)\n",
    "        self.down4 = down(1024, 2048)\n",
    "        self.up1 = up(2048, 1024)\n",
    "        self.up2 = up(1024, 512)\n",
    "        self.up3 = up(512, 256)\n",
    "        self.up4 = up(256, 128)\n",
    "        self.outc = outconv(128, n_classes)\n",
    "\n",
    "    def forward(self, x):\n",
    "        #print('Size start: ', x.size())\n",
    "        x1 = self.inc(x)\n",
    "        #print('Size after INC: ', x1.size())\n",
    "        x2 = self.down1(x1)\n",
    "        #print('Size after DOWN1: ', x2.size())\n",
    "        x3 = self.down2(x2)\n",
    "        #print('Size after DOWN2: ', x3.size())\n",
    "        x4 = self.down3(x3)\n",
    "        #print('Size after DOWN3: ', x4.size())\n",
    "        x5 = self.down4(x4)\n",
    "        #print('Size after DOWN4: ', x5.size())\n",
    "        x = self.up1(x5, x4)\n",
    "        #print('Size after UP1: ', x.size())\n",
    "        x = self.up2(x, x3)\n",
    "        #print('Size after UP2: ', x.size())\n",
    "        x = self.up3(x, x2)\n",
    "        #print('Size after UP3: ', x.size())\n",
    "        x = self.up4(x, x1)\n",
    "        #print('Size after UP4: ', x.size())\n",
    "        x = self.outc(x)\n",
    "        #print('Size after OUTC: ', x.size())\n",
    "        return x"
   ]
  },
  {
   "cell_type": "code",
   "execution_count": null,
   "metadata": {
    "ExecuteTime": {
     "end_time": "2019-07-12T11:40:49.093436Z",
     "start_time": "2019-07-12T11:40:48.096271Z"
    },
    "deletable": false,
    "editable": false,
    "hidden": true,
    "run_control": {
     "frozen": true
    }
   },
   "outputs": [],
   "source": [
    "#sonst wird jetzt neues Model erstellt\n",
    "\n",
    "model = UNet(n_channels=1, n_classes=1)\n",
    "print(model)"
   ]
  },
  {
   "cell_type": "markdown",
   "metadata": {
    "heading_collapsed": true
   },
   "source": [
    "### Lade Netz"
   ]
  },
  {
   "cell_type": "code",
   "execution_count": 37,
   "metadata": {
    "ExecuteTime": {
     "end_time": "2019-07-25T11:49:42.610129Z",
     "start_time": "2019-07-25T11:49:42.305780Z"
    },
    "hidden": true
   },
   "outputs": [
    {
     "data": {
      "text/plain": [
       "UNet(\n",
       "  (inc): inconv(\n",
       "    (conv): double_conv(\n",
       "      (conv): Sequential(\n",
       "        (0): Conv1d(1, 128, kernel_size=(9,), stride=(1,), padding=(1,))\n",
       "        (1): BatchNorm1d(128, eps=1e-05, momentum=0.1, affine=True, track_running_stats=True)\n",
       "        (2): ReLU(inplace)\n",
       "        (3): Conv1d(128, 128, kernel_size=(9,), stride=(1,), padding=(1,))\n",
       "        (4): BatchNorm1d(128, eps=1e-05, momentum=0.1, affine=True, track_running_stats=True)\n",
       "        (5): ReLU(inplace)\n",
       "      )\n",
       "    )\n",
       "  )\n",
       "  (down1): down(\n",
       "    (mpconv): Sequential(\n",
       "      (0): MaxPool1d(kernel_size=2, stride=2, padding=0, dilation=1, ceil_mode=False)\n",
       "      (1): double_conv(\n",
       "        (conv): Sequential(\n",
       "          (0): Conv1d(128, 256, kernel_size=(9,), stride=(1,), padding=(1,))\n",
       "          (1): BatchNorm1d(256, eps=1e-05, momentum=0.1, affine=True, track_running_stats=True)\n",
       "          (2): ReLU(inplace)\n",
       "          (3): Conv1d(256, 256, kernel_size=(9,), stride=(1,), padding=(1,))\n",
       "          (4): BatchNorm1d(256, eps=1e-05, momentum=0.1, affine=True, track_running_stats=True)\n",
       "          (5): ReLU(inplace)\n",
       "        )\n",
       "      )\n",
       "    )\n",
       "  )\n",
       "  (down2): down(\n",
       "    (mpconv): Sequential(\n",
       "      (0): MaxPool1d(kernel_size=2, stride=2, padding=0, dilation=1, ceil_mode=False)\n",
       "      (1): double_conv(\n",
       "        (conv): Sequential(\n",
       "          (0): Conv1d(256, 512, kernel_size=(9,), stride=(1,), padding=(1,))\n",
       "          (1): BatchNorm1d(512, eps=1e-05, momentum=0.1, affine=True, track_running_stats=True)\n",
       "          (2): ReLU(inplace)\n",
       "          (3): Conv1d(512, 512, kernel_size=(9,), stride=(1,), padding=(1,))\n",
       "          (4): BatchNorm1d(512, eps=1e-05, momentum=0.1, affine=True, track_running_stats=True)\n",
       "          (5): ReLU(inplace)\n",
       "        )\n",
       "      )\n",
       "    )\n",
       "  )\n",
       "  (down3): down(\n",
       "    (mpconv): Sequential(\n",
       "      (0): MaxPool1d(kernel_size=2, stride=2, padding=0, dilation=1, ceil_mode=False)\n",
       "      (1): double_conv(\n",
       "        (conv): Sequential(\n",
       "          (0): Conv1d(512, 1024, kernel_size=(9,), stride=(1,), padding=(1,))\n",
       "          (1): BatchNorm1d(1024, eps=1e-05, momentum=0.1, affine=True, track_running_stats=True)\n",
       "          (2): ReLU(inplace)\n",
       "          (3): Conv1d(1024, 1024, kernel_size=(9,), stride=(1,), padding=(1,))\n",
       "          (4): BatchNorm1d(1024, eps=1e-05, momentum=0.1, affine=True, track_running_stats=True)\n",
       "          (5): ReLU(inplace)\n",
       "        )\n",
       "      )\n",
       "    )\n",
       "  )\n",
       "  (down4): down(\n",
       "    (mpconv): Sequential(\n",
       "      (0): MaxPool1d(kernel_size=2, stride=2, padding=0, dilation=1, ceil_mode=False)\n",
       "      (1): double_conv(\n",
       "        (conv): Sequential(\n",
       "          (0): Conv1d(1024, 2048, kernel_size=(9,), stride=(1,), padding=(1,))\n",
       "          (1): BatchNorm1d(2048, eps=1e-05, momentum=0.1, affine=True, track_running_stats=True)\n",
       "          (2): ReLU(inplace)\n",
       "          (3): Conv1d(2048, 2048, kernel_size=(9,), stride=(1,), padding=(1,))\n",
       "          (4): BatchNorm1d(2048, eps=1e-05, momentum=0.1, affine=True, track_running_stats=True)\n",
       "          (5): ReLU(inplace)\n",
       "        )\n",
       "      )\n",
       "    )\n",
       "  )\n",
       "  (up1): up(\n",
       "    (up): Sequential(\n",
       "      (0): ConvTranspose1d(2048, 1024, kernel_size=(7,), stride=(2,), padding=(1,))\n",
       "      (1): BatchNorm1d(1024, eps=1e-05, momentum=0.1, affine=True, track_running_stats=True)\n",
       "      (2): ReLU(inplace)\n",
       "    )\n",
       "    (conv): double_conv(\n",
       "      (conv): Sequential(\n",
       "        (0): Conv1d(2048, 1024, kernel_size=(9,), stride=(1,), padding=(1,))\n",
       "        (1): BatchNorm1d(1024, eps=1e-05, momentum=0.1, affine=True, track_running_stats=True)\n",
       "        (2): ReLU(inplace)\n",
       "        (3): Conv1d(1024, 1024, kernel_size=(9,), stride=(1,), padding=(1,))\n",
       "        (4): BatchNorm1d(1024, eps=1e-05, momentum=0.1, affine=True, track_running_stats=True)\n",
       "        (5): ReLU(inplace)\n",
       "      )\n",
       "    )\n",
       "  )\n",
       "  (up2): up(\n",
       "    (up): Sequential(\n",
       "      (0): ConvTranspose1d(1024, 512, kernel_size=(7,), stride=(2,), padding=(1,))\n",
       "      (1): BatchNorm1d(512, eps=1e-05, momentum=0.1, affine=True, track_running_stats=True)\n",
       "      (2): ReLU(inplace)\n",
       "    )\n",
       "    (conv): double_conv(\n",
       "      (conv): Sequential(\n",
       "        (0): Conv1d(1024, 512, kernel_size=(9,), stride=(1,), padding=(1,))\n",
       "        (1): BatchNorm1d(512, eps=1e-05, momentum=0.1, affine=True, track_running_stats=True)\n",
       "        (2): ReLU(inplace)\n",
       "        (3): Conv1d(512, 512, kernel_size=(9,), stride=(1,), padding=(1,))\n",
       "        (4): BatchNorm1d(512, eps=1e-05, momentum=0.1, affine=True, track_running_stats=True)\n",
       "        (5): ReLU(inplace)\n",
       "      )\n",
       "    )\n",
       "  )\n",
       "  (up3): up(\n",
       "    (up): Sequential(\n",
       "      (0): ConvTranspose1d(512, 256, kernel_size=(7,), stride=(2,), padding=(1,))\n",
       "      (1): BatchNorm1d(256, eps=1e-05, momentum=0.1, affine=True, track_running_stats=True)\n",
       "      (2): ReLU(inplace)\n",
       "    )\n",
       "    (conv): double_conv(\n",
       "      (conv): Sequential(\n",
       "        (0): Conv1d(512, 256, kernel_size=(9,), stride=(1,), padding=(1,))\n",
       "        (1): BatchNorm1d(256, eps=1e-05, momentum=0.1, affine=True, track_running_stats=True)\n",
       "        (2): ReLU(inplace)\n",
       "        (3): Conv1d(256, 256, kernel_size=(9,), stride=(1,), padding=(1,))\n",
       "        (4): BatchNorm1d(256, eps=1e-05, momentum=0.1, affine=True, track_running_stats=True)\n",
       "        (5): ReLU(inplace)\n",
       "      )\n",
       "    )\n",
       "  )\n",
       "  (up4): up(\n",
       "    (up): Sequential(\n",
       "      (0): ConvTranspose1d(256, 128, kernel_size=(7,), stride=(2,), padding=(1,))\n",
       "      (1): BatchNorm1d(128, eps=1e-05, momentum=0.1, affine=True, track_running_stats=True)\n",
       "      (2): ReLU(inplace)\n",
       "    )\n",
       "    (conv): double_conv(\n",
       "      (conv): Sequential(\n",
       "        (0): Conv1d(256, 128, kernel_size=(9,), stride=(1,), padding=(1,))\n",
       "        (1): BatchNorm1d(128, eps=1e-05, momentum=0.1, affine=True, track_running_stats=True)\n",
       "        (2): ReLU(inplace)\n",
       "        (3): Conv1d(128, 128, kernel_size=(9,), stride=(1,), padding=(1,))\n",
       "        (4): BatchNorm1d(128, eps=1e-05, momentum=0.1, affine=True, track_running_stats=True)\n",
       "        (5): ReLU(inplace)\n",
       "      )\n",
       "    )\n",
       "  )\n",
       "  (outc): outconv(\n",
       "    (conv): Sequential(\n",
       "      (0): Conv1d(128, 50, kernel_size=(9,), stride=(1,), padding=(3,))\n",
       "      (1): BatchNorm1d(50, eps=1e-05, momentum=0.1, affine=True, track_running_stats=True)\n",
       "      (2): ReLU(inplace)\n",
       "      (3): Conv1d(50, 1, kernel_size=(1,), stride=(1,), padding=(1,))\n",
       "    )\n",
       "  )\n",
       ")"
      ]
     },
     "execution_count": 37,
     "metadata": {},
     "output_type": "execute_result"
    }
   ],
   "source": [
    "#evtl soll nicht ein neues Model erstellt, sondern ein altes geladen werden!\n",
    "\n",
    "PATH = 'run2/UNet_158_epoch.pt'\n",
    "\n",
    "model = torch.load(PATH, map_location=device)\n",
    "model.eval()"
   ]
  },
  {
   "cell_type": "markdown",
   "metadata": {
    "heading_collapsed": true
   },
   "source": [
    "### Training"
   ]
  },
  {
   "cell_type": "markdown",
   "metadata": {
    "hidden": true
   },
   "source": [
    "Model auf CUDA:"
   ]
  },
  {
   "cell_type": "code",
   "execution_count": 38,
   "metadata": {
    "ExecuteTime": {
     "end_time": "2019-07-25T11:49:48.672220Z",
     "start_time": "2019-07-25T11:49:48.661292Z"
    },
    "hidden": true
   },
   "outputs": [
    {
     "data": {
      "text/plain": [
       "UNet(\n",
       "  (inc): inconv(\n",
       "    (conv): double_conv(\n",
       "      (conv): Sequential(\n",
       "        (0): Conv1d(1, 128, kernel_size=(9,), stride=(1,), padding=(1,))\n",
       "        (1): BatchNorm1d(128, eps=1e-05, momentum=0.1, affine=True, track_running_stats=True)\n",
       "        (2): ReLU(inplace)\n",
       "        (3): Conv1d(128, 128, kernel_size=(9,), stride=(1,), padding=(1,))\n",
       "        (4): BatchNorm1d(128, eps=1e-05, momentum=0.1, affine=True, track_running_stats=True)\n",
       "        (5): ReLU(inplace)\n",
       "      )\n",
       "    )\n",
       "  )\n",
       "  (down1): down(\n",
       "    (mpconv): Sequential(\n",
       "      (0): MaxPool1d(kernel_size=2, stride=2, padding=0, dilation=1, ceil_mode=False)\n",
       "      (1): double_conv(\n",
       "        (conv): Sequential(\n",
       "          (0): Conv1d(128, 256, kernel_size=(9,), stride=(1,), padding=(1,))\n",
       "          (1): BatchNorm1d(256, eps=1e-05, momentum=0.1, affine=True, track_running_stats=True)\n",
       "          (2): ReLU(inplace)\n",
       "          (3): Conv1d(256, 256, kernel_size=(9,), stride=(1,), padding=(1,))\n",
       "          (4): BatchNorm1d(256, eps=1e-05, momentum=0.1, affine=True, track_running_stats=True)\n",
       "          (5): ReLU(inplace)\n",
       "        )\n",
       "      )\n",
       "    )\n",
       "  )\n",
       "  (down2): down(\n",
       "    (mpconv): Sequential(\n",
       "      (0): MaxPool1d(kernel_size=2, stride=2, padding=0, dilation=1, ceil_mode=False)\n",
       "      (1): double_conv(\n",
       "        (conv): Sequential(\n",
       "          (0): Conv1d(256, 512, kernel_size=(9,), stride=(1,), padding=(1,))\n",
       "          (1): BatchNorm1d(512, eps=1e-05, momentum=0.1, affine=True, track_running_stats=True)\n",
       "          (2): ReLU(inplace)\n",
       "          (3): Conv1d(512, 512, kernel_size=(9,), stride=(1,), padding=(1,))\n",
       "          (4): BatchNorm1d(512, eps=1e-05, momentum=0.1, affine=True, track_running_stats=True)\n",
       "          (5): ReLU(inplace)\n",
       "        )\n",
       "      )\n",
       "    )\n",
       "  )\n",
       "  (down3): down(\n",
       "    (mpconv): Sequential(\n",
       "      (0): MaxPool1d(kernel_size=2, stride=2, padding=0, dilation=1, ceil_mode=False)\n",
       "      (1): double_conv(\n",
       "        (conv): Sequential(\n",
       "          (0): Conv1d(512, 1024, kernel_size=(9,), stride=(1,), padding=(1,))\n",
       "          (1): BatchNorm1d(1024, eps=1e-05, momentum=0.1, affine=True, track_running_stats=True)\n",
       "          (2): ReLU(inplace)\n",
       "          (3): Conv1d(1024, 1024, kernel_size=(9,), stride=(1,), padding=(1,))\n",
       "          (4): BatchNorm1d(1024, eps=1e-05, momentum=0.1, affine=True, track_running_stats=True)\n",
       "          (5): ReLU(inplace)\n",
       "        )\n",
       "      )\n",
       "    )\n",
       "  )\n",
       "  (down4): down(\n",
       "    (mpconv): Sequential(\n",
       "      (0): MaxPool1d(kernel_size=2, stride=2, padding=0, dilation=1, ceil_mode=False)\n",
       "      (1): double_conv(\n",
       "        (conv): Sequential(\n",
       "          (0): Conv1d(1024, 2048, kernel_size=(9,), stride=(1,), padding=(1,))\n",
       "          (1): BatchNorm1d(2048, eps=1e-05, momentum=0.1, affine=True, track_running_stats=True)\n",
       "          (2): ReLU(inplace)\n",
       "          (3): Conv1d(2048, 2048, kernel_size=(9,), stride=(1,), padding=(1,))\n",
       "          (4): BatchNorm1d(2048, eps=1e-05, momentum=0.1, affine=True, track_running_stats=True)\n",
       "          (5): ReLU(inplace)\n",
       "        )\n",
       "      )\n",
       "    )\n",
       "  )\n",
       "  (up1): up(\n",
       "    (up): Sequential(\n",
       "      (0): ConvTranspose1d(2048, 1024, kernel_size=(7,), stride=(2,), padding=(1,))\n",
       "      (1): BatchNorm1d(1024, eps=1e-05, momentum=0.1, affine=True, track_running_stats=True)\n",
       "      (2): ReLU(inplace)\n",
       "    )\n",
       "    (conv): double_conv(\n",
       "      (conv): Sequential(\n",
       "        (0): Conv1d(2048, 1024, kernel_size=(9,), stride=(1,), padding=(1,))\n",
       "        (1): BatchNorm1d(1024, eps=1e-05, momentum=0.1, affine=True, track_running_stats=True)\n",
       "        (2): ReLU(inplace)\n",
       "        (3): Conv1d(1024, 1024, kernel_size=(9,), stride=(1,), padding=(1,))\n",
       "        (4): BatchNorm1d(1024, eps=1e-05, momentum=0.1, affine=True, track_running_stats=True)\n",
       "        (5): ReLU(inplace)\n",
       "      )\n",
       "    )\n",
       "  )\n",
       "  (up2): up(\n",
       "    (up): Sequential(\n",
       "      (0): ConvTranspose1d(1024, 512, kernel_size=(7,), stride=(2,), padding=(1,))\n",
       "      (1): BatchNorm1d(512, eps=1e-05, momentum=0.1, affine=True, track_running_stats=True)\n",
       "      (2): ReLU(inplace)\n",
       "    )\n",
       "    (conv): double_conv(\n",
       "      (conv): Sequential(\n",
       "        (0): Conv1d(1024, 512, kernel_size=(9,), stride=(1,), padding=(1,))\n",
       "        (1): BatchNorm1d(512, eps=1e-05, momentum=0.1, affine=True, track_running_stats=True)\n",
       "        (2): ReLU(inplace)\n",
       "        (3): Conv1d(512, 512, kernel_size=(9,), stride=(1,), padding=(1,))\n",
       "        (4): BatchNorm1d(512, eps=1e-05, momentum=0.1, affine=True, track_running_stats=True)\n",
       "        (5): ReLU(inplace)\n",
       "      )\n",
       "    )\n",
       "  )\n",
       "  (up3): up(\n",
       "    (up): Sequential(\n",
       "      (0): ConvTranspose1d(512, 256, kernel_size=(7,), stride=(2,), padding=(1,))\n",
       "      (1): BatchNorm1d(256, eps=1e-05, momentum=0.1, affine=True, track_running_stats=True)\n",
       "      (2): ReLU(inplace)\n",
       "    )\n",
       "    (conv): double_conv(\n",
       "      (conv): Sequential(\n",
       "        (0): Conv1d(512, 256, kernel_size=(9,), stride=(1,), padding=(1,))\n",
       "        (1): BatchNorm1d(256, eps=1e-05, momentum=0.1, affine=True, track_running_stats=True)\n",
       "        (2): ReLU(inplace)\n",
       "        (3): Conv1d(256, 256, kernel_size=(9,), stride=(1,), padding=(1,))\n",
       "        (4): BatchNorm1d(256, eps=1e-05, momentum=0.1, affine=True, track_running_stats=True)\n",
       "        (5): ReLU(inplace)\n",
       "      )\n",
       "    )\n",
       "  )\n",
       "  (up4): up(\n",
       "    (up): Sequential(\n",
       "      (0): ConvTranspose1d(256, 128, kernel_size=(7,), stride=(2,), padding=(1,))\n",
       "      (1): BatchNorm1d(128, eps=1e-05, momentum=0.1, affine=True, track_running_stats=True)\n",
       "      (2): ReLU(inplace)\n",
       "    )\n",
       "    (conv): double_conv(\n",
       "      (conv): Sequential(\n",
       "        (0): Conv1d(256, 128, kernel_size=(9,), stride=(1,), padding=(1,))\n",
       "        (1): BatchNorm1d(128, eps=1e-05, momentum=0.1, affine=True, track_running_stats=True)\n",
       "        (2): ReLU(inplace)\n",
       "        (3): Conv1d(128, 128, kernel_size=(9,), stride=(1,), padding=(1,))\n",
       "        (4): BatchNorm1d(128, eps=1e-05, momentum=0.1, affine=True, track_running_stats=True)\n",
       "        (5): ReLU(inplace)\n",
       "      )\n",
       "    )\n",
       "  )\n",
       "  (outc): outconv(\n",
       "    (conv): Sequential(\n",
       "      (0): Conv1d(128, 50, kernel_size=(9,), stride=(1,), padding=(3,))\n",
       "      (1): BatchNorm1d(50, eps=1e-05, momentum=0.1, affine=True, track_running_stats=True)\n",
       "      (2): ReLU(inplace)\n",
       "      (3): Conv1d(50, 1, kernel_size=(1,), stride=(1,), padding=(1,))\n",
       "    )\n",
       "  )\n",
       ")"
      ]
     },
     "execution_count": 38,
     "metadata": {},
     "output_type": "execute_result"
    }
   ],
   "source": [
    "model.to(device)"
   ]
  },
  {
   "cell_type": "code",
   "execution_count": 39,
   "metadata": {
    "ExecuteTime": {
     "end_time": "2019-07-25T11:49:52.636424Z",
     "start_time": "2019-07-25T11:49:52.629778Z"
    },
    "hidden": true
   },
   "outputs": [
    {
     "data": {
      "text/plain": [
       "True"
      ]
     },
     "execution_count": 39,
     "metadata": {},
     "output_type": "execute_result"
    }
   ],
   "source": [
    "next(model.parameters()).is_cuda"
   ]
  },
  {
   "cell_type": "markdown",
   "metadata": {
    "hidden": true
   },
   "source": [
    "Definiere Optimizer und Loss Function und Learning rate."
   ]
  },
  {
   "cell_type": "code",
   "execution_count": null,
   "metadata": {
    "ExecuteTime": {
     "end_time": "2019-07-25T11:45:10.757396Z",
     "start_time": "2019-07-25T11:45:07.082Z"
    },
    "hidden": true
   },
   "outputs": [],
   "source": [
    "learning_rate = 1e-3\n",
    "\n",
    "criterion = torch.nn.MSELoss()\n",
    "optimizer = torch.optim.Adam(model.parameters(), lr=learning_rate)"
   ]
  },
  {
   "cell_type": "markdown",
   "metadata": {
    "hidden": true
   },
   "source": [
    "Jetzt beginnt das echte Training."
   ]
  },
  {
   "cell_type": "code",
   "execution_count": null,
   "metadata": {
    "ExecuteTime": {
     "end_time": "2019-07-25T11:45:10.758613Z",
     "start_time": "2019-07-25T11:45:07.090Z"
    },
    "hidden": true
   },
   "outputs": [],
   "source": [
    "num_epochs = 300\n",
    "train_loss = [] #Lists für Plot\n",
    "validation_loss = []\n",
    "PATH = 'models/UNet.pt'\n",
    "\n",
    "# Initialisiere Visdom Loss Monitor\n",
    "vis = visdom.Visdom()\n",
    "\n",
    "#erste Punkte mit ursprünglichen Loss Werten\n",
    "train_loss_ep = 0 \n",
    "for i, data in enumerate(train_loader):\n",
    "    k_nr = data['k_n_r']\n",
    "    ni = data['n_i']\n",
    "    ni_pred = model(k_nr)\n",
    "    train_loss_ep += criterion(ni_pred,ni).item() / len(train_loader)\n",
    "    \n",
    "validation_loss_ep = 0\n",
    "for i, data in enumerate(validation_loader):\n",
    "    k_nr = data['k_n_r']\n",
    "    ni = data['n_i']\n",
    "    ni_pred = model(k_nr)\n",
    "    validation_loss_ep += criterion(ni_pred,ni).item() / len(validation_loader)\n",
    "\n",
    "#initialisiere die beiden Loss Lines in Visdom mit ersten Punkten\n",
    "vis_loss_plt= vis.line(\n",
    "    X=np.column_stack((0, 0)),\n",
    "    Y=np.column_stack((train_loss_ep, validation_loss_ep)),\n",
    "    opts = {\n",
    "    'title': 'Loss Potential-Dataset',\n",
    "    'legend': ['train','validation']}\n",
    ")\n",
    "\n",
    "#für early stopping\n",
    "lowest_loss = (0, validation_loss_ep)\n",
    "early_stopping_counter = 0\n",
    "\n",
    "#fülle Listen für Matplolib Plot zum Schluss mit ersten Punkten\n",
    "train_loss.append(train_loss_ep)\n",
    "validation_loss.append(validation_loss_ep)\n",
    "\n",
    "# Variablen für Zeit - Messung\n",
    "ts = time.time()\n",
    "\n",
    "#######################################################\n",
    "# Ab hier bis zu Hashs geht das eigentliche Training!\n",
    "#######################################################\n",
    "\n",
    "running_loss = 0.0 #loss zum mitschreiben nach den Batches\n",
    "\n",
    "for ep in range(num_epochs): #loop for some episodes\n",
    "    \n",
    "    model = model.train() #pytorch training mode\n",
    "    \n",
    "    for i, data in enumerate(train_loader): #iterate trough minibatches of training set\n",
    "        \n",
    "        k_nr = data['k_n_r']\n",
    "        ni = data['n_i']\n",
    "        \n",
    "        # Forward pass: Compute predicted y by passing x to the model\n",
    "        ni_pred = model(k_nr)\n",
    "\n",
    "        # Compute and print loss\n",
    "        loss = criterion(ni_pred, ni)\n",
    "\n",
    "        # Zero gradients, perform a backward pass, and update the weights\n",
    "        optimizer.zero_grad()\n",
    "        loss.backward()\n",
    "        optimizer.step()\n",
    "        \n",
    "        # print statistics\n",
    "        running_loss += loss.item() * k_nr.size(0)\n",
    "        if i % 10 == 0:    # print every 10 mini-batches\n",
    "            print('[%d, %5d] loss: %.3f runtime: %f' %\n",
    "                  (ep + 1, i + 1, running_loss / 10, time.time() - ts))\n",
    "            running_loss = 0.0\n",
    "            \n",
    "#######################################################\n",
    "# Ab jetzt nur mehr Plots etc\n",
    "#######################################################  \n",
    "\n",
    "    model = model.eval() #pytorch evaluation mode\n",
    "    \n",
    "    # print learning curve with visdom\n",
    "    train_loss_ep = 0 #ermittle loss von gesamten train/val dataset\n",
    "    for i, data in enumerate(train_loader):\n",
    "        k_nr = data['k_n_r']\n",
    "        ni = data['n_i']\n",
    "        ni_pred = model(k_nr)\n",
    "        train_loss_ep += criterion(ni_pred,ni).item() / len(train_loader)\n",
    "    \n",
    "    validation_loss_ep = 0\n",
    "    for i, data in enumerate(validation_loader):\n",
    "        k_nr = data['k_n_r']\n",
    "        ni = data['n_i']\n",
    "        ni_pred = model(k_nr)\n",
    "        validation_loss_ep += criterion(ni_pred,ni).item() / len(validation_loader)\n",
    "    \n",
    "    #füge einen punkt in visdom hinzu\n",
    "    vis.line(\n",
    "        X=np.column_stack((ep+1, ep+1)),\n",
    "        Y=np.column_stack((train_loss_ep,\n",
    "                           validation_loss_ep )),\n",
    "        win=vis_loss_plt,\n",
    "        update='append'\n",
    "    )\n",
    "    \n",
    "    # save losses for final loss plot\n",
    "    train_loss.append(train_loss_ep)\n",
    "    validation_loss.append(validation_loss_ep)\n",
    "    \n",
    "    #ealy stopping algorithm\n",
    "    if validation_loss_ep < lowest_loss[1]:\n",
    "        lowest_loss = (ep+1, validation_loss_ep)\n",
    "        early_stopping_counter = 0\n",
    "        torch.save(model, PATH)\n",
    "    else:\n",
    "        early_stopping_counter += 1\n",
    "        \n",
    "    if early_stopping_counter > 30:\n",
    "        print('stopped after episode ', ep+1)\n",
    "        print('lowest loss: ', lowest_loss[1])\n",
    "        print('weights from episode ', lowest_loss[0])\n",
    "        break"
   ]
  },
  {
   "cell_type": "code",
   "execution_count": null,
   "metadata": {
    "ExecuteTime": {
     "end_time": "2019-07-25T11:45:10.759859Z",
     "start_time": "2019-07-25T11:45:07.094Z"
    },
    "hidden": true
   },
   "outputs": [],
   "source": [
    "# final loss plot\n",
    "pylab.plot(train_loss,label='train')\n",
    "pylab.plot(validation_loss,label='validation')\n",
    "pylab.legend(loc='upper right')\n",
    "pylab.show()"
   ]
  },
  {
   "cell_type": "markdown",
   "metadata": {},
   "source": [
    "### Prüfe Predictions"
   ]
  },
  {
   "cell_type": "markdown",
   "metadata": {},
   "source": [
    "Wir wollen noch für ein Objekt Prediction vs Label plotten."
   ]
  },
  {
   "cell_type": "code",
   "execution_count": 40,
   "metadata": {
    "ExecuteTime": {
     "end_time": "2019-07-25T11:49:59.540941Z",
     "start_time": "2019-07-25T11:49:59.536089Z"
    }
   },
   "outputs": [],
   "source": [
    "#Rücktrafo weil Daten ja normalisiert sind\n",
    "\n",
    "def DeNorm(x,mean,std):\n",
    "    y = x*std + mean\n",
    "    return y"
   ]
  },
  {
   "cell_type": "markdown",
   "metadata": {},
   "source": [
    "Wir wollen alles für das Model mit dem niedrigsten Loss."
   ]
  },
  {
   "cell_type": "code",
   "execution_count": null,
   "metadata": {
    "ExecuteTime": {
     "end_time": "2019-07-25T11:45:10.762941Z",
     "start_time": "2019-07-25T11:45:07.104Z"
    },
    "deletable": false,
    "editable": false,
    "run_control": {
     "frozen": true
    }
   },
   "outputs": [],
   "source": [
    "PATH = 'models/UNet.pt'\n",
    "\n",
    "model = torch.load(PATH)\n",
    "model.eval()"
   ]
  },
  {
   "cell_type": "code",
   "execution_count": 146,
   "metadata": {
    "ExecuteTime": {
     "end_time": "2019-07-25T15:07:02.370416Z",
     "start_time": "2019-07-25T15:07:01.852700Z"
    }
   },
   "outputs": [
    {
     "name": "stdout",
     "output_type": "stream",
     "text": [
      "4.999999916537538\n"
     ]
    },
    {
     "data": {
      "image/png": "[encoded data removed]",
      "text/plain": [
       "<Figure size 432x288 with 1 Axes>"
      ]
     },
     "metadata": {
      "needs_background": "light"
     },
     "output_type": "display_data"
    }
   ],
   "source": [
    "dataiter = iter(validation_loader)\n",
    "item = dataiter.next()\n",
    "\n",
    "k_nr = item['k_n_r'][0][0]\n",
    "k = DeNorm(k_nr[0].cpu().numpy(), nr_mean, nr_std)\n",
    "\n",
    "nr = k_nr[1:].cpu().numpy()\n",
    "nr = DeNorm(nr, nr_mean, nr_std)\n",
    "ni = item['n_i'][0].cpu().numpy()\n",
    "ni = DeNorm(ni, ni_mean, ni_std)[0]\n",
    "\n",
    "ni_pred = model(item['k_n_r']).detach().cpu().numpy()[0,0]\n",
    "ni_pred = DeNorm(ni_pred, ni_mean, ni_std)\n",
    "\n",
    "print(k) #höherer k Value führt zu kleinerem Peak von ni\n",
    "\n",
    "pylab.plot(x,nr,label='n_r')\n",
    "pylab.plot(x,ni_pred,label='n_i prediction')\n",
    "pylab.plot(x,ni,label='n_i label')\n",
    "pylab.legend(loc='upper left')\n",
    "pylab.savefig('UNet Prediction.pdf')"
   ]
  },
  {
   "cell_type": "markdown",
   "metadata": {},
   "source": [
    "Plotte jetzt noch die Wellen vom besten Model."
   ]
  },
  {
   "cell_type": "code",
   "execution_count": 147,
   "metadata": {
    "ExecuteTime": {
     "end_time": "2019-07-25T15:07:09.885165Z",
     "start_time": "2019-07-25T15:07:09.454010Z"
    }
   },
   "outputs": [
    {
     "data": {
      "image/png": "[encoded data removed]",
      "text/plain": [
       "<Figure size 432x288 with 1 Axes>"
      ]
     },
     "metadata": {
      "needs_background": "light"
     },
     "output_type": "display_data"
    }
   ],
   "source": [
    "n = nr + 1j*ni\n",
    "\n",
    "Int = plot_psi(x, dx, n, 1, k) # Amplitude = 1"
   ]
  },
  {
   "cell_type": "code",
   "execution_count": 148,
   "metadata": {
    "ExecuteTime": {
     "end_time": "2019-07-25T15:07:13.492089Z",
     "start_time": "2019-07-25T15:07:13.040105Z"
    }
   },
   "outputs": [
    {
     "data": {
      "image/png": "[encoded data removed]",
      "text/plain": [
       "<Figure size 432x288 with 1 Axes>"
      ]
     },
     "metadata": {
      "needs_background": "light"
     },
     "output_type": "display_data"
    }
   ],
   "source": [
    "n_pred = nr + 1j*ni_pred\n",
    "\n",
    "Int_pred = plot_psi(x, dx, n_pred, 1, k)\n",
    "pylab.savefig('UNet CI.pdf')"
   ]
  },
  {
   "cell_type": "markdown",
   "metadata": {},
   "source": [
    "Die Differenzen sehen so aus:"
   ]
  },
  {
   "cell_type": "code",
   "execution_count": 149,
   "metadata": {
    "ExecuteTime": {
     "end_time": "2019-07-25T15:07:18.400068Z",
     "start_time": "2019-07-25T15:07:18.394217Z"
    }
   },
   "outputs": [],
   "source": [
    "def deriv(y):\n",
    "    dy = np.diff(y)/dx\n",
    "    return np.concatenate((np.zeros(1), dy), axis=None)"
   ]
  },
  {
   "cell_type": "code",
   "execution_count": 151,
   "metadata": {
    "ExecuteTime": {
     "end_time": "2019-07-25T15:07:19.737760Z",
     "start_time": "2019-07-25T15:07:19.534941Z"
    }
   },
   "outputs": [
    {
     "data": {
      "text/plain": [
       "<matplotlib.legend.Legend at 0x7fde2599df98>"
      ]
     },
     "execution_count": 151,
     "metadata": {},
     "output_type": "execute_result"
    },
    {
     "data": {
      "image/png": "[encoded data removed]",
      "text/plain": [
       "<Figure size 432x288 with 1 Axes>"
      ]
     },
     "metadata": {
      "needs_background": "light"
     },
     "output_type": "display_data"
    }
   ],
   "source": [
    "pylab.plot(ni_pred-ni, label = 'ni diff')\n",
    "pylab.plot(Int_pred - Int, label = 'Int diff')\n",
    "pylab.legend(loc='upper right')"
   ]
  },
  {
   "cell_type": "code",
   "execution_count": 152,
   "metadata": {
    "ExecuteTime": {
     "end_time": "2019-07-25T15:07:22.504845Z",
     "start_time": "2019-07-25T15:07:22.287606Z"
    }
   },
   "outputs": [
    {
     "data": {
      "text/plain": [
       "<matplotlib.legend.Legend at 0x7fde2591dc18>"
      ]
     },
     "execution_count": 152,
     "metadata": {},
     "output_type": "execute_result"
    },
    {
     "data": {
      "image/png": "[encoded data removed]",
      "text/plain": [
       "<Figure size 432x288 with 1 Axes>"
      ]
     },
     "metadata": {
      "needs_background": "light"
     },
     "output_type": "display_data"
    }
   ],
   "source": [
    "pylab.plot(Int -1, label = 'Int')\n",
    "pylab.plot(Int_pred -1, label = 'Int pred')\n",
    "pylab.plot(0.010*np.ones(len(ni)), label = 'upper cut')\n",
    "pylab.plot(-0.010*np.ones(len(ni)), label = 'lower cut')\n",
    "pylab.legend(loc='upper right')"
   ]
  },
  {
   "cell_type": "code",
   "execution_count": 153,
   "metadata": {
    "ExecuteTime": {
     "end_time": "2019-07-25T15:07:24.117303Z",
     "start_time": "2019-07-25T15:07:23.922101Z"
    }
   },
   "outputs": [
    {
     "data": {
      "text/plain": [
       "<matplotlib.legend.Legend at 0x7fde258c4828>"
      ]
     },
     "execution_count": 153,
     "metadata": {},
     "output_type": "execute_result"
    },
    {
     "data": {
      "image/png": "[encoded data removed]",
      "text/plain": [
       "<Figure size 432x288 with 1 Axes>"
      ]
     },
     "metadata": {
      "needs_background": "light"
     },
     "output_type": "display_data"
    }
   ],
   "source": [
    "pylab.plot(deriv(Int_pred -1), label = 'Int pred deriv')\n",
    "pylab.plot(deriv(Int -1), label = 'Int deriv')\n",
    "pylab.legend(loc='upper right')"
   ]
  },
  {
   "cell_type": "markdown",
   "metadata": {},
   "source": [
    "Schwingung rausmitteln."
   ]
  },
  {
   "cell_type": "code",
   "execution_count": 154,
   "metadata": {
    "ExecuteTime": {
     "end_time": "2019-07-25T15:07:28.709161Z",
     "start_time": "2019-07-25T15:07:28.702283Z"
    }
   },
   "outputs": [],
   "source": [
    "def moving_average(a, n=int(np.pi/k/dx)) :\n",
    "    ret = np.cumsum(a, dtype=float)\n",
    "    ret[n:] = ret[n:] - ret[:-n]\n",
    "    return ret[n - 1:] / n"
   ]
  },
  {
   "cell_type": "code",
   "execution_count": 155,
   "metadata": {
    "ExecuteTime": {
     "end_time": "2019-07-25T15:07:29.873824Z",
     "start_time": "2019-07-25T15:07:29.649845Z"
    }
   },
   "outputs": [
    {
     "data": {
      "text/plain": [
       "<matplotlib.legend.Legend at 0x7fde25817b38>"
      ]
     },
     "execution_count": 155,
     "metadata": {},
     "output_type": "execute_result"
    },
    {
     "data": {
      "image/png": "[encoded data removed]",
      "text/plain": [
       "<Figure size 432x288 with 1 Axes>"
      ]
     },
     "metadata": {
      "needs_background": "light"
     },
     "output_type": "display_data"
    }
   ],
   "source": [
    "pylab.plot(moving_average(Int_pred -1), label = 'MovAvg Int pred')\n",
    "pylab.plot(moving_average(Int -1), label = 'MovAvg Int')\n",
    "pylab.plot(moving_average(deriv(Int_pred -1)), label = 'MovAvg Int Der')\n",
    "pylab.plot(0.010*np.ones(len(ni)), label = 'upper cut')\n",
    "pylab.plot(-0.010*np.ones(len(ni)), label = 'lower cut')\n",
    "pylab.legend(loc='lower left')"
   ]
  },
  {
   "cell_type": "markdown",
   "metadata": {},
   "source": [
    "### Kann Model Unterschied sehen?"
   ]
  },
  {
   "cell_type": "code",
   "execution_count": 171,
   "metadata": {
    "ExecuteTime": {
     "end_time": "2019-07-25T15:36:51.915527Z",
     "start_time": "2019-07-25T15:36:51.906596Z"
    }
   },
   "outputs": [],
   "source": [
    "def get_Int(x, dx, item, idx, Amp=1):\n",
    "\n",
    "    k_nr = item['k_n_r'][idx][0]\n",
    "    k = DeNorm(k_nr[idx].cpu().numpy(), nr_mean, nr_std)\n",
    "    \n",
    "    nr = k_nr[1:].cpu().numpy()\n",
    "    nr = DeNorm(nr, nr_mean, nr_std)\n",
    "    ni = item['n_i'][idx].cpu().numpy()\n",
    "    ni = DeNorm(ni, ni_mean, ni_std)[0]\n",
    "    \n",
    "    n = nr + 1j*ni\n",
    "    \n",
    "    Int = plot_psi(x, dx, n, 1, k)\n",
    "    \n",
    "    return Int"
   ]
  },
  {
   "cell_type": "code",
   "execution_count": null,
   "metadata": {
    "ExecuteTime": {
     "start_time": "2019-07-25T15:36:53.646Z"
    },
    "scrolled": true
   },
   "outputs": [
    {
     "name": "stdout",
     "output_type": "stream",
     "text": [
      "Saved Train Batch  0\n",
      "Saved Train Batch  1\n",
      "Saved Train Batch  2\n",
      "Saved Train Batch  3\n",
      "Saved Train Batch  4\n",
      "Saved Train Batch  5\n",
      "Saved Train Batch  6\n",
      "Saved Train Batch  7\n",
      "Saved Train Batch  8\n",
      "Saved Train Batch  9\n",
      "Saved Train Batch  10\n",
      "Saved Train Batch  11\n",
      "Saved Train Batch  12\n",
      "Saved Train Batch  13\n",
      "Saved Train Batch  14\n",
      "Saved Train Batch  15\n",
      "Saved Train Batch  16\n",
      "Saved Train Batch  17\n",
      "Saved Train Batch  18\n",
      "Saved Train Batch  19\n",
      "Saved Train Batch  20\n",
      "Saved Train Batch  21\n",
      "Saved Train Batch  22\n",
      "Saved Train Batch  23\n",
      "Saved Train Batch  24\n",
      "Saved Train Batch  25\n",
      "Saved Train Batch  26\n",
      "Saved Train Batch  27\n",
      "Saved Train Batch  28\n",
      "Saved Train Batch  29\n",
      "Saved Train Batch  30\n",
      "Saved Train Batch  31\n",
      "Saved Train Batch  32\n",
      "Saved Train Batch  33\n",
      "Saved Train Batch  34\n",
      "Saved Train Batch  35\n",
      "Saved Train Batch  36\n",
      "Saved Train Batch  37\n",
      "Saved Train Batch  38\n",
      "Saved Train Batch  39\n",
      "Saved Train Batch  40\n",
      "Saved Train Batch  41\n",
      "Saved Train Batch  42\n",
      "Saved Train Batch  43\n",
      "Saved Train Batch  44\n",
      "Saved Train Batch  45\n",
      "Saved Train Batch  46\n",
      "Saved Train Batch  47\n",
      "Saved Train Batch  48\n",
      "Saved Train Batch  49\n",
      "Saved Train Batch  50\n",
      "Saved Train Batch  51\n",
      "Saved Train Batch  52\n",
      "Saved Train Batch  53\n",
      "Saved Train Batch  54\n",
      "Saved Train Batch  55\n",
      "Saved Train Batch  56\n",
      "Saved Train Batch  57\n",
      "Saved Train Batch  58\n",
      "Saved Train Batch  59\n",
      "Saved Train Batch  60\n",
      "Saved Train Batch  61\n",
      "Saved Train Batch  62\n",
      "Saved Train Batch  63\n",
      "Saved Train Batch  64\n",
      "Saved Train Batch  65\n",
      "Saved Train Batch  66\n",
      "Saved Train Batch  67\n",
      "Saved Train Batch  68\n",
      "Saved Train Batch  69\n",
      "Saved Train Batch  70\n",
      "Saved Train Batch  71\n",
      "Saved Train Batch  72\n",
      "Saved Train Batch  73\n",
      "Saved Train Batch  74\n",
      "Saved Train Batch  75\n",
      "Saved Train Batch  76\n",
      "Saved Train Batch  77\n",
      "Saved Train Batch  78\n",
      "Saved Train Batch  79\n",
      "Saved Train Batch  80\n",
      "Saved Train Batch  81\n",
      "Saved Train Batch  82\n",
      "Saved Train Batch  83\n",
      "Saved Train Batch  84\n",
      "Saved Train Batch  85\n",
      "Saved Train Batch  86\n",
      "Saved Train Batch  87\n",
      "Saved Train Batch  88\n",
      "Saved Train Batch  89\n",
      "Saved Train Batch  90\n",
      "Saved Train Batch  91\n",
      "Saved Train Batch  92\n",
      "Saved Train Batch  93\n",
      "Saved Train Batch  94\n",
      "Saved Train Batch  95\n",
      "Saved Train Batch  96\n",
      "Saved Train Batch  97\n",
      "Saved Train Batch  98\n",
      "Saved Train Batch  99\n",
      "Saved Train Batch  100\n",
      "Saved Train Batch  101\n",
      "Saved Train Batch  102\n",
      "Saved Train Batch  103\n",
      "Saved Train Batch  104\n",
      "Saved Train Batch  105\n",
      "Saved Train Batch  106\n",
      "Saved Train Batch  107\n",
      "Saved Train Batch  108\n",
      "Saved Train Batch  109\n",
      "Saved Train Batch  110\n",
      "Saved Train Batch  111\n",
      "Saved Train Batch  112\n",
      "Saved Train Batch  113\n",
      "Saved Train Batch  114\n",
      "Saved Train Batch  115\n",
      "Saved Train Batch  116\n",
      "Saved Train Batch  117\n",
      "Saved Train Batch  118\n",
      "Saved Train Batch  119\n",
      "Saved Train Batch  120\n",
      "Saved Train Batch  121\n",
      "Saved Train Batch  122\n",
      "Saved Train Batch  123\n",
      "Saved Train Batch  124\n",
      "Saved Train Batch  125\n",
      "Saved Train Batch  126\n",
      "Saved Train Batch  127\n",
      "Saved Train Batch  128\n",
      "Saved Train Batch  129\n",
      "Saved Train Batch  130\n",
      "Saved Train Batch  131\n",
      "Saved Train Batch  132\n",
      "Saved Train Batch  133\n",
      "Saved Train Batch  134\n",
      "Saved Train Batch  135\n",
      "Saved Train Batch  136\n",
      "Saved Train Batch  137\n",
      "Saved Train Batch  138\n",
      "Saved Train Batch  139\n",
      "Saved Train Batch  140\n",
      "Saved Train Batch  141\n",
      "Saved Train Batch  142\n",
      "Saved Train Batch  143\n",
      "Saved Train Batch  144\n",
      "Saved Train Batch  145\n",
      "Saved Train Batch  146\n",
      "Saved Train Batch  147\n",
      "Saved Train Batch  148\n",
      "Saved Train Batch  149\n",
      "Saved Train Batch  150\n",
      "Saved Train Batch  151\n",
      "Saved Train Batch  152\n",
      "Saved Train Batch  153\n",
      "Saved Train Batch  154\n",
      "Saved Train Batch  155\n",
      "Saved Train Batch  156\n",
      "Saved Train Batch  157\n",
      "Saved Train Batch  158\n",
      "Saved Train Batch  159\n",
      "Saved Train Batch  160\n",
      "Saved Train Batch  161\n",
      "Saved Train Batch  162\n",
      "Saved Train Batch  163\n",
      "Saved Train Batch  164\n",
      "Saved Train Batch  165\n",
      "Saved Train Batch  166\n",
      "Saved Train Batch  167\n",
      "Saved Train Batch  168\n",
      "Saved Train Batch  169\n",
      "Saved Train Batch  170\n",
      "Saved Train Batch  171\n",
      "Saved Train Batch  172\n",
      "Saved Train Batch  173\n",
      "Saved Train Batch  174\n",
      "Saved Train Batch  175\n",
      "Saved Train Batch  176\n",
      "Saved Train Batch  177\n",
      "Saved Train Batch  178\n",
      "Saved Train Batch  179\n",
      "Saved Train Batch  180\n",
      "Saved Train Batch  181\n",
      "Saved Train Batch  182\n",
      "Saved Train Batch  183\n",
      "Saved Train Batch  184\n",
      "Saved Train Batch  185\n",
      "Saved Train Batch  186\n",
      "Saved Train Batch  187\n",
      "Saved Train Batch  188\n",
      "Saved Train Batch  189\n",
      "Saved Train Batch  190\n",
      "Saved Train Batch  191\n",
      "Saved Train Batch  192\n",
      "Saved Train Batch  193\n",
      "Saved Train Batch  194\n",
      "Saved Train Batch  195\n",
      "Saved Train Batch  196\n",
      "Saved Train Batch  197\n",
      "Saved Train Batch  198\n",
      "Saved Train Batch  199\n",
      "Saved Train Batch  200\n"
     ]
    }
   ],
   "source": [
    "# erstelle Datenset für Corrector\n",
    "\n",
    "data2_path = 'data2/'\n",
    "\n",
    "for i, data in enumerate(train_loader):\n",
    "    k_nr = data['k_n_r']\n",
    "    ni = data['n_i']\n",
    "    ni_pred = model(k_nr)\n",
    "    for j in range(batch_size):\n",
    "        torch.save(k_nr[j], data2_path + 'knr_train_' + str(i) + '_' + str(j) + '.pt')\n",
    "        torch.save(ni[j], data2_path + 'ni_train_' + str(i) + '_' + str(j) + '.pt')\n",
    "        torch.save(ni_pred[j], data2_path + 'ni_pred_train_' + str(i) + '_' + str(j) + '.pt')  \n",
    "        torch.save(torch.from_numpy(get_Int(x, dx, data, j)), \n",
    "                   data2_path + 'I_pred_train_' + str(i) + '_' + str(j) + '.pt')\n",
    "    print('Saved Train Batch ', i)\n",
    "        \n",
    "for i, data in enumerate(validation_loader):\n",
    "    k_nr = data['k_n_r']\n",
    "    ni = data['n_i']\n",
    "    ni_pred = model(k_nr)\n",
    "    for j in range(batch_size):\n",
    "        torch.save(k_nr[j], data2_path + 'knr_validation_' + str(i) + '_' + str(j) + '.pt')\n",
    "        torch.save(ni[j], data2_path + 'ni_validation_' + str(i) + '_' + str(j) + '.pt')\n",
    "        torch.save(torch.from_numpy(get_Int(x, dx, data, j)), \n",
    "                   data2_path + 'I_pred_validation_' + str(i) + '_' + str(j) + '.pt')  \n",
    "    print('Saved Validation Batch ', i)"
   ]
  },
  {
   "cell_type": "code",
   "execution_count": null,
   "metadata": {},
   "outputs": [],
   "source": []
  },
  {
   "cell_type": "markdown",
   "metadata": {},
   "source": [
    "### Save Model"
   ]
  },
  {
   "cell_type": "code",
   "execution_count": null,
   "metadata": {
    "ExecuteTime": {
     "end_time": "2019-07-13T04:51:03.165828Z",
     "start_time": "2019-07-13T04:51:02.690536Z"
    }
   },
   "outputs": [],
   "source": [
    "PATH = 'models/UNet.pt'\n",
    "\n",
    "torch.save(model, PATH)"
   ]
  },
  {
   "cell_type": "code",
   "execution_count": null,
   "metadata": {},
   "outputs": [],
   "source": []
  },
  {
   "cell_type": "markdown",
   "metadata": {
    "heading_collapsed": true
   },
   "source": [
    "### Nützliches eventuell für Später\n"
   ]
  },
  {
   "cell_type": "markdown",
   "metadata": {
    "hidden": true
   },
   "source": [
    "Außerdem wollen wir den MSE brechnen, wie sehr n_i und die prediction punktweise abweichen und die Prediction dann als \"richtig\" oder \"falsch\" detulieren. "
   ]
  },
  {
   "cell_type": "code",
   "execution_count": null,
   "metadata": {
    "ExecuteTime": {
     "end_time": "2019-06-14T12:40:35.098237Z",
     "start_time": "2019-06-14T12:40:35.090868Z"
    },
    "hidden": true
   },
   "outputs": [],
   "source": [
    "def MSE_Difference(ni,ni_pred):\n",
    "    if len(ni) != len (ni_pred):\n",
    "        print('label and prediction must have same size!')\n",
    "    else:\n",
    "        err = 0\n",
    "        for (i,j) in zip(ni, ni_pred):\n",
    "            err += (i-j)**2\n",
    "        err = err/len(ni)\n",
    "        return err"
   ]
  },
  {
   "cell_type": "code",
   "execution_count": null,
   "metadata": {
    "ExecuteTime": {
     "end_time": "2019-06-14T12:40:56.308962Z",
     "start_time": "2019-06-14T12:40:56.254767Z"
    },
    "hidden": true
   },
   "outputs": [],
   "source": [
    "MSE_Difference(ni, ni_pred)"
   ]
  },
  {
   "cell_type": "markdown",
   "metadata": {
    "hidden": true
   },
   "source": [
    "Und hier soll noch der MSE der resultierenden Welle berechnet werden und die Welle geplottet. Der MSE sollte jedenfalls kleiner 1 sein, wenn die prediction korrekt ist."
   ]
  },
  {
   "cell_type": "code",
   "execution_count": null,
   "metadata": {
    "ExecuteTime": {
     "end_time": "2019-06-08T13:31:08.889484Z",
     "start_time": "2019-06-08T13:31:08.667107Z"
    },
    "deletable": false,
    "editable": false,
    "hidden": true,
    "run_control": {
     "frozen": true
    }
   },
   "outputs": [],
   "source": [
    "# hier ein Test, wie hoch der MSE ist für leicht verrauschte Daten\n",
    "# mt einem MSE von 0.02 muss man scheinbar immer rechnen\n",
    "\n",
    "\n",
    "ni_noise = np.copy(ni.detach().numpy())\n",
    "noise_range = 0.5\n",
    "for i in range(len(ni_noise)):\n",
    "    ni_noise[i] +=  np.random.uniform()*noise_range - noise_range/2\n",
    "\n",
    "pylab.plot(x,ni_noise,label='n_i prediction')\n",
    "pylab.plot(x,ni.numpy(),label='n_i label')\n",
    "pylab.legend(loc='upper left')\n",
    "pylab.show()\n",
    "MSE_Difference(ni.detach().numpy(), ni_noise)"
   ]
  },
  {
   "cell_type": "code",
   "execution_count": null,
   "metadata": {
    "hidden": true
   },
   "outputs": [],
   "source": [
    "#Fourier transformiere n\n",
    "\n",
    "def FFT_n(n,x):\n",
    "    nrf = 2.0/len(x) * np.abs(fft(n.real)[0:len(x)//2])\n",
    "    nif = 2.0/len(x) * np.abs(fft(n.imag)[0:len(x)//2])\n",
    "    xf = np.linspace(0.0, 1.0/(2.0*dx), len(x)//2)\n",
    "    return nrf, nif, xf"
   ]
  },
  {
   "cell_type": "code",
   "execution_count": null,
   "metadata": {
    "hidden": true
   },
   "outputs": [],
   "source": [
    "#spectrogram plot von n\n",
    "\n",
    "fs = 10/len(x)\n",
    "\n",
    "f, t, Sxx = signal.spectrogram(n.real, fs)\n",
    "plt.pcolormesh(t, f, Sxx)\n",
    "plt.ylabel('Frequency [Hz]')\n",
    "plt.xlabel('Time [sec]')\n",
    "plt.show()"
   ]
  }
 ],
 "metadata": {
  "kernelspec": {
   "display_name": "Python 3",
   "language": "python",
   "name": "python3"
  },
  "language_info": {
   "codemirror_mode": {
    "name": "ipython",
    "version": 3
   },
   "file_extension": ".py",
   "mimetype": "text/x-python",
   "name": "python",
   "nbconvert_exporter": "python",
   "pygments_lexer": "ipython3",
   "version": "3.6.7"
  },
  "notify_time": "5",
  "toc": {
   "base_numbering": 1,
   "nav_menu": {
    "height": "241px",
    "width": "373px"
   },
   "number_sections": true,
   "sideBar": false,
   "skip_h1_title": false,
   "title_cell": "Table of Contents",
   "title_sidebar": "Contents",
   "toc_cell": false,
   "toc_position": {
    "height": "371px",
    "left": "25px",
    "top": "111.133px",
    "width": "203px"
   },
   "toc_section_display": false,
   "toc_window_display": false
  },
  "varInspector": {
   "cols": {
    "lenName": 16,
    "lenType": 16,
    "lenVar": 40
   },
   "kernels_config": {
    "python": {
     "delete_cmd_postfix": "",
     "delete_cmd_prefix": "del ",
     "library": "var_list.py",
     "varRefreshCmd": "print(var_dic_list())"
    },
    "r": {
     "delete_cmd_postfix": ") ",
     "delete_cmd_prefix": "rm(",
     "library": "var_list.r",
     "varRefreshCmd": "cat(var_dic_list()) "
    }
   },
   "position": {
    "height": "804.85px",
    "left": "1558px",
    "right": "20px",
    "top": "120px",
    "width": "275px"
   },
   "types_to_exclude": [
    "module",
    "function",
    "builtin_function_or_method",
    "instance",
    "_Feature"
   ],
   "window_display": true
  }
 },
 "nbformat": 4,
 "nbformat_minor": 2
}
