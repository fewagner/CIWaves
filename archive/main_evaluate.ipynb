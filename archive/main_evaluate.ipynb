{
 "cells": [
  {
   "cell_type": "markdown",
   "metadata": {},
   "source": [
    "### Imports"
   ]
  },
  {
   "cell_type": "code",
   "execution_count": 1,
   "metadata": {
    "ExecuteTime": {
     "end_time": "2019-09-14T17:13:26.031433Z",
     "start_time": "2019-09-14T17:13:26.015411Z"
    }
   },
   "outputs": [
    {
     "data": {
      "text/html": [
       "<style>.container { width:80% !important; }</style>"
      ],
      "text/plain": [
       "<IPython.core.display.HTML object>"
      ]
     },
     "metadata": {},
     "output_type": "display_data"
    }
   ],
   "source": [
    "from IPython.core.display import display, HTML\n",
    "display(HTML(\"<style>.container { width:80% !important; }</style>\"))"
   ]
  },
  {
   "cell_type": "code",
   "execution_count": 2,
   "metadata": {
    "ExecuteTime": {
     "end_time": "2019-09-14T17:13:26.839579Z",
     "start_time": "2019-09-14T17:13:26.035009Z"
    }
   },
   "outputs": [],
   "source": [
    "#official libraries\n",
    "import numpy as np\n",
    "import matplotlib.pyplot as plt\n",
    "import pylab\n",
    "import cmath\n",
    "import random\n",
    "from scipy import integrate\n",
    "from scipy.fftpack import fft\n",
    "import torch\n",
    "from torch.utils.data import Dataset, DataLoader\n",
    "from torchvision import transforms\n",
    "from scipy import signal\n",
    "import pandas as pd\n",
    "import time\n",
    "import torch.nn as nn\n",
    "import torch.nn.functional as F\n",
    "import visdom\n",
    "from os.path import expanduser"
   ]
  },
  {
   "cell_type": "code",
   "execution_count": 3,
   "metadata": {
    "ExecuteTime": {
     "end_time": "2019-09-14T17:13:26.851912Z",
     "start_time": "2019-09-14T17:13:26.841581Z"
    },
    "scrolled": true
   },
   "outputs": [],
   "source": [
    "#own files\n",
    "from lib.utils_general import diff_same_length, get_data_paths\n",
    "from lib.utils_generate_W import get_grid, gauss_dist, generate_W\n",
    "from lib.utils_generate_n import n_compl, plot_n\n",
    "from lib.utils_calc_psi import plot_psi\n",
    "from lib.utils_generate_data import generate_init_data, \\\n",
    "                                    generate_init_data_diverse, \\\n",
    "                                    plot_sample, generate_corr_data\n",
    "from lib.utils_initial_dataset import InitialDataset, ToTensor, OneChannel, \\\n",
    "                                      Normalize, calc_mean_std\n",
    "from lib.utils_train import get_dataloaders, train_net, calc_psi_Int\n",
    "from lib.nets import FNN, UNet, ResSNN\n",
    "from lib.utils_evaluation import DeNorm, plot_prediction, plot_correction\n",
    "from lib.utils_corrector_dataset import CorrectorDataset, NormalizeCorr, \\\n",
    "                                        calc_mean_std_corr, ToDevice\n",
    "from lib.utils_train_corrector import train_corrector\n",
    "from lib.UNet_featurek import UNet_featurek\n",
    "from lib.LSTM import LSTM\n",
    "from lib.plot_intensity_bars import plot_intensity_bars\n",
    "from lib.LSTMFFout import LSTMFFout\n",
    "from lib.utils_stack_model_psisolver import train_lstm, \\\n",
    "            train_psisolver, get_psi, stack_init_visdom, \\\n",
    "            stack_visdom_point, PsiSolver\n",
    "from lib.utils_stack_model_corrector import corrector_init_visdom, \\\n",
    "        corrector_train, corrector_visdom_point"
   ]
  },
  {
   "cell_type": "code",
   "execution_count": 4,
   "metadata": {
    "ExecuteTime": {
     "end_time": "2019-09-14T17:13:26.883000Z",
     "start_time": "2019-09-14T17:13:26.854844Z"
    }
   },
   "outputs": [
    {
     "data": {
      "text/plain": [
       "True"
      ]
     },
     "execution_count": 4,
     "metadata": {},
     "output_type": "execute_result"
    }
   ],
   "source": [
    "torch.cuda.is_available()"
   ]
  },
  {
   "cell_type": "markdown",
   "metadata": {},
   "source": [
    "### Parameter, paths, etc"
   ]
  },
  {
   "cell_type": "code",
   "execution_count": 16,
   "metadata": {
    "ExecuteTime": {
     "end_time": "2019-09-14T17:14:48.447952Z",
     "start_time": "2019-09-14T17:14:48.438633Z"
    }
   },
   "outputs": [],
   "source": [
    "# ---------------------------------\n",
    "# choose which mode the prg is in:\n",
    "# ---------------------------------\n",
    "do_create_test_data = False\n",
    "which_model = 'stack_model_corrector'  #FNN / UNet / UNet_old / UNet_featurek /\n",
    "#LSTM / LSTMFFout / CIWLSTM / stack_model_psisolv / ResSNN / stack_model_corrector\n",
    "#which_model_corr = 'UNet'\n",
    "toy_data = False\n",
    "# ---------------------------------\n",
    "\n",
    "# ---------------------------------\n",
    "# paths:\n",
    "# ---------------------------------\n",
    "home = expanduser(\"~\")\n",
    "\n",
    "#device\n",
    "device = torch.device(\"cuda\" if torch.cuda.is_available() else \"cpu\")\n",
    "\n",
    "# models\n",
    "path_model = 'models/' + which_model + '.pt'\n",
    "path_psisolver = 'models/' + which_model + '_psisolver.pt'\n",
    "path_corrector = 'models/' + which_model + '_corrector.pt'\n",
    "\n",
    "# data\n",
    "path_initial_data, path_corrector_data = get_data_paths(toy_data, \n",
    "                                                        device, \n",
    "                                                        home)\n",
    "\n",
    "path_initial_data_diverse = home + '/ml_data/data_initial_diverse/'\n",
    "path_test_data = home + '/ml_data/data_test/'\n",
    "\n",
    "# plots\n",
    "path_plots = 'plots/'\n",
    "# ---------------------------------\n",
    "\n",
    "# ---------------------------------\n",
    "# hyperparameters:\n",
    "# ---------------------------------\n",
    "validation_split = 0.2\n",
    "# ---------------------------------\n",
    "\n",
    "# ---------------------------------\n",
    "# data parameters:\n",
    "# ---------------------------------\n",
    "half_width = 5\n",
    "nmbr_points = 10000\n",
    "#if toy_data:\n",
    "#    size_dataset = 8  #if run on GPU machine, set to 5000 (toydata 8)\n",
    "#else:\n",
    "size_dataset = 3000\n",
    "\n",
    "grid, stepsize = get_grid(half_width, nmbr_points)\n",
    "# ---------------------------------"
   ]
  },
  {
   "cell_type": "markdown",
   "metadata": {
    "ExecuteTime": {
     "end_time": "2019-07-26T10:49:24.442626Z",
     "start_time": "2019-07-26T10:49:24.439035Z"
    }
   },
   "source": [
    "### Create Initial Dataset and -loader"
   ]
  },
  {
   "cell_type": "code",
   "execution_count": 17,
   "metadata": {
    "ExecuteTime": {
     "end_time": "2019-09-14T17:14:49.761712Z",
     "start_time": "2019-09-14T17:14:49.756808Z"
    }
   },
   "outputs": [],
   "source": [
    "if do_create_test_data:\n",
    "    generate_init_data_diverse(1000, path=path_test_data, x=grid, dx=stepsize)"
   ]
  },
  {
   "cell_type": "code",
   "execution_count": 18,
   "metadata": {
    "ExecuteTime": {
     "end_time": "2019-09-14T17:14:52.052411Z",
     "start_time": "2019-09-14T17:14:50.252250Z"
    }
   },
   "outputs": [],
   "source": [
    "nr_mean_test, nr_std_test, ni_mean_test, ni_std_test = calc_mean_std(\n",
    "    3000, path_test_data)"
   ]
  },
  {
   "cell_type": "code",
   "execution_count": 19,
   "metadata": {
    "ExecuteTime": {
     "end_time": "2019-09-14T17:14:52.071788Z",
     "start_time": "2019-09-14T17:14:52.069251Z"
    }
   },
   "outputs": [],
   "source": [
    "transform_test = transforms.Compose([\n",
    "    Normalize((nr_mean_test, ni_mean_test), (nr_std_test, ni_std_test)),\n",
    "    ToTensor() #device\n",
    "])"
   ]
  },
  {
   "cell_type": "code",
   "execution_count": 20,
   "metadata": {
    "ExecuteTime": {
     "end_time": "2019-09-14T17:14:52.090082Z",
     "start_time": "2019-09-14T17:14:52.085402Z"
    }
   },
   "outputs": [],
   "source": [
    "initial_dataset_test = InitialDataset(csv_file=path_test_data + 'k_values.csv',\n",
    "                                      root_dir=path_test_data,\n",
    "                                      transform=transform_test)"
   ]
  },
  {
   "cell_type": "code",
   "execution_count": 21,
   "metadata": {
    "ExecuteTime": {
     "end_time": "2019-09-14T17:14:54.719278Z",
     "start_time": "2019-09-14T17:14:54.713607Z"
    }
   },
   "outputs": [
    {
     "data": {
      "text/plain": [
       "3000"
      ]
     },
     "execution_count": 21,
     "metadata": {},
     "output_type": "execute_result"
    }
   ],
   "source": [
    "len(initial_dataset_test)"
   ]
  },
  {
   "cell_type": "code",
   "execution_count": 22,
   "metadata": {
    "ExecuteTime": {
     "end_time": "2019-09-14T17:14:55.627667Z",
     "start_time": "2019-09-14T17:14:55.445563Z"
    }
   },
   "outputs": [
    {
     "name": "stdout",
     "output_type": "stream",
     "text": [
      "tensor([-1.0156, -1.0156, -1.0156,  ..., -1.0156, -1.0156, -1.0156])\n",
      "torch.Size([10001])\n",
      "k:  1.000000015368065\n"
     ]
    },
    {
     "data": {
      "text/plain": [
       "[<matplotlib.lines.Line2D at 0x7f0e02e1afd0>]"
      ]
     },
     "execution_count": 22,
     "metadata": {},
     "output_type": "execute_result"
    },
    {
     "data": {
      "image/png": "[encoded data removed]",
      "text/plain": [
       "<Figure size 432x288 with 1 Axes>"
      ]
     },
     "metadata": {
      "needs_background": "light"
     },
     "output_type": "display_data"
    }
   ],
   "source": [
    "#show that it worked\n",
    "idx = np.random.randint(len(initial_dataset_test))\n",
    "\n",
    "print(initial_dataset_test[idx]['k_n_r'])\n",
    "print(initial_dataset_test[idx]['k_n_r'].size())\n",
    "#print(initial_dataset[idx]['k_n_r'].is_cuda)\n",
    "\n",
    "print('k: ',\n",
    "      DeNorm(initial_dataset_test[idx]['k_n_r'].cpu().numpy()[0], nr_mean_test, nr_std_test))\n",
    "\n",
    "plt.plot(grid, initial_dataset_test[idx]['k_n_r'].cpu().numpy()[1:])\n",
    "plt.plot(grid, initial_dataset_test[idx]['n_i'].cpu().numpy())"
   ]
  },
  {
   "cell_type": "code",
   "execution_count": 23,
   "metadata": {
    "ExecuteTime": {
     "end_time": "2019-09-14T17:14:58.706073Z",
     "start_time": "2019-09-14T17:14:58.700552Z"
    }
   },
   "outputs": [],
   "source": [
    "test_loader, _ = get_dataloaders(initial_dataset_test,\n",
    "                                 batch_size=6,\n",
    "                                 validation_split=0,\n",
    "                                 shuffle_dataset=False,\n",
    "                                 random_seed=42)"
   ]
  },
  {
   "cell_type": "markdown",
   "metadata": {
    "ExecuteTime": {
     "end_time": "2019-07-27T20:57:25.876787Z",
     "start_time": "2019-07-27T20:57:25.855438Z"
    }
   },
   "source": [
    "### Load Model"
   ]
  },
  {
   "cell_type": "code",
   "execution_count": 24,
   "metadata": {
    "ExecuteTime": {
     "end_time": "2019-09-14T17:15:04.575373Z",
     "start_time": "2019-09-14T17:15:02.372310Z"
    }
   },
   "outputs": [
    {
     "name": "stdout",
     "output_type": "stream",
     "text": [
      "LSTMFFout(\n",
      "  (lstm): LSTM(11, 100, num_layers=3, batch_first=True)\n",
      "  (fc1): Linear(in_features=100, out_features=10, bias=True)\n",
      "  (fc2): Linear(in_features=10001, out_features=10000, bias=True)\n",
      ")\n",
      "LSTMFFout(\n",
      "  (lstm): LSTM(11, 100, num_layers=3, batch_first=True)\n",
      "  (fc1): Linear(in_features=100, out_features=10, bias=True)\n",
      "  (fc2): Linear(in_features=10001, out_features=10000, bias=True)\n",
      ")\n"
     ]
    }
   ],
   "source": [
    "model = torch.load(path_model,\n",
    "                       map_location=device)  # , map_location=device\n",
    "\n",
    "if which_model == 'stack_model_corrector':\n",
    "    corrector = torch.load(path_corrector, \n",
    "                           map_location=device)\n",
    "\n",
    "print(model)\n",
    "if which_model == 'stack_model_psisolver':\n",
    "    print(psisolver)\n",
    "elif which_model == 'stack_model_corrector':\n",
    "    print(corrector)"
   ]
  },
  {
   "cell_type": "code",
   "execution_count": 25,
   "metadata": {
    "ExecuteTime": {
     "end_time": "2019-09-14T17:15:10.662242Z",
     "start_time": "2019-09-14T17:15:10.515093Z"
    }
   },
   "outputs": [
    {
     "name": "stdout",
     "output_type": "stream",
     "text": [
      "True\n",
      "True\n"
     ]
    }
   ],
   "source": [
    "model.to(device)\n",
    "print(next(model.parameters()).is_cuda)\n",
    "if which_model == 'stack_model_psisolver':\n",
    "    psisolver.to(device)\n",
    "    print(next(psisolver.parameters()).is_cuda)\n",
    "elif which_model == 'stack_model_corrector':\n",
    "    corrector.to(device)\n",
    "    print(next(corrector.parameters()).is_cuda)"
   ]
  },
  {
   "cell_type": "markdown",
   "metadata": {},
   "source": [
    "### Evaluation"
   ]
  },
  {
   "cell_type": "code",
   "execution_count": 61,
   "metadata": {
    "ExecuteTime": {
     "end_time": "2019-09-14T17:48:26.872209Z",
     "start_time": "2019-09-14T17:48:26.860938Z"
    }
   },
   "outputs": [],
   "source": [
    "def stacked_model(model, corrector, grid, stepsize, k_n_r, nr_mean, nr_std, ni_mean, ni_std, device):\n",
    "    \n",
    "    ni_pred = model(k_n_r)\n",
    "    \n",
    "    _, _, Int = get_psi(grid,\n",
    "                         stepsize,\n",
    "                         DeNorm(k_n_r, nr_mean, nr_std),\n",
    "                         DeNorm(ni_pred, ni_mean, ni_std),\n",
    "                         Amp=1)\n",
    "    Int = Int.to(device)\n",
    "    \n",
    "    corrector_input = torch.cat((k_n_r[:,0].view(-1,1), Int),dim=1)\n",
    "            \n",
    "    ni_diff_pred = model(corrector_input)\n",
    "    \n",
    "    return DeNorm(ni_pred.cpu().detach().numpy(), ni_mean, ni_std), \\\n",
    "           ni_diff_pred.cpu().detach().numpy(), \\\n",
    "           DeNorm(k_n_r[:,0].cpu().detach().numpy(), nr_mean, nr_std)"
   ]
  },
  {
   "cell_type": "code",
   "execution_count": 40,
   "metadata": {
    "ExecuteTime": {
     "end_time": "2019-09-14T17:36:35.330393Z",
     "start_time": "2019-09-14T17:36:35.325860Z"
    }
   },
   "outputs": [],
   "source": [
    "plt.rcParams['figure.figsize'] = [15, 10]"
   ]
  },
  {
   "cell_type": "code",
   "execution_count": 41,
   "metadata": {
    "ExecuteTime": {
     "end_time": "2019-09-14T17:36:36.222130Z",
     "start_time": "2019-09-14T17:36:36.217650Z"
    }
   },
   "outputs": [],
   "source": [
    "model.eval()\n",
    "if which_model == 'stack_model_corrector':\n",
    "    corrector.eval()"
   ]
  },
  {
   "cell_type": "markdown",
   "metadata": {},
   "source": [
    "The prediction looks like this..."
   ]
  },
  {
   "cell_type": "code",
   "execution_count": 69,
   "metadata": {
    "ExecuteTime": {
     "end_time": "2019-09-14T17:52:08.670281Z",
     "start_time": "2019-09-14T17:52:07.074948Z"
    }
   },
   "outputs": [
    {
     "name": "stdout",
     "output_type": "stream",
     "text": [
      "torch.Size([6, 10000])\n",
      "7.0\n",
      "[[ 1.00468300e-01 -3.77383083e-01  2.58182436e-02 ...  5.96151240e-02\n",
      "   2.33958717e-02  6.18188381e-02]\n",
      " [ 1.03619538e-01 -3.77632141e-01  2.83070169e-02 ...  6.00779653e-02\n",
      "   2.34590434e-02  6.01701960e-02]\n",
      " [ 7.11799320e-03 -1.07260779e-01  1.45202354e-02 ... -6.59783836e-05\n",
      "   3.60176116e-02  1.59250759e-02]\n",
      " [ 2.69735381e-02 -1.96207538e-01  2.26306301e-02 ...  1.51456995e-02\n",
      "   5.31636551e-02  2.86035109e-02]\n",
      " [ 6.52611256e-03 -9.23433080e-02  1.57780033e-02 ... -3.60678369e-03\n",
      "   3.12623307e-02  1.47342710e-02]\n",
      " [ 1.04075717e-02 -1.13069862e-01  1.60838254e-02 ...  6.03010878e-03\n",
      "   3.73238362e-02  9.28580761e-03]]\n",
      "[-1.8189894e-12 -1.8189894e-12 -1.8189894e-12 ... -1.8189894e-12\n",
      " -1.8189894e-12 -1.8189894e-12]\n"
     ]
    },
    {
     "data": {
      "text/plain": [
       "<matplotlib.legend.Legend at 0x7f0e01973e80>"
      ]
     },
     "execution_count": 69,
     "metadata": {},
     "output_type": "execute_result"
    },
    {
     "data": {
      "image/png": "[encoded data removed]",
      "text/plain": [
       "<Figure size 1080x720 with 1 Axes>"
      ]
     },
     "metadata": {
      "needs_background": "light"
     },
     "output_type": "display_data"
    }
   ],
   "source": [
    "item = next(iter(test_loader))\n",
    "\n",
    "k_n_r = item['k_n_r'].to(device)\n",
    "n_i = item['n_i'].to(device)            \n",
    "            \n",
    "ni_pred, ni_diff_pred, k = stacked_model(model, corrector, grid, stepsize, k_n_r, nr_mean_test, nr_std_test, ni_mean_test, ni_std_test, device)\n",
    "\n",
    "#print(ni_pred)\n",
    "#print(ni_diff_pred)\n",
    "ni_corr = ni_pred + ni_diff_pred\n",
    "\n",
    "idx = np.random.randint(len(ni_corr))\n",
    "print(k[idx])\n",
    "\n",
    "print(ni_corr)\n",
    "print(ni)\n",
    "\n",
    "plt.plot(grid, ni_corr[idx], label = 'pred')\n",
    "plt.plot(grid, ni, label = 'label')\n",
    "plt.legend(loc='upper right')\n",
    "            \n",
    "\n",
    "# nr, ni, ni_pred, k = plot_prediction(test_loader,\n",
    "#                                      model,\n",
    "#                                      grid,\n",
    "#                                      nr_mean_test,\n",
    "#                                      nr_std_test,\n",
    "#                                      ni_mean_test,\n",
    "#                                      ni_std_test,\n",
    "#                                      idx=0,\n",
    "#                                      k=None,\n",
    "#                                     device = device)\n",
    "#plt.savefig(path_plots + which_model + '_Prediction.pdf')"
   ]
  },
  {
   "cell_type": "markdown",
   "metadata": {},
   "source": [
    "The intensity with the label potential like this..."
   ]
  },
  {
   "cell_type": "code",
   "execution_count": null,
   "metadata": {
    "ExecuteTime": {
     "start_time": "2019-09-12T19:57:00.393Z"
    }
   },
   "outputs": [],
   "source": [
    "Int = plot_psi(grid, stepsize, n=nr + 1j * ni, Amp=1, k=k)"
   ]
  },
  {
   "cell_type": "markdown",
   "metadata": {},
   "source": [
    "And the intensity with the predicted potential like this..."
   ]
  },
  {
   "cell_type": "code",
   "execution_count": null,
   "metadata": {
    "ExecuteTime": {
     "start_time": "2019-09-12T19:57:00.396Z"
    }
   },
   "outputs": [],
   "source": [
    "Int_pred = plot_psi(grid, stepsize, n=nr + 1j * ni_pred, Amp=1, k=k)\n",
    "#plt.savefig(path_plots + which_model + '_CI.pdf')"
   ]
  },
  {
   "cell_type": "markdown",
   "metadata": {},
   "source": [
    "The differences between the predicted potentials and intensities like this..."
   ]
  },
  {
   "cell_type": "code",
   "execution_count": null,
   "metadata": {
    "ExecuteTime": {
     "start_time": "2019-09-12T19:57:00.399Z"
    }
   },
   "outputs": [],
   "source": [
    "plt.plot(ni_pred - ni, label='ni diff')\n",
    "plt.plot(Int_pred - Int, label='Int diff')\n",
    "plt.legend(loc='upper right')\n",
    "#plt.savefig(path_plots + which_model + '_Diff.pdf')"
   ]
  },
  {
   "cell_type": "markdown",
   "metadata": {},
   "source": [
    "The label intensity vs the predicted"
   ]
  },
  {
   "cell_type": "code",
   "execution_count": null,
   "metadata": {
    "ExecuteTime": {
     "start_time": "2019-09-12T19:57:00.402Z"
    }
   },
   "outputs": [],
   "source": [
    "plt.plot(Int - 1, label='Int')\n",
    "plt.plot(Int_pred - 1, label='Int pred')\n",
    "plt.legend(loc='upper right')"
   ]
  },
  {
   "cell_type": "markdown",
   "metadata": {},
   "source": [
    "### Test"
   ]
  },
  {
   "cell_type": "code",
   "execution_count": null,
   "metadata": {
    "ExecuteTime": {
     "start_time": "2019-09-12T19:57:00.405Z"
    }
   },
   "outputs": [],
   "source": [
    "plt.rcParams['figure.figsize'] = [15, 10]"
   ]
  },
  {
   "cell_type": "code",
   "execution_count": null,
   "metadata": {
    "ExecuteTime": {
     "start_time": "2019-09-12T19:57:00.408Z"
    }
   },
   "outputs": [],
   "source": [
    "# numerov wave to just nr (what about the intensity? it shouldnt be wave-y)\n",
    "\n",
    "idx = np.random.randint(8)\n",
    "\n",
    "item = next(iter(test_loader))\n",
    "\n",
    "knr = item['k_n_r'].to(device)\n",
    "print('knr: ', knr.size())\n",
    "ni_pred = model(knr)[idx]\n",
    "print('ni_pred: ', ni_pred.size())\n",
    "\n",
    "nr = knr[idx]\n",
    "print('nr: ', nr.size())\n",
    "\n",
    "k = DeNorm(knr[idx][0].cpu().numpy(), nr_mean_test, nr_std_test)\n",
    "print(k)\n",
    "n = DeNorm(nr.cpu().numpy(), nr_mean_test, nr_std_test)  # + 1j*ni_pred.detach().numpy()\n",
    "plot_psi(grid, stepsize, n, Amp=1, k=k, plot=True)\n",
    "\n",
    "plt.savefig(path_plots + '_onlynr.pdf')"
   ]
  },
  {
   "cell_type": "markdown",
   "metadata": {},
   "source": [
    "### Test"
   ]
  },
  {
   "cell_type": "code",
   "execution_count": null,
   "metadata": {
    "ExecuteTime": {
     "start_time": "2019-09-12T19:57:00.423Z"
    }
   },
   "outputs": [],
   "source": [
    "idx = np.random.randint(3000)\n",
    "print(idx)\n",
    "\n",
    "data = initial_dataset_test[idx]['k_n_r'].view(1, -1).to(device)\n",
    "out = model(data)\n",
    "label = initial_dataset_test[idx]['n_i'].to(device)\n",
    "\n",
    "criterion = torch.nn.MSELoss()\n",
    "print(criterion(out[0], label).item() * 8)\n",
    "\n",
    "plt.plot(grid,\n",
    "         DeNorm(data[0][1:].detach().cpu().numpy(), nr_mean_test, nr_std_test),\n",
    "         label='nr')\n",
    "plt.plot(grid,\n",
    "         DeNorm(out[0].detach().cpu().numpy(), ni_mean_test, ni_std_test),\n",
    "         label='ni_pred')\n",
    "plt.plot(grid,\n",
    "         DeNorm(label.detach().cpu().numpy(), ni_mean_test, ni_std_test),\n",
    "         label='ni_label')\n",
    "plt.legend(loc='upper left')\n",
    "plt.show"
   ]
  },
  {
   "cell_type": "code",
   "execution_count": null,
   "metadata": {
    "ExecuteTime": {
     "start_time": "2019-09-12T19:57:00.425Z"
    }
   },
   "outputs": [],
   "source": [
    "# predict ni for other k - does that work...?\n",
    "\n",
    "idx = np.random.randint(6)\n",
    "print('idx: ', idx)\n",
    "\n",
    "item = next(iter(test_loader))\n",
    "\n",
    "knr = item['k_n_r'].to(device)\n",
    "print('knr: ', knr)\n",
    "\n",
    "ni = DeNorm(item['n_i'][idx].detach().cpu().numpy(), ni_mean_test, ni_std_test)\n",
    "k_real = DeNorm(knr[idx][0].detach().cpu().numpy(), nr_mean_test, nr_std_test)\n",
    "print('real k: ', k_real)\n",
    "\n",
    "k_new = 1  #np.random.randint(1,11) # np.around(k_real)\n",
    "print('new k: ', k_new)\n",
    "\n",
    "knr[:, 0] = (k_new - nr_mean_test) / nr_std_test  # normalize\n",
    "print('knr: ', knr)\n",
    "\n",
    "ni_pred = model(knr)[idx]\n",
    "#print('ni_pred: ', ni_pred.size())\n",
    "\n",
    "#print('new k normalized: ',knr[idx][0].cpu().numpy())\n",
    "k = knr[idx][0].cpu().numpy()\n",
    "#print('new k: ', k*nr_std + nr_mean)\n",
    "nr = DeNorm(knr[idx].cpu().numpy(), nr_mean_test, nr_std_test)[1:]\n",
    "ni_pred = DeNorm(ni_pred.detach().cpu().numpy(), ni_mean_test, ni_std_test)\n",
    "n = nr + 1j * ni_pred\n",
    "Int_pred = plot_psi(grid, stepsize, n, Amp=1, k=k_new, plot=True)\n",
    "#Int_pred = plot_psi(grid, stepsize, n, Amp=1, k=k_real, plot = True)\n",
    "#plt.plot(grid, ni_pred, label='ni')\n",
    "plt.plot(grid, ni, label='ni label')\n",
    "plt.legend(loc='upper left')\n",
    "\n",
    "plt.savefig(path_plots + which_model + '_differentk.pdf')\n",
    "\n",
    "print('max Int: ', np.max(Int_pred))\n",
    "print('min Int: ', np.min(Int_pred))"
   ]
  },
  {
   "cell_type": "markdown",
   "metadata": {},
   "source": [
    "### Treshold CI Check"
   ]
  },
  {
   "cell_type": "code",
   "execution_count": null,
   "metadata": {
    "ExecuteTime": {
     "start_time": "2019-09-12T19:57:00.428Z"
    }
   },
   "outputs": [],
   "source": [
    "# check for all in testset deviation without ni\n",
    "\n",
    "Amp = 1\n",
    "hermit_mean_refl_dev = np.zeros(10)  #tresh, k_real\n",
    "hermit_mean_max_dev = np.zeros(10)\n",
    "hermit_how_many_k = np.zeros(10)\n",
    "\n",
    "for j, batch in enumerate(test_loader):\n",
    "\n",
    "    knrs = batch['k_n_r'].to(device)\n",
    "    nis = batch['n_i'].to(device)\n",
    "    for knr, ni in zip(knrs, nis):\n",
    "        k = int(\n",
    "            np.around(\n",
    "                DeNorm(knr[0].detach().cpu().numpy(), nr_mean_test,\n",
    "                       nr_std_test)))\n",
    "\n",
    "        hermit_how_many_k[k - 1] += 1\n",
    "\n",
    "        nr = DeNorm(knr[1:].detach().cpu().numpy(), nr_mean_test, nr_std_test)\n",
    "\n",
    "        Int = plot_psi(grid, stepsize, n=nr, Amp=Amp, k=k, plot=False)\n",
    "\n",
    "        rel_err_refl = np.max((np.abs(Int[-2000:] - Amp) / Amp)) # only reflections\n",
    "        rel_err = np.max((np.abs(Int - Amp) / Amp))  # all of it\n",
    "\n",
    "        hermit_mean_refl_dev[k - 1] += rel_err_refl\n",
    "        hermit_mean_max_dev[k - 1] += rel_err\n",
    "        \n",
    "    if j % 10 == 0:\n",
    "        print('{}/{}'.format(j, len(test_loader))\n",
    "              \n",
    "hermit_mean_refl_dev = hermit_mean_refl_dev / hermit_how_many_k\n",
    "hermit_mean_max_dev = hermit_mean_max_dev / hermit_how_many_k"
   ]
  },
  {
   "cell_type": "code",
   "execution_count": null,
   "metadata": {
    "ExecuteTime": {
     "start_time": "2019-09-12T19:57:00.431Z"
    }
   },
   "outputs": [],
   "source": [
    "plot_intensity_bars(list(range(1,11)), hermit_mean_max_dev,\n",
    "                    path_plots + 'bars_hermitean_dev_max.pdf')\n",
    "plot_intensity_bars(list(range(1,11)), hermit_mean_refl_dev,\n",
    "                    path_plots + 'bars_hermitean_dev_refl.pdf')"
   ]
  },
  {
   "cell_type": "code",
   "execution_count": null,
   "metadata": {
    "ExecuteTime": {
     "start_time": "2019-09-12T19:57:00.436Z"
    }
   },
   "outputs": [],
   "source": [
    "# check for all in testset deviation with ni label\n",
    "\n",
    "Amp = 1\n",
    "nilabel_mean_max_dev = np.zeros(10)\n",
    "nilabel_how_many_k = np.zeros(10)\n",
    "\n",
    "for j, batch in enumerate(test_loader):\n",
    "\n",
    "    knrs = batch['k_n_r'].to(device)\n",
    "    nis = batch['n_i'].to(device)\n",
    "    for knr, ni in zip(knrs, nis):\n",
    "        k = int(\n",
    "            np.around(\n",
    "                DeNorm(knr[0].detach().cpu().numpy(), nr_mean_test,\n",
    "                       nr_std_test)))\n",
    "\n",
    "        nilabel_how_many_k[k - 1] += 1\n",
    "\n",
    "        nr = DeNorm(knr[1:].detach().cpu().numpy(), nr_mean_test, nr_std_test)\n",
    "        ni = DeNorm(ni.cpu().numpy(), ni_mean_test, ni_std_test)\n",
    "        \n",
    "        Int = plot_psi(grid, stepsize, n=nr+1j*ni, Amp=Amp, k=k, plot=False)\n",
    "\n",
    "        rel_err = np.max((np.abs(Int - Amp) / Amp))  # all of it\n",
    "\n",
    "        nilabel_mean_max_dev[k - 1] += rel_err\n",
    "        \n",
    "    if j % 10 == 0:\n",
    "        print('{}/{}'.format(j, len(test_loader))\n",
    "              \n",
    "nilabel_mean_max_dev = nilabel_mean_max_dev / nilabel_how_many_k"
   ]
  },
  {
   "cell_type": "code",
   "execution_count": null,
   "metadata": {
    "ExecuteTime": {
     "start_time": "2019-09-12T19:57:00.439Z"
    }
   },
   "outputs": [],
   "source": [
    "plot_intensity_bars(list(range(1,11)), nilabel_mean_max_dev,\n",
    "                    path_plots + 'bars_nilabel_dev_max.pdf')"
   ]
  },
  {
   "cell_type": "code",
   "execution_count": null,
   "metadata": {
    "ExecuteTime": {
     "start_time": "2019-09-12T19:57:00.444Z"
    }
   },
   "outputs": [],
   "source": [
    "# check for all in testset deviation with ni pred\n",
    "\n",
    "Amp = 1\n",
    "nipred_mean_max_dev = np.zeros(10)\n",
    "nipred_how_many_k = np.zeros(10)\n",
    "\n",
    "for j, batch in enumerate(test_loader):\n",
    "\n",
    "    knrs = batch['k_n_r'].to(device)\n",
    "    nis = batch['n_i'].to(device)\n",
    "    for knr, ni in zip(knrs, nis):\n",
    "        k = int(\n",
    "            np.around(\n",
    "                DeNorm(knr[0].detach().cpu().numpy(), nr_mean_test,\n",
    "                       nr_std_test)))\n",
    "\n",
    "        nipred_how_many_k[k - 1] += 1\n",
    "\n",
    "        ni_pred = model(knr.view(1, -1))[0]     \n",
    "        \n",
    "        nr = DeNorm(knr[1:].detach().cpu().numpy(), nr_mean_test, nr_std_test)       \n",
    "        ni_pred = DeNorm(ni_pred.detach().cpu().numpy(), ni_mean_test,\n",
    "                         ni_std_test)\n",
    "\n",
    "        Int_pred = plot_psi(grid,\n",
    "                            stepsize,\n",
    "                            n=nr + 1j * ni_pred,\n",
    "                            Amp=Amp,\n",
    "                            k=k,\n",
    "                            plot=False)\n",
    "\n",
    "        rel_err = np.max((np.abs(Int_pred - Amp) / Amp))  # all of it\n",
    "\n",
    "        nipred_mean_max_dev[k - 1] += rel_err\n",
    "        \n",
    "    if j % 10 == 0:\n",
    "        print('{}/{}'.format(j, len(test_loader))\n",
    "              \n",
    "nipred_mean_max_dev = nipred_mean_max_dev / nipred_how_many_k"
   ]
  },
  {
   "cell_type": "code",
   "execution_count": null,
   "metadata": {
    "ExecuteTime": {
     "start_time": "2019-09-12T19:57:00.446Z"
    }
   },
   "outputs": [],
   "source": [
    "plot_intensity_bars(list(range(1,11)), nipred_mean_max_dev,\n",
    "                    path_plots + 'bars_nipred_dev_max.pdf')"
   ]
  },
  {
   "cell_type": "code",
   "execution_count": null,
   "metadata": {
    "ExecuteTime": {
     "start_time": "2019-09-12T19:57:00.451Z"
    }
   },
   "outputs": [],
   "source": [
    "# check for all in testset with random k deviation\n",
    "\n",
    "Amp = 1\n",
    "diffk_mean_max_dev = np.zeros([10,10])\n",
    "diffk_how_many_k = np.zeros([10,10])\n",
    "\n",
    "for j, batch in enumerate(test_loader):\n",
    "\n",
    "    knrs = batch['k_n_r'].to(device)\n",
    "    nis = batch['n_i'].to(device)\n",
    "    for knr, ni in zip(knrs, nis):\n",
    "        k = int(\n",
    "            np.around(\n",
    "                DeNorm(knr[0].detach().cpu().numpy(), nr_mean_test,\n",
    "                       nr_std_test)))\n",
    "\n",
    "        diffk_how_many_k[k_real - 1, k_new - 1] += 1\n",
    "\n",
    "        ni_pred = model(knr.view(1, -1))[0]     \n",
    "        \n",
    "        nr = DeNorm(knr[1:].detach().cpu().numpy(), nr_mean_test, nr_std_test)       \n",
    "        ni_pred = DeNorm(ni_pred.detach().cpu().numpy(), ni_mean_test,\n",
    "                         ni_std_test)\n",
    "\n",
    "        Int_pred = plot_psi(grid,\n",
    "                            stepsize,\n",
    "                            n=nr + 1j * ni_pred,\n",
    "                            Amp=Amp,\n",
    "                            k=k,\n",
    "                            plot=False)\n",
    "\n",
    "        rel_err = np.max((np.abs(Int_pred - Amp) / Amp))  # all of it\n",
    "\n",
    "        diffk_mean_max_dev[k_real - 1, k_new - 1] += rel_err\n",
    "        \n",
    "    if j % 10 == 0:\n",
    "        print('{}/{}'.format(j, len(test_loader))\n",
    "              \n",
    "diffk_mean_max_dev = diffk_mean_max_dev / diffk_how_many_k"
   ]
  },
  {
   "cell_type": "code",
   "execution_count": null,
   "metadata": {
    "ExecuteTime": {
     "start_time": "2019-09-12T19:57:00.454Z"
    }
   },
   "outputs": [],
   "source": [
    "sum_over_dev = np.zeros(len(diffk_mean_max_dev))\n",
    "for i in range(len(sum_over_dev)):\n",
    "    sum_over_dev[i] = int(np.sum(nipred_mean_max_dev[:,i])) # sum over all initial k\n",
    "\n",
    "plot_intensity_bars(list(range(1,11)), sum_over_dev,\n",
    "                    path_plots + 'bars_diffk_dev_max.pdf')"
   ]
  },
  {
   "cell_type": "code",
   "execution_count": null,
   "metadata": {
    "ExecuteTime": {
     "start_time": "2019-09-12T19:57:00.460Z"
    }
   },
   "outputs": [],
   "source": [
    "# map for the frequencies\n",
    "\n",
    "k_real = list(range(1, 11))\n",
    "k_new = list(range(1, 11))\n",
    "\n",
    "textcolors = [\"black\", \"white\"]\n",
    "textcolor_tresh = np.max(diffk_mean_max_dev) / 2\n",
    "\n",
    "fig, ax = plt.subplots()\n",
    "im = ax.imshow(diffk_mean_max_dev)\n",
    "\n",
    "# We want to show all ticks...\n",
    "ax.set_xticks(np.arange(len(k_new)))\n",
    "ax.set_yticks(np.arange(len(k_real)))\n",
    "# ... and label them with the respective list entries\n",
    "ax.set_xticklabels(k_new)\n",
    "ax.set_yticklabels(k_real)\n",
    "\n",
    "# Rotate the tick labels and set their alignment.\n",
    "plt.setp(ax.get_xticklabels(), rotation=45, ha=\"right\", rotation_mode=\"anchor\")\n",
    "\n",
    "# Loop over data dimensions and create text annotations.\n",
    "for i in range(len(k_real)):\n",
    "    for j in range(len(k_new)):\n",
    "        text = ax.text(j,\n",
    "                       i,\n",
    "                       np.around(diffk_mean_max_dev[i, j], decimals=2),\n",
    "                       ha=\"center\",\n",
    "                       va=\"center\",\n",
    "                       color=textcolors[int(diffk_mean_max_dev[i, j] < textcolor_tresh)])\n",
    "\n",
    "ax.set_title(\n",
    "    \"Mean of Maximal Deviation from  CI (x...k_new, y...k_real)\")\n",
    "fig.tight_layout()\n",
    "plt.savefig(path_plots + which_model + '_MeanMaxDev.pdf')\n",
    "plt.show()"
   ]
  },
  {
   "cell_type": "markdown",
   "metadata": {},
   "source": [
    "### Reflections"
   ]
  },
  {
   "cell_type": "code",
   "execution_count": null,
   "metadata": {},
   "outputs": [],
   "source": [
    "def R(psi_xmin1, psi_x0, deltax, k):\n",
    "    return np.abs(psi_xmin1 - psi_x0*np.exp(1j*k*deltax))**2 / np.abs(psi_x0*np.exp(-1j*k*deltax) - psi_xmin1)**2"
   ]
  },
  {
   "cell_type": "code",
   "execution_count": null,
   "metadata": {},
   "outputs": [],
   "source": [
    "def T(psi_xmin1, psi_x0, deltax, k):\n",
    "    return 0.5*np.sin(k*deltax)**2 / np.abs(psi_x0*np.exp(-1j*k*deltax) - psi_xmin1)**2"
   ]
  },
  {
   "cell_type": "code",
   "execution_count": null,
   "metadata": {},
   "outputs": [],
   "source": [
    "def get_R_T(n, k, grid, stepsize):\n",
    "    "
   ]
  }
 ],
 "metadata": {
  "kernelspec": {
   "display_name": "Python 3",
   "language": "python",
   "name": "python3"
  },
  "language_info": {
   "codemirror_mode": {
    "name": "ipython",
    "version": 3
   },
   "file_extension": ".py",
   "mimetype": "text/x-python",
   "name": "python",
   "nbconvert_exporter": "python",
   "pygments_lexer": "ipython3",
   "version": "3.7.3"
  },
  "toc": {
   "base_numbering": 1,
   "nav_menu": {},
   "number_sections": true,
   "sideBar": true,
   "skip_h1_title": false,
   "title_cell": "Table of Contents",
   "title_sidebar": "Contents",
   "toc_cell": false,
   "toc_position": {
    "height": "calc(100% - 180px)",
    "left": "10px",
    "top": "150px",
    "width": "267.6px"
   },
   "toc_section_display": true,
   "toc_window_display": false
  },
  "varInspector": {
   "cols": {
    "lenName": 16,
    "lenType": 16,
    "lenVar": 40
   },
   "kernels_config": {
    "python": {
     "delete_cmd_postfix": "",
     "delete_cmd_prefix": "del ",
     "library": "var_list.py",
     "varRefreshCmd": "print(var_dic_list())"
    },
    "r": {
     "delete_cmd_postfix": ") ",
     "delete_cmd_prefix": "rm(",
     "library": "var_list.r",
     "varRefreshCmd": "cat(var_dic_list()) "
    }
   },
   "position": {
    "height": "713.85px",
    "left": "1375px",
    "right": "20px",
    "top": "144px",
    "width": "354px"
   },
   "types_to_exclude": [
    "module",
    "function",
    "builtin_function_or_method",
    "instance",
    "_Feature"
   ],
   "window_display": false
  }
 },
 "nbformat": 4,
 "nbformat_minor": 2
}
